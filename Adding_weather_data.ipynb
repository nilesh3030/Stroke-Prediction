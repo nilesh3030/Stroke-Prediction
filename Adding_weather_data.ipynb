{
  "nbformat": 4,
  "nbformat_minor": 0,
  "metadata": {
    "colab": {
      "private_outputs": true,
      "provenance": [],
      "authorship_tag": "ABX9TyNHGs7jBhbZYfSVCCq/AUen",
      "include_colab_link": true
    },
    "kernelspec": {
      "name": "python3",
      "display_name": "Python 3"
    },
    "language_info": {
      "name": "python"
    },
    "accelerator": "GPU",
    "gpuClass": "standard"
  },
  "cells": [
    {
      "cell_type": "markdown",
      "metadata": {
        "id": "view-in-github",
        "colab_type": "text"
      },
      "source": [
        "<a href=\"https://colab.research.google.com/github/nilesh3030/Stroke-Prediction/blob/main/Adding_weather_data.ipynb\" target=\"_parent\"><img src=\"https://colab.research.google.com/assets/colab-badge.svg\" alt=\"Open In Colab\"/></a>"
      ]
    },
    {
      "cell_type": "code",
      "execution_count": null,
      "metadata": {
        "id": "jR5TeV4cB2wC"
      },
      "outputs": [],
      "source": [
        "from google.colab import drive\n",
        "drive.mount('/content/drive')"
      ]
    },
    {
      "cell_type": "code",
      "source": [
        "import pandas as pd\n",
        "import numpy as np\n",
        "\n",
        "pd.set_option ('display.max_columns', None)\n",
        "pd.set_option ('display.max_rows', None)\n",
        "\n",
        "raw_data = pd.read_csv('/content/drive/MyDrive/Stroke_Prediction/Data/stroke_case.csv', low_memory = False)\n",
        "\n",
        "nearest_branch_super = pd.read_csv('/content/drive/MyDrive/Stroke_Prediction/Data/Nearest_Branch_Data.csv', encoding = 'euc_kr')\n",
        "\n",
        "weather_data = pd.read_csv('/content/drive/MyDrive/Stroke_Prediction/Data/OBS_AWS_TIM_20221006143609.csv', encoding = 'euc_kr')"
      ],
      "metadata": {
        "id": "pDzuJYzcPImS"
      },
      "execution_count": null,
      "outputs": []
    },
    {
      "cell_type": "markdown",
      "source": [
        "#Processing the weather data"
      ],
      "metadata": {
        "id": "19egvYuTlAj_"
      }
    },
    {
      "cell_type": "code",
      "source": [
        "weather_data.columns = ['Branch_code', 'Branch_name', 'Date_time', 'Temperature', 'Wind_Speed(m/s)', 'Precipitation(mm)', 'Pressure(hPa)', 'Humidity(%)']"
      ],
      "metadata": {
        "id": "pb478GQ_XH-p"
      },
      "execution_count": null,
      "outputs": []
    },
    {
      "cell_type": "code",
      "source": [
        "weather_data['Date_time'] = pd.to_datetime(weather_data['Date_time']).dt.strftime('%Y-%m-%d %H')"
      ],
      "metadata": {
        "id": "tVz6ltcXdC-j"
      },
      "execution_count": null,
      "outputs": []
    },
    {
      "cell_type": "code",
      "source": [
        "weather_data.head()"
      ],
      "metadata": {
        "id": "8O8TMCp5dNZt"
      },
      "execution_count": null,
      "outputs": []
    },
    {
      "cell_type": "markdown",
      "source": [
        "#Processing the Nearest Barnch data"
      ],
      "metadata": {
        "id": "ZJfhFvDPlKZM"
      }
    },
    {
      "cell_type": "code",
      "source": [
        "print(nearest_branch_super.shape)\n",
        "nearest_branch_super.head()"
      ],
      "metadata": {
        "id": "nohSfeo1RQhp"
      },
      "execution_count": null,
      "outputs": []
    },
    {
      "cell_type": "code",
      "source": [
        "nearest_branch_super.columns"
      ],
      "metadata": {
        "id": "9bIeEAG4RtFV"
      },
      "execution_count": null,
      "outputs": []
    },
    {
      "cell_type": "code",
      "source": [
        "vars = ['jaenan_sn','call_d', 'call_t', 'latitude', 'longitude', 'Branch Name', 'Latitude', 'Longitude']\n",
        "nearest_branch = nearest_branch_super[vars]\n",
        "\n",
        "#'latitude', 'longitude' are the locations for the address i.e. patient location\n",
        "# 'Latitude', 'Longitude' are location respective to branch address"
      ],
      "metadata": {
        "id": "DJP7MEMmRvFv"
      },
      "execution_count": null,
      "outputs": []
    },
    {
      "cell_type": "code",
      "source": [
        "convert_dict = {'call_d': str,\n",
        "                'call_t': str}\n",
        " \n",
        "nearest_branch = nearest_branch.astype(convert_dict)\n",
        "\n",
        "nearest_branch[\"Datetime_patient\"] = nearest_branch[\"call_d\"] + nearest_branch[\"call_t\"]"
      ],
      "metadata": {
        "id": "tKMJL4koSYCP"
      },
      "execution_count": null,
      "outputs": []
    },
    {
      "cell_type": "code",
      "source": [
        "def convert_datetime(row):\n",
        "  try:\n",
        "    if len(row['Datetime_patient']) == 11 or len(row['Datetime_patient']) == 12:\n",
        "      return(pd.to_datetime(row['Datetime_patient'], format = '%Y%m%d%H%M'))\n",
        "  except: \n",
        "    return(np.nan)\n",
        "\n",
        "\n",
        "nearest_branch['Datetime_converted'] = nearest_branch.apply(lambda row: convert_datetime(row), axis=1)"
      ],
      "metadata": {
        "id": "6ltTVBUOVDXe"
      },
      "execution_count": null,
      "outputs": []
    },
    {
      "cell_type": "code",
      "source": [
        "nearest_branch['Datetime_converted'] = nearest_branch['Datetime_converted'].dt.strftime('%Y-%m-%d %H')"
      ],
      "metadata": {
        "id": "ivaLO-mLbmq2"
      },
      "execution_count": null,
      "outputs": []
    },
    {
      "cell_type": "code",
      "source": [
        "nearest_branch.head()"
      ],
      "metadata": {
        "id": "1qSc0o63UYlj"
      },
      "execution_count": null,
      "outputs": []
    },
    {
      "cell_type": "markdown",
      "source": [
        "#Combining weather and nearest-branch data"
      ],
      "metadata": {
        "id": "51IBkwDWlQXX"
      }
    },
    {
      "cell_type": "code",
      "source": [
        "new_df = pd.merge(nearest_branch, weather_data,  how='left', left_on=['Branch Name','Datetime_converted'], right_on = ['Branch_name','Date_time'])"
      ],
      "metadata": {
        "id": "Ew6PwCUYiA-W"
      },
      "execution_count": null,
      "outputs": []
    },
    {
      "cell_type": "code",
      "source": [
        "print(new_df.shape)\n",
        "new_df.head()"
      ],
      "metadata": {
        "id": "HVZ7qdWTij5S"
      },
      "execution_count": null,
      "outputs": []
    },
    {
      "cell_type": "code",
      "source": [
        "clean_data_with_weather_variables = new_df.dropna()\n",
        "clean_data_with_weather_variables.shape"
      ],
      "metadata": {
        "id": "rYPYL30Akecd"
      },
      "execution_count": null,
      "outputs": []
    },
    {
      "cell_type": "markdown",
      "source": [
        "#Filtering the raw data and adding the cleaned weather data"
      ],
      "metadata": {
        "id": "29YIVfwblaju"
      }
    },
    {
      "cell_type": "code",
      "source": [
        "# There are many junk columns that have been added so we will remove all of them \n",
        "raw_data = raw_data.loc[:,:'pti2']\n",
        "print(raw_data.shape)"
      ],
      "metadata": {
        "id": "o4QSJYHikmzB"
      },
      "execution_count": null,
      "outputs": []
    },
    {
      "cell_type": "code",
      "source": [
        "cat_vars_final = ['cv_cc',\n",
        "'cv_etc',\n",
        "'cv2_cc',\n",
        "'cv2_phx_yn',\n",
        "'cv2_act',\n",
        "'sex',\n",
        "'sx1',\n",
        "'sx2',\n",
        "'sx3',\n",
        "'sx4',\n",
        "'sx5',\n",
        "'medical_history',\n",
        "'stroke',\n",
        "'obstacle2',\n",
        "'cv2_cphss']"
      ],
      "metadata": {
        "id": "xQAA_EHPl6GZ"
      },
      "execution_count": null,
      "outputs": []
    },
    {
      "cell_type": "code",
      "source": [
        "# final numerical variables based on our selection\n",
        "num_vars_final = ['jaenan_sn', 'age',\n",
        "'dbp1',\n",
        "'sbp1',\n",
        "'pr1',\n",
        "'rr1',\n",
        "'bt1',\n",
        "'spo2_1',\n",
        "'dbp2',\n",
        "'sbp2',\n",
        "'pr2',\n",
        "'rr2',\n",
        "'bt2',\n",
        "'spo2_2']"
      ],
      "metadata": {
        "id": "fqhlZerRmqBz"
      },
      "execution_count": null,
      "outputs": []
    },
    {
      "cell_type": "code",
      "source": [
        "final_variables = []\n",
        "for var in cat_vars_final:\n",
        "  final_variables.append(var)\n",
        "\n",
        "for var in num_vars_final:\n",
        "  final_variables.append(var)"
      ],
      "metadata": {
        "id": "OsuPe46Pmsjo"
      },
      "execution_count": null,
      "outputs": []
    },
    {
      "cell_type": "code",
      "source": [
        "filtered_data = raw_data[final_variables]\n",
        "filtered_data.shape"
      ],
      "metadata": {
        "id": "LijI5INNmt22"
      },
      "execution_count": null,
      "outputs": []
    },
    {
      "cell_type": "markdown",
      "source": [
        "# Joining the final data with the cleaned weather data"
      ],
      "metadata": {
        "id": "6lTGhw0ZngC_"
      }
    },
    {
      "cell_type": "code",
      "source": [
        "final_data = pd.merge(filtered_data, clean_data_with_weather_variables,  how='inner', on = 'jaenan_sn')"
      ],
      "metadata": {
        "id": "0KJ44CTpnP9x"
      },
      "execution_count": null,
      "outputs": []
    },
    {
      "cell_type": "code",
      "source": [
        "print(final_data.shape)\n",
        "final_data.head()"
      ],
      "metadata": {
        "id": "xpLlJ6zen9tV"
      },
      "execution_count": null,
      "outputs": []
    },
    {
      "cell_type": "markdown",
      "source": [
        "#Translating and cleaning the final data"
      ],
      "metadata": {
        "id": "6GjR2tJXoKN1"
      }
    },
    {
      "cell_type": "code",
      "source": [
        "!pip install googletrans==4.0.0-rc1"
      ],
      "metadata": {
        "id": "gvtRteaqmMxC"
      },
      "execution_count": null,
      "outputs": []
    },
    {
      "cell_type": "code",
      "source": [
        "from googletrans import Translator\n",
        "\n",
        "translator = Translator()\n",
        "translations = {}\n",
        "for column in cat_vars_final:\n",
        "    unique = final_data[column].unique()\n",
        "    for element in unique:\n",
        "        translations[element] = translator.translate(element).text\n"
      ],
      "metadata": {
        "id": "EmgmsCIal__t"
      },
      "execution_count": null,
      "outputs": []
    },
    {
      "cell_type": "code",
      "source": [
        "translations.pop(np.nan)\n",
        "\n",
        "### Updating the incorrect translations in the translation dictionary\n",
        "\n",
        "translations.update({'심,뇌혈관계':'Heart, cerebrovascular',\n",
        "'발음이상':'strange pronunciation',\n",
        "'사지 저림':'numb feet and arms',\n",
        "'음성':'negative',\n",
        "'양성':'positive',\n",
        "'남':'male',\n",
        "'어지러움':'Dizziness',\n",
        "'전신쇠약':'body weekness',\n",
        "'오심':'misdiagnosis',\n",
        "'심계항진':'Palpitations',\n",
        "'질출혈':'Vaginal blooding'})\n",
        "\n",
        "final_data.replace(translations, inplace=True)"
      ],
      "metadata": {
        "id": "4LNpcWY8mQzP"
      },
      "execution_count": null,
      "outputs": []
    },
    {
      "cell_type": "code",
      "source": [
        "vars = ['positive', 'negative']\n",
        "final_data = final_data.loc[final_data['cv2_cphss'].isin(vars)]\n",
        "\n",
        "final_data.shape"
      ],
      "metadata": {
        "id": "QnmyklqUmeER"
      },
      "execution_count": null,
      "outputs": []
    },
    {
      "cell_type": "code",
      "source": [
        "#Replacing the target varibles with 0, 1 \n",
        "final_data['cv2_cphss'].replace(vars , [1, 0], inplace=True)"
      ],
      "metadata": {
        "id": "ThEyYlx2m6V9"
      },
      "execution_count": null,
      "outputs": []
    },
    {
      "cell_type": "code",
      "source": [
        "# we will replace the junk values with the nan\n",
        "replace_values = {999.0 : np.nan, 999.9 : np.nan, 943.0 : np.nan, 9999.0 : np.nan, 7777.0 : np.nan, 6666.0 : np.nan, 770.0 : np.nan} \n",
        "final_data = final_data.replace(replace_values)"
      ],
      "metadata": {
        "id": "18cBZUufol5W"
      },
      "execution_count": null,
      "outputs": []
    },
    {
      "cell_type": "code",
      "source": [
        "null_variables = round((final_data.isna().sum()/len(final_data))*100,2)\n",
        "#null_variables"
      ],
      "metadata": {
        "id": "HdhtIr85oqLl"
      },
      "execution_count": null,
      "outputs": []
    },
    {
      "cell_type": "code",
      "source": [
        "def spasm(row):  \n",
        "    if row['sx1'] == 'Spasm/seizure' or row['sx2'] == 'Spasm/seizure' or row['sx3'] == 'Spasm/seizure' or row['sx4'] == 'Spasm/seizure' or row['sx5'] == 'Spasm/seizure':\n",
        "        return 1\n",
        "    return 0\n",
        "\n",
        "def dizziness(row):  \n",
        "    if row['sx1'] == 'Dizziness' or row['sx2'] == 'Dizziness' or row['sx3'] == 'Dizziness' or row['sx4'] == 'Dizziness' or row['sx5'] == 'Dizziness':\n",
        "        return 1\n",
        "    return 0\n",
        "\n",
        "def faint(row):  \n",
        "    if row['sx1'] == 'faint' or row['sx2'] == 'faint' or row['sx3'] == 'faint' or row['sx4'] == 'faint' or row['sx5'] == 'faint':\n",
        "        return 1\n",
        "    return 0\n",
        "\n",
        "def consciousness(row):  \n",
        "    if row['sx1'] == 'Consciousness' or row['sx2'] == 'Consciousness' or row['sx3'] == 'Consciousness' or row['sx4'] == 'Consciousness' or row['sx5'] == 'Consciousness':\n",
        "        return 1\n",
        "    return 0\n",
        "\n",
        "def paralysis(row):  \n",
        "    if row['sx1'] == 'paralysis' or row['sx2'] == 'paralysis' or row['sx3'] == 'paralysis' or row['sx4'] == 'paralysis' or row['sx5'] == 'paralysis':\n",
        "        return 1\n",
        "    return 0\n",
        "\n",
        "def disease_history(row):  \n",
        "    if row['hypertension'] == 'Yes' or row['diabetes'] == 'Yes' or row['chest_disease'] == 'Yes' or row['heart_disease'] == 'Yes' or row['tuberculosis'] == 'Yes'or row['hepatitis'] == 'Yes' or row['liver'] == 'Yes' or row['allergy'] == 'Yes' or row['cancer'] == 'Yes' or row['renal_failure'] == 'Yes':\n",
        "        return 1\n",
        "    return 0\n",
        "\n",
        "final_data['Spasm'] = final_data.apply(lambda row: spasm(row), axis=1)\n",
        "final_data['Dizziness'] = final_data.apply(lambda row: dizziness(row), axis=1)\n",
        "final_data['Faint'] = final_data.apply(lambda row: faint(row), axis=1)\n",
        "final_data['Consciousness'] = final_data.apply(lambda row: consciousness(row), axis=1)\n",
        "final_data['Paralysis'] = final_data.apply(lambda row: paralysis(row), axis=1)"
      ],
      "metadata": {
        "id": "ZSLviov_o0XP"
      },
      "execution_count": null,
      "outputs": []
    },
    {
      "cell_type": "code",
      "source": [
        "final_data.columns"
      ],
      "metadata": {
        "id": "QlEsi07XoeEp"
      },
      "execution_count": null,
      "outputs": []
    },
    {
      "cell_type": "code",
      "source": [
        "final_data = final_data.drop(['sx1', 'sx2', 'sx3', 'sx4', 'sx5', 'cv2_cc', 'cv2_phx_yn', 'jaenan_sn', 'call_d',\n",
        "       'call_t', 'latitude', 'longitude', 'Branch Name', 'Latitude',\n",
        "       'Longitude', 'Datetime_patient', 'Datetime_converted', 'Branch_code',\n",
        "       'Branch_name', 'Date_time',], axis=1)\n",
        "\n",
        "print(final_data.shape)\n",
        "final_data.head()"
      ],
      "metadata": {
        "id": "agKCxInmpDB6"
      },
      "execution_count": null,
      "outputs": []
    }
  ]
}