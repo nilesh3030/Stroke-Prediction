{
  "nbformat": 4,
  "nbformat_minor": 0,
  "metadata": {
    "colab": {
      "private_outputs": true,
      "provenance": [],
      "authorship_tag": "ABX9TyNkpV/zVUVch2nNFqdZyKjQ",
      "include_colab_link": true
    },
    "kernelspec": {
      "name": "python3",
      "display_name": "Python 3"
    },
    "language_info": {
      "name": "python"
    }
  },
  "cells": [
    {
      "cell_type": "markdown",
      "metadata": {
        "id": "view-in-github",
        "colab_type": "text"
      },
      "source": [
        "<a href=\"https://colab.research.google.com/github/nilesh3030/Stroke-Prediction/blob/main/Location_attachtment.ipynb\" target=\"_parent\"><img src=\"https://colab.research.google.com/assets/colab-badge.svg\" alt=\"Open In Colab\"/></a>"
      ]
    },
    {
      "cell_type": "code",
      "execution_count": null,
      "metadata": {
        "id": "7Dy8yMveVOlw"
      },
      "outputs": [],
      "source": [
        "from google.colab import drive\n",
        "drive.mount('/content/drive')"
      ]
    },
    {
      "cell_type": "code",
      "source": [
        "import pandas as pd\n",
        "df = pd.read_csv('/content/drive/MyDrive/Stroke_Prediction/Data/stroke_case.csv', low_memory = False)\n",
        "pd.set_option ('display.max_columns', None)\n",
        "pd.set_option ('display.max_rows', None)\n",
        "import seaborn as sns\n",
        "import matplotlib.pyplot as plt\n",
        "%matplotlib inline"
      ],
      "metadata": {
        "id": "c6Q0pCclVcQ0"
      },
      "execution_count": null,
      "outputs": []
    },
    {
      "cell_type": "code",
      "source": [
        "data = df[['jaenan_sn', 'address_si', 'address_gu', 'address_dong', 'call_d', 'call_t']]\n",
        "\n",
        "data['Address'] = data['address_si'] + \", \" + data['address_gu'] + \", \" +  data['address_dong']\n",
        "data['Address2'] = data['address_si'] + \", \" + data['address_gu']\n",
        "data['Address3'] = data['address_gu']\n",
        "data['Address4'] = data['address_si']\n",
        "\n",
        "def get_locations(row):\n",
        "    from geopy.geocoders import Nominatim\n",
        "    geolocator = Nominatim(user_agent='MyApp')\n",
        "    try:\n",
        "      location = geolocator.geocode(row['Address'])\n",
        "      return(location.latitude, location.longitude)\n",
        "    except:\n",
        "      try:\n",
        "        location = geolocator.geocode(row['Address2'])\n",
        "        return(location.latitude, location.longitude)\n",
        "      except:\n",
        "        try:\n",
        "          location = geolocator.geocode(row['Address3'])\n",
        "          return(location.latitude, location.longitude)\n",
        "        except:\n",
        "          try:\n",
        "            location = geolocator.geocode(row['Address4'])\n",
        "            return(location.latitude, location.longitude)\n",
        "          except:\n",
        "            print(row['Address4'])\n",
        "            return(0, 0)"
      ],
      "metadata": {
        "id": "B3fM6E6vVdxS"
      },
      "execution_count": null,
      "outputs": []
    },
    {
      "cell_type": "code",
      "source": [
        "Address = data.groupby(['Address', 'Address2', 'Address3', 'Address4']).size().reset_index(name='Freq')\n",
        "\n",
        "Address.head()"
      ],
      "metadata": {
        "id": "Z5SmnweHVfqo"
      },
      "execution_count": null,
      "outputs": []
    },
    {
      "cell_type": "code",
      "source": [
        "Address['Location'] = Address.apply(lambda row: get_locations(row), axis=1)"
      ],
      "metadata": {
        "id": "By9y2Cf-VmFm"
      },
      "execution_count": null,
      "outputs": []
    },
    {
      "cell_type": "code",
      "source": [
        "Address['latitude'], Address['longitude'] = Address.Location.str"
      ],
      "metadata": {
        "id": "IMKUFzIJswEu"
      },
      "execution_count": null,
      "outputs": []
    },
    {
      "cell_type": "code",
      "source": [
        "Address.head()"
      ],
      "metadata": {
        "id": "qaOygGyIsaR2"
      },
      "execution_count": null,
      "outputs": []
    },
    {
      "cell_type": "code",
      "source": [
        "Address.to_csv('address.csv')"
      ],
      "metadata": {
        "id": "w48Sjd56VolU"
      },
      "execution_count": null,
      "outputs": []
    },
    {
      "cell_type": "code",
      "source": [
        "branch_location = pd.read_excel('/content/drive/MyDrive/Stroke_Prediction/Data/Meterological_branch_and_Location.xlsx')"
      ],
      "metadata": {
        "id": "pYqnYbf9qKWY"
      },
      "execution_count": null,
      "outputs": []
    },
    {
      "cell_type": "code",
      "source": [
        "branch_location.head()"
      ],
      "metadata": {
        "id": "lzpKxTNirvtB"
      },
      "execution_count": null,
      "outputs": []
    },
    {
      "cell_type": "code",
      "source": [
        "import numpy as np\n",
        "from scipy.spatial.distance import cdist\n",
        "\n",
        "Address[\"Branch Name\"] = pd.Series([branch_location[\"Branch Name\"].iloc[np.argmin(x)] for x in cdist(Address[[\"latitude\", \"longitude\"]], branch_location[[\"Latitude\", \"Longitude\"]])])\n"
      ],
      "metadata": {
        "id": "GDLuUY3zsES7"
      },
      "execution_count": null,
      "outputs": []
    },
    {
      "cell_type": "code",
      "source": [
        "Address.head()"
      ],
      "metadata": {
        "id": "VJbSgpththzT"
      },
      "execution_count": null,
      "outputs": []
    },
    {
      "cell_type": "code",
      "source": [
        "data = data.merge(Address, on = 'Address')"
      ],
      "metadata": {
        "id": "rp4xUcfOC4A8"
      },
      "execution_count": null,
      "outputs": []
    },
    {
      "cell_type": "code",
      "source": [
        "data.head()"
      ],
      "metadata": {
        "id": "mriyrkWqCvND"
      },
      "execution_count": null,
      "outputs": []
    },
    {
      "cell_type": "code",
      "source": [
        "data = data.merge(branch_location, on = 'Branch Name')\n",
        "data.head()"
      ],
      "metadata": {
        "id": "TnS9IHfED3m9"
      },
      "execution_count": null,
      "outputs": []
    },
    {
      "cell_type": "code",
      "source": [
        "data.to_csv('data.csv', encoding = 'euc_kr')"
      ],
      "metadata": {
        "id": "swwva5ERaQpp"
      },
      "execution_count": null,
      "outputs": []
    }
  ]
}