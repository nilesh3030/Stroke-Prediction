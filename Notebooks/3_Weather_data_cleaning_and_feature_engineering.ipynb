{
  "nbformat": 4,
  "nbformat_minor": 0,
  "metadata": {
    "colab": {
      "private_outputs": true,
      "provenance": [],
      "authorship_tag": "ABX9TyNTuklY0KjI1OLuIO80aOi2",
      "include_colab_link": true
    },
    "kernelspec": {
      "name": "python3",
      "display_name": "Python 3"
    },
    "language_info": {
      "name": "python"
    }
  },
  "cells": [
    {
      "cell_type": "markdown",
      "metadata": {
        "id": "view-in-github",
        "colab_type": "text"
      },
      "source": [
        "<a href=\"https://colab.research.google.com/github/nilesh3030/Stroke-Prediction/blob/main/Notebooks/3_Weather_data_cleaning_and_feature_engineering.ipynb\" target=\"_parent\"><img src=\"https://colab.research.google.com/assets/colab-badge.svg\" alt=\"Open In Colab\"/></a>"
      ]
    },
    {
      "cell_type": "code",
      "execution_count": null,
      "metadata": {
        "id": "q9Xx0tNlzgsA"
      },
      "outputs": [],
      "source": [
        "from google.colab import drive\n",
        "drive.mount('/content/drive')"
      ]
    },
    {
      "cell_type": "code",
      "source": [
        "!pip install fastparquet"
      ],
      "metadata": {
        "id": "29Hgqp3S7z9v"
      },
      "execution_count": null,
      "outputs": []
    },
    {
      "cell_type": "code",
      "source": [
        "import pandas as pd\n",
        "import numpy as np\n",
        "from datetime import datetime\n",
        "import dateutil.parser\n",
        "\n",
        "pd.set_option ('display.max_columns', None)\n",
        "pd.set_option ('display.max_rows', None)\n",
        "\n",
        "raw_data = pd.read_csv('/content/drive/MyDrive/Stroke_Prediction/Data/stroke_case.csv', low_memory = False)\n",
        "raw_data_2021 = pd.read_csv('/content/drive/MyDrive/Stroke_Prediction/Data/stroke_data/stroke_case_2021.csv', low_memory = False)\n",
        "\n",
        "unique_patient_address = pd.read_csv('/content/drive/MyDrive/Stroke_Prediction/Data/unique_address_with_location.csv', encoding = 'euc_kr')\n",
        "unique_patient_address_2021 = pd.read_csv('/content/drive/MyDrive/Stroke_Prediction/Data/unique_address_with_location_2021.csv', encoding = 'euc_kr')\n",
        "weather_data = pd.read_parquet('/content/drive/MyDrive/Stroke_Prediction/Data/Weather_Data/weather_data_2021_22_cleaned.parquet', engine = 'fastparquet')"
      ],
      "metadata": {
        "id": "KHy-odptzrvy"
      },
      "execution_count": null,
      "outputs": []
    },
    {
      "cell_type": "code",
      "source": [
        "unique_station = weather_data.groupby(['Branch_name']).size().reset_index(name='Freq')\n",
        "\n",
        "unique_station.shape"
      ],
      "metadata": {
        "id": "zrgl97aS7_lN"
      },
      "execution_count": null,
      "outputs": []
    },
    {
      "cell_type": "code",
      "source": [
        "unique_patient_address_2021.shape, unique_patient_address.shape"
      ],
      "metadata": {
        "id": "wBbVRw4pOooz"
      },
      "execution_count": null,
      "outputs": []
    },
    {
      "cell_type": "code",
      "source": [
        "unique_address = unique_patient_address.append(unique_patient_address_2021)\n",
        "unique_address.shape"
      ],
      "metadata": {
        "id": "zWhVOCUkO14C"
      },
      "execution_count": null,
      "outputs": []
    },
    {
      "cell_type": "code",
      "source": [
        "2666+4505"
      ],
      "metadata": {
        "id": "bYQiJewQPBET"
      },
      "execution_count": null,
      "outputs": []
    },
    {
      "cell_type": "code",
      "source": [
        "unique_address.head()"
      ],
      "metadata": {
        "id": "fiAvCbFtPLf2"
      },
      "execution_count": null,
      "outputs": []
    },
    {
      "cell_type": "code",
      "source": [
        "# Dedup the data to handle the repeating values on branch datetime level\n",
        "unique_address = unique_address.drop(['Unnamed: 0'], axis = 1)\n",
        "unique_address = unique_address.drop_duplicates(subset=['Address'])\n",
        "\n",
        "unique_address.shape"
      ],
      "metadata": {
        "id": "Uv0M0HK8PKoq"
      },
      "execution_count": null,
      "outputs": []
    },
    {
      "cell_type": "markdown",
      "source": [
        "# Adding the location of weather station and assigning the weather station which is nearest from the patient's location"
      ],
      "metadata": {
        "id": "1KR5p0K_8Iuk"
      }
    },
    {
      "cell_type": "code",
      "source": [
        "weather_station_location = pd.read_excel('/content/drive/MyDrive/Stroke_Prediction/Data/Meterological_branch_and_Location.xlsx')\n",
        "weather_station_location.head()"
      ],
      "metadata": {
        "id": "NgUFl6Qr8Ja8"
      },
      "execution_count": null,
      "outputs": []
    },
    {
      "cell_type": "code",
      "source": [
        "## Stripping the whitespace so that join can be done easily\n",
        "weather_station_location['Branch Name'] = weather_station_location['Branch Name'].str.strip()\n",
        "unique_station['Branch_name'] = unique_station['Branch_name'].str.strip()"
      ],
      "metadata": {
        "id": "5tOTQQRk8Phx"
      },
      "execution_count": null,
      "outputs": []
    },
    {
      "cell_type": "code",
      "source": [
        "## Attaching the location info to unique stations\n",
        "unique_station_location = pd.merge(unique_station, weather_station_location,  how='inner', left_on=['Branch_name'], right_on = ['Branch Name'])"
      ],
      "metadata": {
        "id": "DULiYP1WP0kN"
      },
      "execution_count": null,
      "outputs": []
    },
    {
      "cell_type": "code",
      "source": [
        "#Shape should be same as that ensures that we have location info for all the unique weather station\n",
        "unique_station_location.shape"
      ],
      "metadata": {
        "id": "c-QKb_tzQJHj"
      },
      "execution_count": null,
      "outputs": []
    },
    {
      "cell_type": "code",
      "source": [
        "unique_station_location = unique_station_location[['Branch Name', 'Latitude', 'Longitude']]\n",
        "unique_station_location.head()"
      ],
      "metadata": {
        "id": "T6VM_375QMa6"
      },
      "execution_count": null,
      "outputs": []
    },
    {
      "cell_type": "code",
      "source": [
        "### Attaching the branch which is nearest from the patient's location\n",
        "import numpy as np\n",
        "from scipy.spatial.distance import cdist\n",
        "\n",
        "unique_address[\"Branch Name\"] = pd.Series([unique_station_location[\"Branch Name\"].iloc[np.argmin(x)] for x in cdist(unique_address[[\"latitude\", \"longitude\"]], unique_station_location[[\"Latitude\", \"Longitude\"]])])\n"
      ],
      "metadata": {
        "id": "zrXyI2FtQPxo"
      },
      "execution_count": null,
      "outputs": []
    },
    {
      "cell_type": "code",
      "source": [
        "unique_address.head()"
      ],
      "metadata": {
        "id": "qX4kMi3pQWfc"
      },
      "execution_count": null,
      "outputs": []
    },
    {
      "cell_type": "code",
      "source": [
        "## We will create the data on 'id' level where we map the nearest branch info for each ids\n",
        "id_level_data_2022 = raw_data[['jaenan_sn', 'address_si', 'address_gu', 'address_dong', 'call_d', 'call_t']]\n",
        "id_level_data_2022['Address'] = id_level_data_2022['address_si'] + \", \" + id_level_data_2022['address_gu'] + \", \" +  id_level_data_2022['address_dong']\n",
        "\n",
        "id_level_data_2021 = raw_data_2021[['jaenan_sn', 'address_si', 'address_gu', 'address_dong', 'call_d', 'call_t']]\n",
        "id_level_data_2021['Address'] = id_level_data_2021['address_si'] + \", \" + id_level_data_2021['address_gu'] + \", \" +  id_level_data_2021['address_dong']\n",
        "\n",
        "id_level_data = id_level_data_2021.append(id_level_data_2022)\n",
        "\n",
        "print(id_level_data.shape, id_level_data_2021.shape, id_level_data_2022.shape)"
      ],
      "metadata": {
        "id": "KnAPgOdhQgYI"
      },
      "execution_count": null,
      "outputs": []
    },
    {
      "cell_type": "code",
      "source": [
        "null_variables = round((id_level_data.isna().sum()/len(id_level_data))*100,2)\n",
        "null_variables"
      ],
      "metadata": {
        "id": "EE4O0gbSR7nz"
      },
      "execution_count": null,
      "outputs": []
    },
    {
      "cell_type": "code",
      "source": [
        "(123152*(100-8.84))/100"
      ],
      "metadata": {
        "id": "Kgf0Cp12SQoo"
      },
      "execution_count": null,
      "outputs": []
    },
    {
      "cell_type": "code",
      "source": [
        "nearest_branch_super = id_level_data.merge(unique_address, on = 'Address')\n",
        "print(nearest_branch_super.shape)"
      ],
      "metadata": {
        "id": "YNw2XrsSRvAO"
      },
      "execution_count": null,
      "outputs": []
    },
    {
      "cell_type": "markdown",
      "source": [
        "#Processing the Nearest Branch data"
      ],
      "metadata": {
        "id": "EnCea6azSwm9"
      }
    },
    {
      "cell_type": "code",
      "source": [
        "print(nearest_branch_super.shape)\n",
        "nearest_branch_super.head()"
      ],
      "metadata": {
        "id": "L6AzF39yStTK"
      },
      "execution_count": null,
      "outputs": []
    },
    {
      "cell_type": "code",
      "source": [
        "nearest_branch_super.columns"
      ],
      "metadata": {
        "id": "uhGI9tcBS04u"
      },
      "execution_count": null,
      "outputs": []
    },
    {
      "cell_type": "code",
      "source": [
        "vars = ['jaenan_sn','call_d', 'call_t', 'latitude', 'longitude', 'Branch Name']\n",
        "nearest_branch = nearest_branch_super[vars]\n",
        "#rename the branch name to weather station######\n",
        "#'latitude', 'longitude' are the locations for the address i.e. patient location\n",
        "# 'Latitude', 'Longitude' are location respective to branch address"
      ],
      "metadata": {
        "id": "H8GpjANpS4zc"
      },
      "execution_count": null,
      "outputs": []
    },
    {
      "cell_type": "code",
      "source": [
        "convert_dict = {'call_d': str,\n",
        "                'call_t': str}\n",
        " \n",
        "nearest_branch = nearest_branch.astype(convert_dict)\n",
        "\n",
        "nearest_branch[\"Datetime_patient\"] = nearest_branch[\"call_d\"] + nearest_branch[\"call_t\"]"
      ],
      "metadata": {
        "id": "KSeyWgzyS88a"
      },
      "execution_count": null,
      "outputs": []
    },
    {
      "cell_type": "code",
      "source": [
        "def convert_datetime(row):\n",
        "  try:\n",
        "    if len(row['Datetime_patient']) == 11 or len(row['Datetime_patient']) == 12:\n",
        "      return(pd.to_datetime(row['Datetime_patient'], format = '%Y%m%d%H%M'))\n",
        "  except: \n",
        "    return(np.nan)\n",
        "\n",
        "\n",
        "nearest_branch['Datetime_converted'] = nearest_branch.apply(lambda row: convert_datetime(row), axis=1)"
      ],
      "metadata": {
        "id": "yQwpOL8sS_Wx"
      },
      "execution_count": null,
      "outputs": []
    },
    {
      "cell_type": "code",
      "source": [
        "nearest_branch['Datetime_converted'] = nearest_branch['Datetime_converted'].dt.strftime('%Y-%m-%d %H')"
      ],
      "metadata": {
        "id": "3nDbUnEITBXK"
      },
      "execution_count": null,
      "outputs": []
    },
    {
      "cell_type": "code",
      "source": [
        "print(nearest_branch.shape)\n",
        "nearest_branch.head()"
      ],
      "metadata": {
        "id": "MoSRaQ_KTKx0"
      },
      "execution_count": null,
      "outputs": []
    },
    {
      "cell_type": "markdown",
      "source": [
        "#Combining weather and nearest-branch data"
      ],
      "metadata": {
        "id": "-enUpKGHTQqS"
      }
    },
    {
      "cell_type": "code",
      "source": [
        "new_df = pd.merge(nearest_branch, weather_data,  how='left', left_on=['Branch Name','Datetime_converted'], right_on = ['Branch_name','Date_time'])\n",
        "print(new_df.shape)\n",
        "new_df.head()"
      ],
      "metadata": {
        "id": "q3xi6uIBTRKc"
      },
      "execution_count": null,
      "outputs": []
    },
    {
      "cell_type": "code",
      "source": [
        "null_variables = round((new_df.isna().sum()/len(new_df))*100,2)\n",
        "null_variables"
      ],
      "metadata": {
        "id": "PUCgJqR-TjIA"
      },
      "execution_count": null,
      "outputs": []
    },
    {
      "cell_type": "code",
      "source": [],
      "metadata": {
        "id": "N0Vo3o50TrKN"
      },
      "execution_count": null,
      "outputs": []
    }
  ]
}