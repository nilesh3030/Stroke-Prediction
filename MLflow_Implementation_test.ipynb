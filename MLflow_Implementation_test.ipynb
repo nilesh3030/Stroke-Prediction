{
  "nbformat": 4,
  "nbformat_minor": 0,
  "metadata": {
    "colab": {
      "private_outputs": true,
      "provenance": [],
      "authorship_tag": "ABX9TyMQzVc7m47MVTYO9PUBypLG",
      "include_colab_link": true
    },
    "kernelspec": {
      "name": "python3",
      "display_name": "Python 3"
    },
    "language_info": {
      "name": "python"
    }
  },
  "cells": [
    {
      "cell_type": "markdown",
      "metadata": {
        "id": "view-in-github",
        "colab_type": "text"
      },
      "source": [
        "<a href=\"https://colab.research.google.com/github/nilesh3030/Stroke-Prediction/blob/main/MLflow_Implementation_test.ipynb\" target=\"_parent\"><img src=\"https://colab.research.google.com/assets/colab-badge.svg\" alt=\"Open In Colab\"/></a>"
      ]
    },
    {
      "cell_type": "code",
      "execution_count": null,
      "metadata": {
        "id": "OH7cVuDIT2M8"
      },
      "outputs": [],
      "source": [
        "from google.colab import drive\n",
        "drive.mount('/content/drive')"
      ]
    },
    {
      "cell_type": "code",
      "source": [
        "import pandas as pd\n",
        "import numpy as np\n",
        "\n",
        "pd.set_option ('display.max_columns', None)\n",
        "pd.set_option ('display.max_rows', None)\n",
        "\n",
        "model_data = pd.read_csv('/content/drive/MyDrive/Stroke_Prediction/Data/model_data.csv', low_memory = False)"
      ],
      "metadata": {
        "id": "a-6IzkX2T7aa"
      },
      "execution_count": null,
      "outputs": []
    },
    {
      "cell_type": "code",
      "source": [
        "model_data = model_data.drop(['Unnamed: 0'], axis = 1)"
      ],
      "metadata": {
        "id": "2aUWCVdSUKTH"
      },
      "execution_count": null,
      "outputs": []
    },
    {
      "cell_type": "code",
      "source": [
        "model_data.head()"
      ],
      "metadata": {
        "id": "abVsdLpxUDJC"
      },
      "execution_count": null,
      "outputs": []
    },
    {
      "cell_type": "code",
      "source": [
        "!pip install mlflow"
      ],
      "metadata": {
        "id": "jBLOPBGLUVxr"
      },
      "execution_count": null,
      "outputs": []
    },
    {
      "cell_type": "code",
      "source": [
        "import os\n",
        "import warnings\n",
        "import sys\n",
        "\n",
        "import pandas as pd\n",
        "import numpy as np\n",
        "from sklearn.metrics import accuracy_score, classification_report, confusion_matrix\n",
        "from sklearn.model_selection import train_test_split\n",
        "from sklearn.linear_model import LogisticRegression\n",
        "from urllib.parse import urlparse\n",
        "import mlflow\n",
        "import mlflow.sklearn\n",
        "\n",
        "import logging\n",
        "\n",
        "logging.basicConfig(level=logging.WARN)\n",
        "logger = logging.getLogger(__name__)"
      ],
      "metadata": {
        "id": "g3HnC7E9UZ6e"
      },
      "execution_count": null,
      "outputs": []
    },
    {
      "cell_type": "code",
      "source": [
        "def eval_metrics(actual, pred):\n",
        "    accuracy = accuracy_score(actual, pred)\n",
        "    class_report = classification_report(actual, pred)\n",
        "    return accuracy, class_report"
      ],
      "metadata": {
        "id": "16bcW7wjUtr9"
      },
      "execution_count": null,
      "outputs": []
    },
    {
      "cell_type": "code",
      "source": [
        "if __name__ == \"__main__\":\n",
        "    warnings.filterwarnings(\"ignore\")\n",
        "    np.random.seed(40)\n",
        "\n",
        "    X = model_data.iloc[:,model_data.columns != 'cv2_cphss']\n",
        "    y = model_data.cv2_cphss\n",
        "    train_x, test_x, train_y, test_y = train_test_split(X, y, test_size=0.20, random_state=5, stratify=y)\n",
        "\n",
        "    with mlflow.start_run():\n",
        "        lr = LogisticRegression()\n",
        "        lr.fit(train_x, train_y)\n",
        "\n",
        "        predicted_qualities = lr.predict(test_x)\n",
        "\n",
        "        (accuracy, class_report) = eval_metrics(test_y, predicted_qualities)\n",
        "\n",
        "        print(\"  accuracy: %s\" % accuracy)\n",
        "        print(\"  class_report: %s\" % class_report)\n",
        "\n",
        "        mlflow.log_metric(\"accuracy\", accuracy)\n",
        "        #mlflow.log_metric(\"class_report\", class_report)\n",
        "\n",
        "        tracking_url_type_store = urlparse(mlflow.get_tracking_uri()).scheme\n",
        "\n",
        "        # Model registry does not work with file store\n",
        "        if tracking_url_type_store != \"file\":\n",
        "\n",
        "            # Register the model\n",
        "            # There are other ways to use the Model Registry, which depends on the use case,\n",
        "            # please refer to the doc for more information:\n",
        "            # https://mlflow.org/docs/latest/model-registry.html#api-workflow\n",
        "            mlflow.sklearn.log_model(lr, \"model\", registered_model_name=\"test_LR\")\n",
        "        else:\n",
        "            mlflow.sklearn.log_model(lr, \"model\")"
      ],
      "metadata": {
        "id": "lQ4Ml77lVCiy"
      },
      "execution_count": null,
      "outputs": []
    },
    {
      "cell_type": "code",
      "source": [
        "if __name__ == \"__main__\":\n",
        "    warnings.filterwarnings(\"ignore\")\n",
        "    np.random.seed(40)\n",
        "\n",
        "    X = model_data.iloc[:,model_data.columns != 'cv2_cphss']\n",
        "    y = model_data.cv2_cphss\n",
        "    X_train, X_test, y_train, y_test = train_test_split(X, y, test_size=0.20, random_state=5, stratify=y)\n",
        "\n",
        "    with mlflow.start_run():\n",
        "        from sklearn.ensemble import RandomForestClassifier\n",
        "\n",
        "        # creating a RF classifier\n",
        "        clf = RandomForestClassifier(n_estimators = 100, max_features = 'sqrt', max_depth = 5, min_samples_leaf = 3, min_samples_split = 5) \n",
        "        \n",
        "        # Training the model on the training dataset\n",
        "        # fit function is used to train the model using the training sets as parameters\n",
        "        clf.fit(X_train, y_train)\n",
        "        \n",
        "        # performing predictions on the test dataset\n",
        "        y_pred = clf.predict(X_test)\n",
        "\n",
        "        # metrics are used to find accuracy or error\n",
        "        train_acc = clf.score(X_train, y_train)\n",
        "        print(\"The Accuracy for Training Set is {}\".format(train_acc*100))\n",
        "\n",
        "        test_acc = accuracy_score(y_test, y_pred)\n",
        "        print(\"The Accuracy for Test Set is {}\".format(test_acc*100))\n",
        "\n",
        "        print(classification_report(y_test, y_pred))\n",
        "\n",
        "        mlflow.log_metric(\"accuracy\", test_acc)\n",
        "        #mlflow.log_metric(\"class_report\", class_report)\n",
        "\n",
        "        tracking_url_type_store = urlparse(mlflow.get_tracking_uri()).scheme\n",
        "\n",
        "        # Model registry does not work with file store\n",
        "        if tracking_url_type_store != \"file\":\n",
        "\n",
        "            # Register the model\n",
        "            # There are other ways to use the Model Registry, which depends on the use case,\n",
        "            # please refer to the doc for more information:\n",
        "            # https://mlflow.org/docs/latest/model-registry.html#api-workflow\n",
        "            mlflow.sklearn.log_model(lr, \"model\", registered_model_name=\"test_LR\")\n",
        "        else:\n",
        "            mlflow.sklearn.log_model(lr, \"model\")"
      ],
      "metadata": {
        "id": "flnFolRT4Bd5"
      },
      "execution_count": null,
      "outputs": []
    }
  ]
}