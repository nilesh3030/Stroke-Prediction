{
  "nbformat": 4,
  "nbformat_minor": 0,
  "metadata": {
    "colab": {
      "private_outputs": true,
      "provenance": [],
      "authorship_tag": "ABX9TyMLhDQX2eTjsjlp2BRI2yiV",
      "include_colab_link": true
    },
    "kernelspec": {
      "name": "python3",
      "display_name": "Python 3"
    },
    "language_info": {
      "name": "python"
    }
  },
  "cells": [
    {
      "cell_type": "markdown",
      "metadata": {
        "id": "view-in-github",
        "colab_type": "text"
      },
      "source": [
        "<a href=\"https://colab.research.google.com/github/nilesh3030/Stroke-Prediction/blob/main/EDA_2021_2022.ipynb\" target=\"_parent\"><img src=\"https://colab.research.google.com/assets/colab-badge.svg\" alt=\"Open In Colab\"/></a>"
      ]
    },
    {
      "cell_type": "code",
      "execution_count": null,
      "metadata": {
        "id": "CtdARokyL2nK"
      },
      "outputs": [],
      "source": [
        "from google.colab import drive\n",
        "drive.mount('/content/drive')"
      ]
    },
    {
      "cell_type": "code",
      "source": [
        "# Importing the libraries\n",
        "import pandas as pd\n",
        "import numpy as np\n",
        "import seaborn as sns\n",
        "import matplotlib.pyplot as plt\n",
        "%matplotlib inline\n",
        "from datetime import datetime\n",
        "import dateutil.parser\n",
        "\n",
        "\n",
        "pd.set_option ('display.max_columns', None)\n",
        "pd.set_option ('display.max_rows', None)"
      ],
      "metadata": {
        "id": "QWGJEV5LPSte"
      },
      "execution_count": null,
      "outputs": []
    },
    {
      "cell_type": "code",
      "source": [
        "df_2021 = pd.read_csv('/content/drive/MyDrive/Stroke_Prediction/Data/Stroke_clean_2021.csv', low_memory = False)\n",
        "df_2022 = pd.read_csv('/content/drive/MyDrive/Stroke_Prediction/Data/Stroke_clean_2022.csv', low_memory = False)"
      ],
      "metadata": {
        "id": "uRxKaZULMC1b"
      },
      "execution_count": null,
      "outputs": []
    },
    {
      "cell_type": "code",
      "source": [
        "print(df_2021.shape)\n",
        "print(df_2022.shape)"
      ],
      "metadata": {
        "id": "t0AferMONPSE"
      },
      "execution_count": null,
      "outputs": []
    },
    {
      "cell_type": "code",
      "source": [
        "frames = [df_2021, df_2022]\n",
        "\n",
        "df = pd.concat(frames)\n",
        "print(df.shape)\n",
        "print(df_2021.shape[0] + df_2022.shape[0])"
      ],
      "metadata": {
        "id": "8jXHYI6hOQu-"
      },
      "execution_count": null,
      "outputs": []
    },
    {
      "cell_type": "code",
      "source": [
        "df.columns"
      ],
      "metadata": {
        "id": "N3olfyhWOokK"
      },
      "execution_count": null,
      "outputs": []
    },
    {
      "cell_type": "code",
      "source": [
        "df.age.value_counts()"
      ],
      "metadata": {
        "id": "_zdZSCJtp-ZL"
      },
      "execution_count": null,
      "outputs": []
    },
    {
      "cell_type": "code",
      "source": [
        "indexAge = df[ (df['age'] == 'male') | (df['age'] == 'female') ].index\n",
        "df.drop(indexAge , inplace=True)"
      ],
      "metadata": {
        "id": "iopISe5FqgN0"
      },
      "execution_count": null,
      "outputs": []
    },
    {
      "cell_type": "code",
      "source": [
        "final_data = df.drop(['Unnamed: 0'], axis =1)\n",
        "print(final_data.shape)\n",
        "final_data.head()"
      ],
      "metadata": {
        "id": "E7O9skg6Ovvb"
      },
      "execution_count": null,
      "outputs": []
    },
    {
      "cell_type": "code",
      "source": [
        "#treating the datetime variables\n",
        "\n",
        "convert_dict = {'call_d': str,\n",
        "                'call_t': str,\n",
        "                'age' : int}\n",
        " \n",
        "final_data = final_data.astype(convert_dict)\n",
        "\n",
        "final_data[\"Datetime\"] = final_data[\"call_d\"] + final_data[\"call_t\"]\n",
        "\n",
        "\n",
        "\n",
        "def convert_datetime(row):\n",
        "  if (len(row['Datetime']) == 11 or len(row['Datetime']) == 12) and row['Datetime'].isnumeric():\n",
        "    try:\n",
        "      return(pd.to_datetime(row['Datetime'], format = '%Y%m%d%H%M'))\n",
        "    except:\n",
        "      return(np.nan)\n",
        "\n",
        "\n",
        "final_data['Datetime_converted'] = final_data.apply(lambda row: convert_datetime(row), axis=1)"
      ],
      "metadata": {
        "id": "oepjXLQgO4yp"
      },
      "execution_count": null,
      "outputs": []
    },
    {
      "cell_type": "code",
      "source": [
        "final_data['Weekday'] = final_data['Datetime_converted'].dt.dayofweek\n",
        "final_data['Month'] = final_data['Datetime_converted'].dt.month\n",
        "final_data['Year'] = final_data['Datetime_converted'].dt.year\n",
        "final_data['Hour'] = final_data['Datetime_converted'].dt.hour\n",
        "final_data['Minute'] = final_data['Datetime_converted'].dt.minute"
      ],
      "metadata": {
        "id": "wxxnOnSQQZn3"
      },
      "execution_count": null,
      "outputs": []
    },
    {
      "cell_type": "code",
      "source": [
        "final_data.head()"
      ],
      "metadata": {
        "id": "BTIMPIuPQf7i"
      },
      "execution_count": null,
      "outputs": []
    },
    {
      "cell_type": "code",
      "source": [
        "### Cases across months and year\n",
        "cases_my = final_data.groupby(['Year', 'Month'])['cv2_cphss'].aggregate(['count'])\n",
        "cases_my"
      ],
      "metadata": {
        "id": "cezwnSKcQqC9"
      },
      "execution_count": null,
      "outputs": []
    },
    {
      "cell_type": "markdown",
      "source": [
        "Therer are some junk values in the year column so we will drop these values and then proceed ahead"
      ],
      "metadata": {
        "id": "D6wve9u4SQDU"
      }
    },
    {
      "cell_type": "code",
      "source": [
        "vars = [2021.0, 2022.0]\n",
        "final_data = final_data.loc[final_data['Year'].isin(vars)]"
      ],
      "metadata": {
        "id": "88qRuEV4SYw5"
      },
      "execution_count": null,
      "outputs": []
    },
    {
      "cell_type": "code",
      "source": [
        "final_data.shape"
      ],
      "metadata": {
        "id": "kYNKmT8BSkks"
      },
      "execution_count": null,
      "outputs": []
    },
    {
      "cell_type": "code",
      "source": [
        "### we will examine the values of the target variables and remove the junk records\n",
        "final_data.cv2_cphss.value_counts()"
      ],
      "metadata": {
        "id": "pAxIwY87VDpz"
      },
      "execution_count": null,
      "outputs": []
    },
    {
      "cell_type": "markdown",
      "source": [
        "N and F can be marked as neagtive and Y can be marked as positive and we will change these into 1 and zero where 1 means positive case and zero means negative"
      ],
      "metadata": {
        "id": "S2FKtYvWVkLE"
      }
    },
    {
      "cell_type": "code",
      "source": [
        "target_vars = ['positive', 'Y', 'negative', 'N', 'F']\n",
        "\n",
        "final_data = final_data.loc[final_data['cv2_cphss'].isin(target_vars)]\n",
        "\n",
        "#Replacing the target varibles with 0, 1 \n",
        "final_data['cv2_cphss'].replace(target_vars , [1, 1, 0, 0, 0], inplace=True)"
      ],
      "metadata": {
        "id": "bxIP6vJEVwWa"
      },
      "execution_count": null,
      "outputs": []
    },
    {
      "cell_type": "code",
      "source": [
        "final_data.cv2_cphss.value_counts()"
      ],
      "metadata": {
        "id": "6cDg3a_TVbrj"
      },
      "execution_count": null,
      "outputs": []
    },
    {
      "cell_type": "code",
      "source": [
        "48318/(48319+60987)"
      ],
      "metadata": {
        "id": "jOXAfi2UYJ_V"
      },
      "execution_count": null,
      "outputs": []
    },
    {
      "cell_type": "code",
      "source": [
        "# we will replace the junk values with the nan\n",
        "replace_values = {999.0 : np.nan, 999.9 : np.nan, 943.0 : np.nan, 9999.0 : np.nan, 7777.0 : np.nan, 6666.0 : np.nan, 770.0 : np.nan} \n",
        "final_data = final_data.replace(replace_values)"
      ],
      "metadata": {
        "id": "q-S5WMbGYPIK"
      },
      "execution_count": null,
      "outputs": []
    },
    {
      "cell_type": "code",
      "source": [
        "# 5-number summary\n",
        "final_data.describe()"
      ],
      "metadata": {
        "id": "v9GrlkjjYcCC"
      },
      "execution_count": null,
      "outputs": []
    },
    {
      "cell_type": "code",
      "source": [
        "replace_values = {795.0 : np.nan, 983.0 : np.nan, 9996.0 : np.nan, 960.0 : np.nan, 777.0 : np.nan, 977.0 : np.nan, 666.0 : np.nan} \n",
        "final_data = final_data.replace(replace_values)"
      ],
      "metadata": {
        "id": "mNvaY-ZQYt-2"
      },
      "execution_count": null,
      "outputs": []
    },
    {
      "cell_type": "code",
      "source": [
        "# SPO2 can never be more than 100 so we will mark all the values above 100 as NaN\n",
        "final_data[final_data.spo2_1 > 100] = np.nan"
      ],
      "metadata": {
        "id": "vCv9yqTBa-40"
      },
      "execution_count": null,
      "outputs": []
    },
    {
      "cell_type": "code",
      "source": [
        "null_variables = round((final_data.isna().sum()/len(final_data))*100,2)\n",
        "null_variables"
      ],
      "metadata": {
        "id": "_hEFkbtbbYKh"
      },
      "execution_count": null,
      "outputs": []
    },
    {
      "cell_type": "code",
      "source": [
        "def spasm(row):  \n",
        "    if row['sx1'] == 'Spasm/seizure' or row['sx2'] == 'Spasm/seizure' or row['sx3'] == 'Spasm/seizure' or row['sx4'] == 'Spasm/seizure' or row['sx5'] == 'Spasm/seizure':\n",
        "        return 1\n",
        "    return 0\n",
        "\n",
        "def dizziness(row):  \n",
        "    if row['sx1'] == 'Dizziness' or row['sx2'] == 'Dizziness' or row['sx3'] == 'Dizziness' or row['sx4'] == 'Dizziness' or row['sx5'] == 'Dizziness':\n",
        "        return 1\n",
        "    return 0\n",
        "\n",
        "def faint(row):  \n",
        "    if row['sx1'] == 'faint' or row['sx2'] == 'faint' or row['sx3'] == 'faint' or row['sx4'] == 'faint' or row['sx5'] == 'faint':\n",
        "        return 1\n",
        "    return 0\n",
        "\n",
        "def consciousness(row):  \n",
        "    if row['sx1'] == 'Consciousness' or row['sx2'] == 'Consciousness' or row['sx3'] == 'Consciousness' or row['sx4'] == 'Consciousness' or row['sx5'] == 'Consciousness':\n",
        "        return 1\n",
        "    return 0\n",
        "\n",
        "def paralysis(row):  \n",
        "    if row['sx1'] == 'paralysis' or row['sx2'] == 'paralysis' or row['sx3'] == 'paralysis' or row['sx4'] == 'paralysis' or row['sx5'] == 'paralysis':\n",
        "        return 1\n",
        "    return 0\n",
        "\n",
        "final_data['Spasm'] = final_data.apply(lambda row: spasm(row), axis=1)\n",
        "final_data['Dizziness'] = final_data.apply(lambda row: dizziness(row), axis=1)\n",
        "final_data['Faint'] = final_data.apply(lambda row: faint(row), axis=1)\n",
        "final_data['Consciousness'] = final_data.apply(lambda row: consciousness(row), axis=1)\n",
        "final_data['Paralysis'] = final_data.apply(lambda row: paralysis(row), axis=1)"
      ],
      "metadata": {
        "id": "MxA91SoibohT"
      },
      "execution_count": null,
      "outputs": []
    },
    {
      "cell_type": "code",
      "source": [
        "final_data = final_data.drop(['sx1', 'sx2', 'sx3', 'sx4', 'sx5'], axis=1)\n",
        "\n",
        "null_variables = round((final_data.isna().sum()/len(final_data))*100,2)\n",
        "null_variables"
      ],
      "metadata": {
        "id": "BNELdd34bzm3"
      },
      "execution_count": null,
      "outputs": []
    },
    {
      "cell_type": "markdown",
      "source": [
        "### We will make a copy of the final data and try some models"
      ],
      "metadata": {
        "id": "iYPeUSOEferF"
      }
    },
    {
      "cell_type": "code",
      "source": [
        "model_data_1 = final_data.copy() #shallow copy method so that final data should not get modified"
      ],
      "metadata": {
        "id": "K9i_ee_Dflpn"
      },
      "execution_count": null,
      "outputs": []
    },
    {
      "cell_type": "code",
      "source": [
        "model_data_1 = model_data_1.dropna()\n",
        "\n",
        "null_variables = round((model_data_1.isna().sum()/len(model_data_1))*100,2)\n",
        "print(model_data_1.cv2_cphss.value_counts())\n",
        "null_variables"
      ],
      "metadata": {
        "id": "mUt_yHG7gE4L"
      },
      "execution_count": null,
      "outputs": []
    },
    {
      "cell_type": "code",
      "source": [
        "vars_to_drop = ['cv2_cc', 'cv2_phx_yn', 'hypertension', 'diabetes', 'chest_disease',\n",
        "       'heart_disease', 'tuberculosis', 'hepatitis', 'liver', 'allergy',\n",
        "       'cancer', 'renal_failure', 'Datetime']\n",
        "\n",
        "cat_columns = model_data_1.select_dtypes(['object']).columns\n",
        "cat_columns"
      ],
      "metadata": {
        "id": "4gOlWQM5eSQ0"
      },
      "execution_count": null,
      "outputs": []
    },
    {
      "cell_type": "code",
      "source": [
        "model_data_1[cat_columns] = model_data_1[cat_columns].apply(lambda x: pd.factorize(x)[0])"
      ],
      "metadata": {
        "id": "IJcOlGvweusb"
      },
      "execution_count": null,
      "outputs": []
    },
    {
      "cell_type": "code",
      "source": [
        "def hy_di_disease(row):  \n",
        "    if row['hypertension'] == 1 or row['diabetes'] == 1:\n",
        "        return 1\n",
        "    return 0\n",
        "\n",
        "model_data_1['hy_di_disease'] = model_data_1.apply(lambda row: hy_di_disease(row), axis=1)\n",
        "\n",
        "\n",
        "## Creating a past disease count variable\n",
        "model_data_1['Disease_counts'] = model_data_1['hypertension'] + model_data_1['diabetes'] + model_data_1['chest_disease'] + model_data_1['heart_disease'] + model_data_1['tuberculosis'] + model_data_1['hepatitis'] + model_data_1['liver'] + model_data_1['allergy'] + model_data_1['cancer'] + model_data_1['renal_failure']"
      ],
      "metadata": {
        "id": "wJslxEIrb7es"
      },
      "execution_count": null,
      "outputs": []
    },
    {
      "cell_type": "code",
      "source": [
        "model_data_1 = model_data_1.drop(vars_to_drop, axis = 1)\n",
        "print(model_data_1.shape)"
      ],
      "metadata": {
        "id": "c8IRWxLDhU60"
      },
      "execution_count": null,
      "outputs": []
    },
    {
      "cell_type": "code",
      "source": [
        "model_data_1.head()"
      ],
      "metadata": {
        "id": "9o9vct_qhnZW"
      },
      "execution_count": null,
      "outputs": []
    },
    {
      "cell_type": "code",
      "source": [
        "model_data_1.to_csv('/content/drive/MyDrive/Stroke_Prediction/Data/Modelling Data/model_data1_2021_2022.csv', index = False)"
      ],
      "metadata": {
        "id": "L2PDrAWTn7n6"
      },
      "execution_count": null,
      "outputs": []
    },
    {
      "cell_type": "markdown",
      "source": [
        "### We will make a more refined copy of the final data and try some models"
      ],
      "metadata": {
        "id": "KJwJ3JqjvFbx"
      }
    },
    {
      "cell_type": "code",
      "source": [
        "model_data_2 = final_data.copy() #shallow copy method so that final data should not get modified"
      ],
      "metadata": {
        "id": "MO2e4VDevIOQ"
      },
      "execution_count": null,
      "outputs": []
    },
    {
      "cell_type": "code",
      "source": [
        "vars_to_drop = ['cv2_cc', 'cv2_phx_yn', 'hypertension', 'diabetes', 'chest_disease',\n",
        "       'heart_disease', 'tuberculosis', 'hepatitis', 'liver', 'allergy',\n",
        "       'cancer', 'renal_failure', 'Datetime', 'dbp2', 'sbp2', 'pr2', 'rr2', 'bt2', 'spo2_2',\n",
        "       'onset', 'test1', 'call_d', 'call_t']\n",
        "\n",
        "cat_columns = model_data_2.select_dtypes(['object']).columns\n",
        "cat_columns"
      ],
      "metadata": {
        "id": "O6DeIq3JvSgW"
      },
      "execution_count": null,
      "outputs": []
    },
    {
      "cell_type": "code",
      "source": [
        "model_data_2[cat_columns] = model_data_2[cat_columns].apply(lambda x: pd.factorize(x)[0])"
      ],
      "metadata": {
        "id": "2XT0PsUuvyxL"
      },
      "execution_count": null,
      "outputs": []
    },
    {
      "cell_type": "code",
      "source": [
        "def hy_di_disease(row):  \n",
        "    if row['hypertension'] == 1 or row['diabetes'] == 1:\n",
        "        return 1\n",
        "    return 0\n",
        "\n",
        "model_data_2['hy_di_disease'] = model_data_2.apply(lambda row: hy_di_disease(row), axis=1)\n",
        "\n",
        "\n",
        "## Creating a past disease count variable\n",
        "model_data_2['Disease_counts'] = model_data_2['hypertension'] + model_data_2['diabetes'] + model_data_2['chest_disease'] + model_data_2['heart_disease'] + model_data_2['tuberculosis'] + model_data_2['hepatitis'] + model_data_2['liver'] + model_data_2['allergy'] + model_data_2['cancer'] + model_data_2['renal_failure']"
      ],
      "metadata": {
        "id": "Ch699rGXv3F4"
      },
      "execution_count": null,
      "outputs": []
    },
    {
      "cell_type": "code",
      "source": [
        "model_data_2 = model_data_2.drop(vars_to_drop, axis = 1)\n",
        "print(model_data_2.shape)"
      ],
      "metadata": {
        "id": "GSFrv45EwHWS"
      },
      "execution_count": null,
      "outputs": []
    },
    {
      "cell_type": "code",
      "source": [
        "null_variables = round((model_data_2.isna().sum()/len(model_data_2))*100,2)\n",
        "print(null_variables)\n",
        "model_data_2 = model_data_2.dropna()\n",
        "\n",
        "null_variables = round((model_data_2.isna().sum()/len(model_data_2))*100,2)\n",
        "print(model_data_2.cv2_cphss.value_counts())\n",
        "null_variables"
      ],
      "metadata": {
        "id": "yuMq0Dr1wmLn"
      },
      "execution_count": null,
      "outputs": []
    },
    {
      "cell_type": "code",
      "source": [
        "model_data_2.to_csv('/content/drive/MyDrive/Stroke_Prediction/Data/Modelling Data/model_data2_2021_2022.csv', index = False)"
      ],
      "metadata": {
        "id": "VAjHGGrCwM1Y"
      },
      "execution_count": null,
      "outputs": []
    }
  ]
}