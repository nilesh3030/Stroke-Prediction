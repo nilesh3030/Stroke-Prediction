{
  "nbformat": 4,
  "nbformat_minor": 0,
  "metadata": {
    "colab": {
      "private_outputs": true,
      "provenance": [],
      "authorship_tag": "ABX9TyPEm0wJgNp5u+R2R0KVFCDZ",
      "include_colab_link": true
    },
    "kernelspec": {
      "name": "python3",
      "display_name": "Python 3"
    },
    "language_info": {
      "name": "python"
    }
  },
  "cells": [
    {
      "cell_type": "markdown",
      "metadata": {
        "id": "view-in-github",
        "colab_type": "text"
      },
      "source": [
        "<a href=\"https://colab.research.google.com/github/nilesh3030/Stroke-Prediction/blob/main/EDA_2021_2022.ipynb\" target=\"_parent\"><img src=\"https://colab.research.google.com/assets/colab-badge.svg\" alt=\"Open In Colab\"/></a>"
      ]
    },
    {
      "cell_type": "code",
      "execution_count": null,
      "metadata": {
        "id": "CtdARokyL2nK"
      },
      "outputs": [],
      "source": [
        "from google.colab import drive\n",
        "drive.mount('/content/drive')"
      ]
    },
    {
      "cell_type": "code",
      "source": [
        "# Importing the libraries\n",
        "import pandas as pd\n",
        "import numpy as np\n",
        "import seaborn as sns\n",
        "import matplotlib.pyplot as plt\n",
        "%matplotlib inline\n",
        "from datetime import datetime\n",
        "import dateutil.parser\n",
        "\n",
        "\n",
        "pd.set_option ('display.max_columns', None)\n",
        "pd.set_option ('display.max_rows', None)"
      ],
      "metadata": {
        "id": "QWGJEV5LPSte"
      },
      "execution_count": null,
      "outputs": []
    },
    {
      "cell_type": "code",
      "source": [
        "df_2021 = pd.read_csv('/content/drive/MyDrive/Stroke_Prediction/Data/Stroke_clean_2021.csv', low_memory = False)\n",
        "df_2022 = pd.read_csv('/content/drive/MyDrive/Stroke_Prediction/Data/Stroke_clean_2022.csv', low_memory = False)"
      ],
      "metadata": {
        "id": "uRxKaZULMC1b"
      },
      "execution_count": null,
      "outputs": []
    },
    {
      "cell_type": "code",
      "source": [
        "print(df_2021.shape)\n",
        "print(df_2022.shape)"
      ],
      "metadata": {
        "id": "t0AferMONPSE"
      },
      "execution_count": null,
      "outputs": []
    },
    {
      "cell_type": "code",
      "source": [
        "frames = [df_2021, df_2022]\n",
        "\n",
        "df = pd.concat(frames)\n",
        "print(df.shape)\n",
        "print(df_2021.shape[0] + df_2022.shape[0])"
      ],
      "metadata": {
        "id": "8jXHYI6hOQu-"
      },
      "execution_count": null,
      "outputs": []
    },
    {
      "cell_type": "code",
      "source": [
        "df.columns"
      ],
      "metadata": {
        "id": "N3olfyhWOokK"
      },
      "execution_count": null,
      "outputs": []
    },
    {
      "cell_type": "code",
      "source": [
        "df.age.value_counts()"
      ],
      "metadata": {
        "id": "_zdZSCJtp-ZL"
      },
      "execution_count": null,
      "outputs": []
    },
    {
      "cell_type": "code",
      "source": [
        "indexAge = df[ (df['age'] == 'male') | (df['age'] == 'female') ].index\n",
        "df.drop(indexAge , inplace=True)"
      ],
      "metadata": {
        "id": "iopISe5FqgN0"
      },
      "execution_count": null,
      "outputs": []
    },
    {
      "cell_type": "code",
      "source": [
        "final_data = df.drop(['Unnamed: 0'], axis =1)\n",
        "print(final_data.shape)\n",
        "final_data.head()"
      ],
      "metadata": {
        "id": "E7O9skg6Ovvb"
      },
      "execution_count": null,
      "outputs": []
    },
    {
      "cell_type": "code",
      "source": [
        "#treating the datetime variables\n",
        "\n",
        "convert_dict = {'call_d': str,\n",
        "                'call_t': str,\n",
        "                'age' : int}\n",
        " \n",
        "final_data = final_data.astype(convert_dict)\n",
        "\n",
        "final_data[\"Datetime\"] = final_data[\"call_d\"] + final_data[\"call_t\"]\n",
        "\n",
        "\n",
        "\n",
        "def convert_datetime(row):\n",
        "  if (len(row['Datetime']) == 11 or len(row['Datetime']) == 12) and row['Datetime'].isnumeric():\n",
        "    try:\n",
        "      return(pd.to_datetime(row['Datetime'], format = '%Y%m%d%H%M'))\n",
        "    except:\n",
        "      return(np.nan)\n",
        "\n",
        "\n",
        "final_data['Datetime_converted'] = final_data.apply(lambda row: convert_datetime(row), axis=1)"
      ],
      "metadata": {
        "id": "oepjXLQgO4yp"
      },
      "execution_count": null,
      "outputs": []
    },
    {
      "cell_type": "code",
      "source": [
        "final_data['Weekday'] = final_data['Datetime_converted'].dt.dayofweek\n",
        "final_data['Month'] = final_data['Datetime_converted'].dt.month\n",
        "final_data['Year'] = final_data['Datetime_converted'].dt.year\n",
        "final_data['Hour'] = final_data['Datetime_converted'].dt.hour\n",
        "final_data['Minute'] = final_data['Datetime_converted'].dt.minute"
      ],
      "metadata": {
        "id": "wxxnOnSQQZn3"
      },
      "execution_count": null,
      "outputs": []
    },
    {
      "cell_type": "code",
      "source": [
        "final_data.head()"
      ],
      "metadata": {
        "id": "BTIMPIuPQf7i"
      },
      "execution_count": null,
      "outputs": []
    },
    {
      "cell_type": "code",
      "source": [
        "### Cases across months and year\n",
        "cases_my = final_data.groupby(['Year', 'Month'])['cv2_cphss'].aggregate(['count'])\n",
        "cases_my"
      ],
      "metadata": {
        "id": "cezwnSKcQqC9"
      },
      "execution_count": null,
      "outputs": []
    },
    {
      "cell_type": "markdown",
      "source": [
        "Therer are some junk values in the year column so we will drop these values and then proceed ahead"
      ],
      "metadata": {
        "id": "D6wve9u4SQDU"
      }
    },
    {
      "cell_type": "code",
      "source": [
        "vars = [2021.0, 2022.0]\n",
        "final_data = final_data.loc[final_data['Year'].isin(vars)]"
      ],
      "metadata": {
        "id": "88qRuEV4SYw5"
      },
      "execution_count": null,
      "outputs": []
    },
    {
      "cell_type": "code",
      "source": [
        "final_data.shape"
      ],
      "metadata": {
        "id": "kYNKmT8BSkks"
      },
      "execution_count": null,
      "outputs": []
    },
    {
      "cell_type": "code",
      "source": [
        "### we will examine the values of the target variables and remove the junk records\n",
        "final_data.cv2_cphss.value_counts()"
      ],
      "metadata": {
        "id": "pAxIwY87VDpz"
      },
      "execution_count": null,
      "outputs": []
    },
    {
      "cell_type": "markdown",
      "source": [
        "N and F can be marked as neagtive and Y can be marked as positive and we will change these into 1 and zero where 1 means positive case and zero means negative"
      ],
      "metadata": {
        "id": "S2FKtYvWVkLE"
      }
    },
    {
      "cell_type": "code",
      "source": [
        "target_vars = ['positive', 'Y', 'negative', 'N', 'F']\n",
        "\n",
        "final_data = final_data.loc[final_data['cv2_cphss'].isin(target_vars)]\n",
        "\n",
        "#Replacing the target varibles with 0, 1 \n",
        "final_data['cv2_cphss'].replace(target_vars , [1, 1, 0, 0, 0], inplace=True)"
      ],
      "metadata": {
        "id": "bxIP6vJEVwWa"
      },
      "execution_count": null,
      "outputs": []
    },
    {
      "cell_type": "code",
      "source": [
        "final_data.cv2_cphss.value_counts()"
      ],
      "metadata": {
        "id": "6cDg3a_TVbrj"
      },
      "execution_count": null,
      "outputs": []
    },
    {
      "cell_type": "code",
      "source": [
        "48318/(48319+60987)"
      ],
      "metadata": {
        "id": "jOXAfi2UYJ_V"
      },
      "execution_count": null,
      "outputs": []
    },
    {
      "cell_type": "code",
      "source": [
        "# we will replace the junk values with the nan\n",
        "replace_values = {999.0 : np.nan, 999.9 : np.nan, 943.0 : np.nan, 9999.0 : np.nan, 7777.0 : np.nan, 6666.0 : np.nan, 770.0 : np.nan} \n",
        "final_data = final_data.replace(replace_values)"
      ],
      "metadata": {
        "id": "q-S5WMbGYPIK"
      },
      "execution_count": null,
      "outputs": []
    },
    {
      "cell_type": "code",
      "source": [
        "# 5-number summary\n",
        "final_data.describe()"
      ],
      "metadata": {
        "id": "v9GrlkjjYcCC"
      },
      "execution_count": null,
      "outputs": []
    },
    {
      "cell_type": "code",
      "source": [
        "replace_values = {795.0 : np.nan, 983.0 : np.nan, 9996.0 : np.nan, 960.0 : np.nan, 777.0 : np.nan, 977.0 : np.nan, 666.0 : np.nan} \n",
        "final_data = final_data.replace(replace_values)"
      ],
      "metadata": {
        "id": "mNvaY-ZQYt-2"
      },
      "execution_count": null,
      "outputs": []
    },
    {
      "cell_type": "code",
      "source": [
        "# SPO2 can never be more than 100 so we will mark all the values above 100 as NaN\n",
        "final_data[final_data.spo2_1 > 100] = np.nan"
      ],
      "metadata": {
        "id": "vCv9yqTBa-40"
      },
      "execution_count": null,
      "outputs": []
    },
    {
      "cell_type": "code",
      "source": [
        "null_variables = round((final_data.isna().sum()/len(final_data))*100,2)\n",
        "null_variables"
      ],
      "metadata": {
        "id": "_hEFkbtbbYKh"
      },
      "execution_count": null,
      "outputs": []
    },
    {
      "cell_type": "code",
      "source": [
        "def spasm(row):  \n",
        "    if row['sx1'] == 'Spasm/seizure' or row['sx2'] == 'Spasm/seizure' or row['sx3'] == 'Spasm/seizure' or row['sx4'] == 'Spasm/seizure' or row['sx5'] == 'Spasm/seizure':\n",
        "        return 1\n",
        "    return 0\n",
        "\n",
        "def dizziness(row):  \n",
        "    if row['sx1'] == 'Dizziness' or row['sx2'] == 'Dizziness' or row['sx3'] == 'Dizziness' or row['sx4'] == 'Dizziness' or row['sx5'] == 'Dizziness':\n",
        "        return 1\n",
        "    return 0\n",
        "\n",
        "def faint(row):  \n",
        "    if row['sx1'] == 'faint' or row['sx2'] == 'faint' or row['sx3'] == 'faint' or row['sx4'] == 'faint' or row['sx5'] == 'faint':\n",
        "        return 1\n",
        "    return 0\n",
        "\n",
        "def consciousness(row):  \n",
        "    if row['sx1'] == 'Consciousness' or row['sx2'] == 'Consciousness' or row['sx3'] == 'Consciousness' or row['sx4'] == 'Consciousness' or row['sx5'] == 'Consciousness':\n",
        "        return 1\n",
        "    return 0\n",
        "\n",
        "def paralysis(row):  \n",
        "    if row['sx1'] == 'paralysis' or row['sx2'] == 'paralysis' or row['sx3'] == 'paralysis' or row['sx4'] == 'paralysis' or row['sx5'] == 'paralysis':\n",
        "        return 1\n",
        "    return 0\n",
        "\n",
        "final_data['Spasm'] = final_data.apply(lambda row: spasm(row), axis=1)\n",
        "final_data['Dizziness'] = final_data.apply(lambda row: dizziness(row), axis=1)\n",
        "final_data['Faint'] = final_data.apply(lambda row: faint(row), axis=1)\n",
        "final_data['Consciousness'] = final_data.apply(lambda row: consciousness(row), axis=1)\n",
        "final_data['Paralysis'] = final_data.apply(lambda row: paralysis(row), axis=1)"
      ],
      "metadata": {
        "id": "MxA91SoibohT"
      },
      "execution_count": null,
      "outputs": []
    },
    {
      "cell_type": "code",
      "source": [
        "final_data = final_data.drop(['sx1', 'sx2', 'sx3', 'sx4', 'sx5'], axis=1)\n",
        "\n",
        "null_variables = round((final_data.isna().sum()/len(final_data))*100,2)\n",
        "null_variables"
      ],
      "metadata": {
        "id": "BNELdd34bzm3"
      },
      "execution_count": null,
      "outputs": []
    },
    {
      "cell_type": "markdown",
      "source": [
        "# EDA (Charts for categorical and numerical features)"
      ],
      "metadata": {
        "id": "A-CM5sQdi5mh"
      }
    },
    {
      "cell_type": "code",
      "source": [
        "columns = final_data.columns\n",
        "num_cols = final_data._get_numeric_data().columns\n",
        "cat_cols = list(set(columns) - set(num_cols))\n",
        "print(num_cols)\n",
        "print(cat_cols)"
      ],
      "metadata": {
        "id": "V_dswLlqjNIh"
      },
      "execution_count": null,
      "outputs": []
    },
    {
      "cell_type": "code",
      "source": [
        "num_df = final_data[num_cols]\n",
        "num_df = num_df.dropna()\n",
        "corrMatrix = num_df.corr()\n",
        "plt.figure(figsize=(20, 20))\n",
        "sns.heatmap(corrMatrix, annot=True)\n",
        "\n",
        "plt.show()"
      ],
      "metadata": {
        "id": "3fRDnlakj_Jl"
      },
      "execution_count": null,
      "outputs": []
    },
    {
      "cell_type": "code",
      "source": [
        "for column in num_cols:\n",
        "  # An \"interface\" to matplotlib.axes.Axes.hist() method\n",
        "  n, bins, patches = plt.hist(x=num_df[column], bins='auto', color='#0504aa',\n",
        "                              alpha=0.7, rwidth=0.85)\n",
        "  plt.grid(axis='y', alpha=0.75)\n",
        "  plt.xlabel(column)\n",
        "  plt.ylabel('Frequency')\n",
        "  plt.title('Distibution plot for '+column)\n",
        "  maxfreq = n.max()\n",
        "  # Set the range of x-axis\n",
        "\n",
        "  if (np.percentile(num_df[column], 100) - np.percentile(num_df[column], 98)) > 100:\n",
        "    plt.xlim(np.percentile(num_df[column], 0), np.percentile(num_df[column], 95))\n",
        "  else:\n",
        "    plt.xlim(np.percentile(num_df[column], 0), np.percentile(num_df[column], 100))\n",
        "\n",
        "  # Set the range of y-axis\n",
        "  plt.ylim(ymax=np.ceil(maxfreq / 10) * 10 if maxfreq % 10 else maxfreq + 10)\n",
        "  plt.show()"
      ],
      "metadata": {
        "id": "ivAntMEDkmE_"
      },
      "execution_count": null,
      "outputs": []
    },
    {
      "cell_type": "code",
      "source": [
        "cat_cols"
      ],
      "metadata": {
        "id": "uK0kTenhmw23"
      },
      "execution_count": null,
      "outputs": []
    },
    {
      "cell_type": "code",
      "source": [
        "import warnings\n",
        "warnings.filterwarnings(\"ignore\")\n",
        "\n",
        "for var in ['medical_history', 'cv2_cc', 'stroke', 'cv2_act', 'cv_cc', 'diabetes', 'sex', 'obstacle2', 'cv2_phx_yn',  'triage',  'onset']: #'test1',\n",
        "  plt.figure(figsize=(25,16))\n",
        "  sns.countplot(x = var, data = final_data, palette = 'rainbow', hue = 'cv2_cphss')\n",
        "  plt.title(\"Bar chart for the \"+ var + \" separated by the events and non events\")"
      ],
      "metadata": {
        "id": "gpAReb8ki_5h"
      },
      "execution_count": null,
      "outputs": []
    },
    {
      "cell_type": "markdown",
      "source": [
        "**cv2_cc** seems a good variables to distinguish between stroke vs non-stroke. we can club some of the categories together which have the less counts.\n",
        "\n",
        "**cv2_act** also looks like an important variable fro making the stroke prediction but there are some junk values so we need to make that as null before proceeding\n",
        "\n",
        "**cv_cc** also has a major demarkation between stroke vs non-stroke but there are many categories that have negligible counts so we will club all of them together.\n",
        "\n",
        "**sex** variable has some unknown values which is strange so we would gonna mark them as null and later remove it.\n",
        "\n",
        "**obstacle** and **cv2_phx_yn** doesn't seems very important so we might not use these in our model.\n",
        "\n",
        "**Triage** look important as it is able to capture the majority stroke cases under one category. We would club the minority categories under one category.\n",
        "\n",
        "**onset** has some junk values that would be marked null and treated accordingly."
      ],
      "metadata": {
        "id": "zfp7Miaars1x"
      }
    },
    {
      "cell_type": "code",
      "source": [
        "group1 = final_data.groupby(['cv2_cc'])['cv2_cphss'].aggregate(['count','sum']).reset_index()\n",
        "group1['Stroke_rate'] = group1['sum'] / group1['count']\n",
        "group1"
      ],
      "metadata": {
        "id": "vepj7ha8xxsb"
      },
      "execution_count": null,
      "outputs": []
    },
    {
      "cell_type": "markdown",
      "source": [
        "We can see that there are few categories with similar stroke rate than other so we would try and club them together so that they have more number of cases and it would help the ML model to make a better decision. Below image shows the groups\n",
        "\t![Capture.JPG](data:image/jpeg;base64,/9j/4AAQSkZJRgABAQEAYABgAAD/4RDcRXhpZgAATU0AKgAAAAgABAE7AAIAAAAGAAAISodpAAQAAAABAAAIUJydAAEAAAAMAAAQyOocAAcAAAgMAAAAPgAAAAAc6gAAAAgAAAAAAAAAAAAAAAAAAAAAAAAAAAAAAAAAAAAAAAAAAAAAAAAAAAAAAAAAAAAAAAAAAAAAAAAAAAAAAAAAAAAAAAAAAAAAAAAAAAAAAAAAAAAAAAAAAAAAAAAAAAAAAAAAAAAAAAAAAAAAAAAAAAAAAAAAAAAAAAAAAAAAAAAAAAAAAAAAAAAAAAAAAAAAAAAAAAAAAAAAAAAAAAAAAAAAAAAAAAAAAAAAAAAAAAAAAAAAAAAAAAAAAAAAAAAAAAAAAAAAAAAAAAAAAAAAAAAAAAAAAAAAAAAAAAAAAAAAAAAAAAAAAAAAAAAAAAAAAAAAAAAAAAAAAAAAAAAAAAAAAAAAAAAAAAAAAAAAAAAAAAAAAAAAAAAAAAAAAAAAAAAAAAAAAAAAAAAAAAAAAAAAAAAAAAAAAAAAAAAAAAAAAAAAAAAAAAAAAAAAAAAAAAAAAAAAAAAAAAAAAAAAAAAAAAAAAAAAAAAAAAAAAAAAAAAAAAAAAAAAAAAAAAAAAAAAAAAAAAAAAAAAAAAAAAAAAAAAAAAAAAAAAAAAAAAAAAAAAAAAAAAAAAAAAAAAAAAAAAAAAAAAAAAAAAAAAAAAAAAAAAAAAAAAAAAAAAAAAAAAAAAAAAAAAAAAAAAAAAAAAAAAAAAAAAAAAAAAAAAAAAAAAAAAAAAAAAAAAAAAAAAAAAAAAAAAAAAAAAAAAAAAAAAAAAAAAAAAAAAAAAAAAAAAAAAAAAAAAAAAAAAAAAAAAAAAAAAAAAAAAAAAAAAAAAAAAAAAAAAAAAAAAAAAAAAAAAAAAAAAAAAAAAAAAAAAAAAAAAAAAAAAAAAAAAAAAAAAAAAAAAAAAAAAAAAAAAAAAAAAAAAAAAAAAAAAAAAAAAAAAAAAAAAAAAAAAAAAAAAAAAAAAAAAAAAAAAAAAAAAAAAAAAAAAAAAAAAAAAAAAAAAAAAAAAAAAAAAAAAAAAAAAAAAAAAAAAAAAAAAAAAAAAAAAAAAAAAAAAAAAAAAAAAAAAAAAAAAAAAAAAAAAAAAAAAAAAAAAAAAAAAAAAAAAAAAAAAAAAAAAAAAAAAAAAAAAAAAAAAAAAAAAAAAAAAAAAAAAAAAAAAAAAAAAAAAAAAAAAAAAAAAAAAAAAAAAAAAAAAAAAAAAAAAAAAAAAAAAAAAAAAAAAAAAAAAAAAAAAAAAAAAAAAAAAAAAAAAAAAAAAAAAAAAAAAAAAAAAAAAAAAAAAAAAAAAAAAAAAAAAAAAAAAAAAAAAAAAAAAAAAAAAAAAAAAAAAAAAAAAAAAAAAAAAAAAAAAAAAAAAAAAAAAAAAAAAAAAAAAAAAAAAAAAAAAAAAAAAAAAAAAAAAAAAAAAAAAAAAAAAAAAAAAAAAAAAAAAAAAAAAAAAAAAAAAAAAAAAAAAAAAAAAAAAAAAAAAAAAAAAAAAAAAAAAAAAAAAAAAAAAAAAAAAAAAAAAAAAAAAAAAAAAAAAAAAAAAAAAAAAAAAAAAAAAAAAAAAAAAAAAAAAAAAAAAAAAAAAAAAAAAAAAAAAAAAAAAAAAAAAAAAAAAAAAAAAAAAAAAAAAAAAAAAAAAAAAAAAAAAAAAAAAAAAAAAAAAAAAAAAAAAAAAAAAAAAAAAAAAAAAAAAAAAAAAAAAAAAAAAAAAAAAAAAAAAAAAAAAAAAAAAAAAAAAAAAAAAAAAAAAAAAAAAAAAAAAAAAAAAAAAAAAAAAAAAAAAAAAAAAAAAAAAAAAAAAAAAAAAAAAAAAAAAAAAAAAAAAAAAAAAAAAAAAAAAAAAAAAAAAAAAAAAAAAAAAAAAAAAAAAAAAAAAAAAAAAAAAAAAAAAAAAAAAAAAAAAAAAAAAAAAAAAAAAAAAAAAAAAAAAAAAAAAAAAAAAAAAAAAAAAAAAAAAAAAAAAAAAAAAAAAAAAAAAAAAAAAAAAAAAAAAAAAAAAAAAAAAAAAAAAAAAAAAAAAAAAAAAAAAAAAAAAAAAAAAAAAAAAAAAAAAAAAAAAAAAAAAAAAAAAAAAAAAAAAAAAAAAAAAAAAAAAAAAAAAAAAAAAAAAAAAAAAAAAAAAAAAAAAAAAAAAAAAAAAAAAAAAAAAAAAAAAAAAAAAAAAAAAAAAAAAAAAAAAAAAAAAAAAAAAAAAAAAAAAAAAAAAAAAAAAAAAAAAAAAAAAAAAAAAAAAAAAAAAAAAAAAAAAAAAAAAAAAAAAAAAAAAAAAAAAAAAAAAAAAAAAAAAAAAAAAAAAAAAAAAAAAAAAAAAAAAAAAAAAAAAAAAAAAAAAAAAAAAAAAAAAAAAAAAAAAAAAAAAAAAAAAAAAAAAAAAAAAAAAAAAAAAAAAAAAAAAAAAAAAAAAAAAAAAAAAAAAAAAAAAAAAAAAAAAAAAAAAAAAAAAAAAAAAAAAAAAAAAAAAAAAAAAAAAAAAAAAAAAAAAAAAAAAAAAAAAAAAAAAAAAAAAAAAAAAAAAAAAAAAAAAAAAAAAAAAAAAAAAAAAAAAAAAAAAAAAAAAAAAAAAAAAAAAAAAAAAAAAAAAAAAAAAAAAAAAAAAAAAAAAAAAAAAAAAAAAAAAAAAAAAAAAAAAAAAAAAAAAAAAAAAAAAAAAAAAAAAAAAAAAAAAAAAAAAAAAAAAAAAAAAAAAAAAAAAAAAAAAAAAAAAAAAAAAAAAAAAAAAAAAAAAAAAAAAAAAAAAAAAAAAAAAAAAAAAAAAAAAAAAAAAAAAAAAAAAAAAAAAAAAAAAAAAAAAAAAAAAAAAAAAAAGFkbWluAAAFkAMAAgAAABQAABCekAQAAgAAABQAABCykpEAAgAAAAM3NgAAkpIAAgAAAAM3NgAA6hwABwAACAwAAAiSAAAAABzqAAAACAAAAAAAAAAAAAAAAAAAAAAAAAAAAAAAAAAAAAAAAAAAAAAAAAAAAAAAAAAAAAAAAAAAAAAAAAAAAAAAAAAAAAAAAAAAAAAAAAAAAAAAAAAAAAAAAAAAAAAAAAAAAAAAAAAAAAAAAAAAAAAAAAAAAAAAAAAAAAAAAAAAAAAAAAAAAAAAAAAAAAAAAAAAAAAAAAAAAAAAAAAAAAAAAAAAAAAAAAAAAAAAAAAAAAAAAAAAAAAAAAAAAAAAAAAAAAAAAAAAAAAAAAAAAAAAAAAAAAAAAAAAAAAAAAAAAAAAAAAAAAAAAAAAAAAAAAAAAAAAAAAAAAAAAAAAAAAAAAAAAAAAAAAAAAAAAAAAAAAAAAAAAAAAAAAAAAAAAAAAAAAAAAAAAAAAAAAAAAAAAAAAAAAAAAAAAAAAAAAAAAAAAAAAAAAAAAAAAAAAAAAAAAAAAAAAAAAAAAAAAAAAAAAAAAAAAAAAAAAAAAAAAAAAAAAAAAAAAAAAAAAAAAAAAAAAAAAAAAAAAAAAAAAAAAAAAAAAAAAAAAAAAAAAAAAAAAAAAAAAAAAAAAAAAAAAAAAAAAAAAAAAAAAAAAAAAAAAAAAAAAAAAAAAAAAAAAAAAAAAAAAAAAAAAAAAAAAAAAAAAAAAAAAAAAAAAAAAAAAAAAAAAAAAAAAAAAAAAAAAAAAAAAAAAAAAAAAAAAAAAAAAAAAAAAAAAAAAAAAAAAAAAAAAAAAAAAAAAAAAAAAAAAAAAAAAAAAAAAAAAAAAAAAAAAAAAAAAAAAAAAAAAAAAAAAAAAAAAAAAAAAAAAAAAAAAAAAAAAAAAAAAAAAAAAAAAAAAAAAAAAAAAAAAAAAAAAAAAAAAAAAAAAAAAAAAAAAAAAAAAAAAAAAAAAAAAAAAAAAAAAAAAAAAAAAAAAAAAAAAAAAAAAAAAAAAAAAAAAAAAAAAAAAAAAAAAAAAAAAAAAAAAAAAAAAAAAAAAAAAAAAAAAAAAAAAAAAAAAAAAAAAAAAAAAAAAAAAAAAAAAAAAAAAAAAAAAAAAAAAAAAAAAAAAAAAAAAAAAAAAAAAAAAAAAAAAAAAAAAAAAAAAAAAAAAAAAAAAAAAAAAAAAAAAAAAAAAAAAAAAAAAAAAAAAAAAAAAAAAAAAAAAAAAAAAAAAAAAAAAAAAAAAAAAAAAAAAAAAAAAAAAAAAAAAAAAAAAAAAAAAAAAAAAAAAAAAAAAAAAAAAAAAAAAAAAAAAAAAAAAAAAAAAAAAAAAAAAAAAAAAAAAAAAAAAAAAAAAAAAAAAAAAAAAAAAAAAAAAAAAAAAAAAAAAAAAAAAAAAAAAAAAAAAAAAAAAAAAAAAAAAAAAAAAAAAAAAAAAAAAAAAAAAAAAAAAAAAAAAAAAAAAAAAAAAAAAAAAAAAAAAAAAAAAAAAAAAAAAAAAAAAAAAAAAAAAAAAAAAAAAAAAAAAAAAAAAAAAAAAAAAAAAAAAAAAAAAAAAAAAAAAAAAAAAAAAAAAAAAAAAAAAAAAAAAAAAAAAAAAAAAAAAAAAAAAAAAAAAAAAAAAAAAAAAAAAAAAAAAAAAAAAAAAAAAAAAAAAAAAAAAAAAAAAAAAAAAAAAAAAAAAAAAAAAAAAAAAAAAAAAAAAAAAAAAAAAAAAAAAAAAAAAAAAAAAAAAAAAAAAAAAAAAAAAAAAAAAAAAAAAAAAAAAAAAAAAAAAAAAAAAAAAAAAAAAAAAAAAAAAAAAAAAAAAAAAAAAAAAAAAAAAAAAAAAAAAAAAAAAAAAAAAAAAAAAAAAAAAAAAAAAAAAAAAAAAAAAAAAAAAAAAAAAAAAAAAAAAAAAAAAAAAAAAAAAAAAAAAAAAAAAAAAAAAAAAAAAAAAAAAAAAAAAAAAAAAAAAAAAAAAAAAAAAAAAAAAAAAAAAAAAAAAAAAAAAAAAAAAAAAAAAAAAAAAAAAAAAAAAAAAAAAAAAAAAAAAAAAAAAAAAAAAAAAAAAAAAAAAAAAAAAAAAAAAAAAAAAAAAAAAAAAAAAAAAAAAAAAAAAAAAAAAAAAAAAAAAAAAAAAAAAAAAAAAAAAAAAAAAAAAAAAAAAAAAAAAAAAAAAAAAAAAAAAAAAAAAAAAAAAAAAAAAAAAAAAAAAAAAAAAAAAAAAAAAAAAAAAAAAAAAAAAAAAAAAAAAAAAAAAAAAAAAAAAAAAAAAAAAAAAAAAAAAAAAAAAAAAAAAAAAAAAAAAAAAAAAAAAAAAAAAAAAAAAAAAAAAAAAAAAAAAAAAAAAAAAAAAAAAAAAAAAAAAAAAAAAAAAAAAAAAAAAAAAAAAAAAAAAAAAAAAAAAAAAAAAAAAAAAAAAAAAAAAAAAAAAAAAAAAAAAAAAAAAAAAAAAAAAAAAAAAAAAAAAAAAAAAAAAAAAAAAAAAAAAAAAAAAAAAAAAAAAAAAAAAAAAAAAAAAAAAAAAAAAAAAAAAAAAAAAAAAAAAAAAAAAAAAAAAAAAAAAAAAAAAAAAAAAAAAAAAAAAAAAAAAAAAAAAAAAAAAAAAAAAAAAAAAAAAAAAAAAAAAAAAAAAAAAAAAAAAAAAAAAAAAAAAAAAAAAAAAAAAAAAAAAAAAAAAAAAAAAAAAAAAAAAAAAAAAAAAAAAAAAAAAAAAAAAAAAAAAAAAAAAAAAAAAAAAAAAAAAAAAAAAAAAAAAAAAAAAAAAAAAAAAAAAAAAAAAAAAAAAAAAAAAAAAAAAAAAAAAAAAAAAAAAAAAAAAAAAAAAAAAAAAAAAAAMjAyMzowMzowMiAwOTo1NjowOAAyMDIzOjAzOjAyIDA5OjU2OjA4AAAAYQBkAG0AaQBuAAAA/+ELGGh0dHA6Ly9ucy5hZG9iZS5jb20veGFwLzEuMC8APD94cGFja2V0IGJlZ2luPSfvu78nIGlkPSdXNU0wTXBDZWhpSHpyZVN6TlRjemtjOWQnPz4NCjx4OnhtcG1ldGEgeG1sbnM6eD0iYWRvYmU6bnM6bWV0YS8iPjxyZGY6UkRGIHhtbG5zOnJkZj0iaHR0cDovL3d3dy53My5vcmcvMTk5OS8wMi8yMi1yZGYtc3ludGF4LW5zIyI+PHJkZjpEZXNjcmlwdGlvbiByZGY6YWJvdXQ9InV1aWQ6ZmFmNWJkZDUtYmEzZC0xMWRhLWFkMzEtZDMzZDc1MTgyZjFiIiB4bWxuczpkYz0iaHR0cDovL3B1cmwub3JnL2RjL2VsZW1lbnRzLzEuMS8iLz48cmRmOkRlc2NyaXB0aW9uIHJkZjphYm91dD0idXVpZDpmYWY1YmRkNS1iYTNkLTExZGEtYWQzMS1kMzNkNzUxODJmMWIiIHhtbG5zOnhtcD0iaHR0cDovL25zLmFkb2JlLmNvbS94YXAvMS4wLyI+PHhtcDpDcmVhdGVEYXRlPjIwMjMtMDMtMDJUMDk6NTY6MDguNzYwPC94bXA6Q3JlYXRlRGF0ZT48L3JkZjpEZXNjcmlwdGlvbj48cmRmOkRlc2NyaXB0aW9uIHJkZjphYm91dD0idXVpZDpmYWY1YmRkNS1iYTNkLTExZGEtYWQzMS1kMzNkNzUxODJmMWIiIHhtbG5zOmRjPSJodHRwOi8vcHVybC5vcmcvZGMvZWxlbWVudHMvMS4xLyI+PGRjOmNyZWF0b3I+PHJkZjpTZXEgeG1sbnM6cmRmPSJodHRwOi8vd3d3LnczLm9yZy8xOTk5LzAyLzIyLXJkZi1zeW50YXgtbnMjIj48cmRmOmxpPmFkbWluPC9yZGY6bGk+PC9yZGY6U2VxPg0KCQkJPC9kYzpjcmVhdG9yPjwvcmRmOkRlc2NyaXB0aW9uPjwvcmRmOlJERj48L3g6eG1wbWV0YT4NCiAgICAgICAgICAgICAgICAgICAgICAgICAgICAgICAgICAgICAgICAgICAgICAgICAgICAgICAgICAgICAgICAgICAgICAgICAgICAgICAgICAgICAgICAgICAgICAgICAgICAKICAgICAgICAgICAgICAgICAgICAgICAgICAgICAgICAgICAgICAgICAgICAgICAgICAgICAgICAgICAgICAgICAgICAgICAgICAgICAgICAgICAgICAgICAgICAgICAgICAgIAogICAgICAgICAgICAgICAgICAgICAgICAgICAgICAgICAgICAgICAgICAgICAgICAgICAgICAgICAgICAgICAgICAgICAgICAgICAgICAgICAgICAgICAgICAgICAgICAgICAgCiAgICAgICAgICAgICAgICAgICAgICAgICAgICAgICAgICAgICAgICAgICAgICAgICAgICAgICAgICAgICAgICAgICAgICAgICAgICAgICAgICAgICAgICAgICAgICAgICAgICAKICAgICAgICAgICAgICAgICAgICAgICAgICAgICAgICAgICAgICAgICAgICAgICAgICAgICAgICAgICAgICAgICAgICAgICAgICAgICAgICAgICAgICAgICAgICAgICAgICAgIAogICAgICAgICAgICAgICAgICAgICAgICAgICAgICAgICAgICAgICAgICAgICAgICAgICAgICAgICAgICAgICAgICAgICAgICAgICAgICAgICAgICAgICAgICAgICAgICAgICAgCiAgICAgICAgICAgICAgICAgICAgICAgICAgICAgICAgICAgICAgICAgICAgICAgICAgICAgICAgICAgICAgICAgICAgICAgICAgICAgICAgICAgICAgICAgICAgICAgICAgICAKICAgICAgICAgICAgICAgICAgICAgICAgICAgICAgICAgICAgICAgICAgICAgICAgICAgICAgICAgICAgICAgICAgICAgICAgICAgICAgICAgICAgICAgICAgICAgICAgICAgIAogICAgICAgICAgICAgICAgICAgICAgICAgICAgICAgICAgICAgICAgICAgICAgICAgICAgICAgICAgICAgICAgICAgICAgICAgICAgICAgICAgICAgICAgICAgICAgICAgICAgCiAgICAgICAgICAgICAgICAgICAgICAgICAgICAgICAgICAgICAgICAgICAgICAgICAgICAgICAgICAgICAgICAgICAgICAgICAgICAgICAgICAgICAgICAgICAgICAgICAgICAKICAgICAgICAgICAgICAgICAgICAgICAgICAgICAgICAgICAgICAgICAgICAgICAgICAgICAgICAgICAgICAgICAgICAgICAgICAgICAgICAgICAgICAgICAgICAgICAgICAgIAogICAgICAgICAgICAgICAgICAgICAgICAgICAgICAgICAgICAgICAgICAgICAgICAgICAgICAgICAgICAgICAgICAgICAgICAgICAgICAgICAgICAgICAgICAgICAgICAgICAgCiAgICAgICAgICAgICAgICAgICAgICAgICAgICAgICAgICAgICAgICAgICAgICAgICAgICAgICAgICAgICAgICAgICAgICAgICAgICAgICAgICAgICAgICAgICAgICAgICAgICAKICAgICAgICAgICAgICAgICAgICAgICAgICAgICAgICAgICAgICAgICAgICAgICAgICAgICAgICAgICAgICAgICAgICAgICAgICAgICAgICAgICAgICAgICAgICAgICAgICAgIAogICAgICAgICAgICAgICAgICAgICAgICAgICAgICAgICAgICAgICAgICAgICAgICAgICAgICAgICAgICAgICAgICAgICAgICAgICAgICAgICAgICAgICAgICAgICAgICAgICAgCiAgICAgICAgICAgICAgICAgICAgICAgICAgICAgICAgICAgICAgICAgICAgICAgICAgICAgICAgICAgICAgICAgICAgICAgICAgICAgICAgICAgICAgICAgICAgICAgICAgICAKICAgICAgICAgICAgICAgICAgICAgICAgICAgICAgICAgICAgICAgICAgICAgICAgICAgICAgICAgICAgICAgICAgICAgICAgICAgICAgICAgICAgICAgICAgICAgICAgICAgIAogICAgICAgICAgICAgICAgICAgICAgICAgICAgICAgICAgICAgICAgICAgICAgICAgICAgICAgICAgICAgICAgICAgICAgICAgICAgICAgICAgICAgICAgICAgICAgICAgICAgCiAgICAgICAgICAgICAgICAgICAgICAgICAgICAgICAgICAgICAgICAgICAgICAgICAgICAgICAgICAgICAgICAgICAgICAgICAgICAgICAgICAgICAgICAgICAgICAgICAgICAKICAgICAgICAgICAgICAgICAgICAgICAgICAgICAgICAgICAgICAgICAgICAgICAgICAgICAgICAgICAgICAgICAgICAgICAgICAgICAgICAgICAgICAgICAgICAgICAgICAgIAogICAgICAgICAgICAgICAgICAgICAgICAgICAgPD94cGFja2V0IGVuZD0ndyc/Pv/bAEMABwUFBgUEBwYFBggHBwgKEQsKCQkKFQ8QDBEYFRoZGBUYFxseJyEbHSUdFxgiLiIlKCkrLCsaIC8zLyoyJyorKv/bAEMBBwgICgkKFAsLFCocGBwqKioqKioqKioqKioqKioqKioqKioqKioqKioqKioqKioqKioqKioqKioqKioqKioqKv/AABEIAVIB4wMBIgACEQEDEQH/xAAfAAABBQEBAQEBAQAAAAAAAAAAAQIDBAUGBwgJCgv/xAC1EAACAQMDAgQDBQUEBAAAAX0BAgMABBEFEiExQQYTUWEHInEUMoGRoQgjQrHBFVLR8CQzYnKCCQoWFxgZGiUmJygpKjQ1Njc4OTpDREVGR0hJSlNUVVZXWFlaY2RlZmdoaWpzdHV2d3h5eoOEhYaHiImKkpOUlZaXmJmaoqOkpaanqKmqsrO0tba3uLm6wsPExcbHyMnK0tPU1dbX2Nna4eLj5OXm5+jp6vHy8/T19vf4+fr/xAAfAQADAQEBAQEBAQEBAAAAAAAAAQIDBAUGBwgJCgv/xAC1EQACAQIEBAMEBwUEBAABAncAAQIDEQQFITEGEkFRB2FxEyIygQgUQpGhscEJIzNS8BVictEKFiQ04SXxFxgZGiYnKCkqNTY3ODk6Q0RFRkdISUpTVFVWV1hZWmNkZWZnaGlqc3R1dnd4eXqCg4SFhoeIiYqSk5SVlpeYmZqio6Slpqeoqaqys7S1tre4ubrCw8TFxsfIycrS09TV1tfY2dri4+Tl5ufo6ery8/T19vf4+fr/2gAMAwEAAhEDEQA/APoa2hcxHFzKP3j9Av8AePtUvkSf8/Uv5J/8TWXrmvW/hjwnqOtXiM8VmJZCinBc7yAo+pIH41x+g+LviHeXui3mo+G9Om0TWcOv2GR/Os42AKtKXO08HOAOfY8U1q7CeiueieRJ/wA/Uv5J/wDE0eRJ/wA/Uv5J/wDE1wGnfEm6tYfGcfimK1hu/Dbl0FurKs8LLmI4ZickgD0+YVH/AGDq/wAUPAnh+58T6iumwTMLu+sbKJ0S6iJBRCxfK/LyTzyenAoSvr6fiPZ29fwPQ/Ik/wCfqX8k/wDiaPIk/wCfqX8k/wDia8g+Fn2K2+K3iTT/AATLK3hO3t0BTzWkiW5yBmMsSSDh+c847jFey0NaJ9xdWuxD5En/AD9S/kn/AMTR5En/AD9S/kn/AMTXDeI/GviCXx0fCHgey0+XUILX7XdXOpu4hjUkYUBOSTlefeorr4j6toHwxl8QeK/Dz2WqRz/Zo7IPhZ3JwGHUqvU88/LxnINLdX/rt+Y+tv67/kd95En/AD9S/kn/AMTR5En/AD9S/kn/AMTXF+Hdb+IA8UQad4t0HTzZXNuZhfaW77LY/wByTeeW6D5fXPIzjuqbVhJ3IfIk/wCfqX8k/wDiaPIk/wCfqX8k/wDiamopDIfIk/5+pfyT/wCJo8iT/n6l/JP/AImpqKAIfIk/5+pfyT/4mjyJP+fqX8k/+JqaigCHyJP+fqX8k/8AiaPIk/5+pfyT/wCJqaigCHyJP+fqX8k/+Jo8iT/n6l/JP/iamooAh8iT/n6l/JP/AImjyJP+fqX8k/8AiamooAh8iT/n6l/JP/iaPIk/5+pfyT/4mpqKAIfIk/5+pfyT/wCJo8iT/n6l/JP/AImpqKAIfIk/5+pfyT/4mjyJP+fqX8k/+JqaigCpawubOEi5lAMa8ALxx9Kl8iT/AJ+pfyT/AOJos/8Ajxg/65r/ACriNS+I+oL42udA8NeE7vXI9MaIareR3KQra78EBFYZlYLk7Rg8Yo3dg2Vzt/Ik/wCfqX8k/wDiaPIk/wCfqX8k/wDia8z1X4y3VlcanfWHg+8v/DGj3ZtL/WFu40aN1YK+yE/M4BI5yO/TFa8XxNjnuvGccGm+ZF4YsorxJRcf8fivC0oGNvyfdxn5uufaldW5vn8v6+8dne39djtfIk/5+pfyT/4mjyJP+fqX8k/+JrzaT4ualPf6TYaJ4Pl1S+1TQY9Zihjv0j2bmwY2Z1AwBk7upOBt5rD1/wCLniW/0bwTq3g/QpPL1e/MF1ayXMSmSVSym13OvGSpPmDGNvbOKqzTt52/G35r+tBdL/1tf8v63PZfIk/5+pfyT/4mjyJP+fqX8k/+Jp1s8strFJcQ+RMyBpItwbYxHK5HXB4zUlJ6BuQ+RJ/z9S/kn/xNHkSf8/Uv5J/8TU1FAFRoX+2Rj7TLny35wvHK+1S+RJ/z9S/kn/xNDf8AH9F/1zf+a1j+N/FcHgjwbqHiC6t5LpLNARDGQC7MwVQSegywyecDPB6UXsNJt2RseRJ/z9S/kn/xNHkSf8/Uv5J/8TXE6n8QtS0Sy0O41TRLJxrWq29hbvY6oZ4jHMuRMGMSk4/u4Geoaodf+Kn9hzeNE/sbz/8AhForSTP2rb9q88Zx9w7Nv/As+1D0vfp/wP8ANCXvbf1d2/M7zyJP+fqX8k/+Jo8iT/n6l/JP/ia8xPxe1065caLH8Pb9tUktFvtNtjfxD7TAWILyNjEOAPuncSeMA12ngbxZD438F6f4gt7Z7RbtW3QO24xsrFWGcDIyp5wM+gp2dr/1/Wgr/wBfibXkSf8AP1L+Sf8AxNHkSf8AP1L+Sf8AxNTUUhkPkSf8/Uv5J/8AE0eRJ/z9S/kn/wATU1FAEPkSf8/Uv5J/8TUVrC5s4SLmUAxrwAvHH0q3XnPxWl8RQ+AtPbw5/aYg+0wDU20dc3q2uPmMPo2ccjp9M0m7DSuegeRJ/wA/Uv5J/wDE0eRJ/wA/Uv5J/wDE14fqvjW+8P8AwbGq/DnxHf8Aim3fU0i/tDUpY2uLJSyAxP5iZfcxIBKgqJARwAa7G/8AiT4gs9c0zQU8Dyz61facb17NNSjxARJtZWk27cBcndnk4XHOaq2tvO34X/L+tib/ANfO35nf+RJ/z9S/kn/xNHkSf8/Uv5J/8TXmeqfGW7srjU76x8HXl/4Z0e6NpqGsLdxo0bqwV9kJG6QKSOQR36YrDg8bQeH/AIveNptPtH1bUNWOlRabYRPsa5ZoCc7iDtQL8zMRgClH3tv62t999Cuj8v8AOz+7qe0eRJ/z9S/kn/xNHkSf8/Uv5J/8TXlfiz45p4W1ybSzoltdzadFG+qn+2YYPJZlDFYFkCvcEAnoq84GBmvUdPv4NT0u21C0YtBdQrNESMEqwBH6GjpcWzsP8iT/AJ+pfyT/AOJo8iT/AJ+pfyT/AOJrznRfirq+ueGdR1638HiGws4ZStxdatFDHNMkuwxhnA2rt+beQACCvOM1iT/GjVda+Hviu50XRobTXNFhVyLbVLe8ijidSRMJVBRyuGJTB6Ad8BN2V/K/9f1trsO2tvO39f15bnsPkSf8/Uv5J/8AE0eRJ/z9S/kn/wATXlc/xh1Dw/4J8Pz+INBiXX9WjLQ20+q28EUsaqpM7zthI9wbITGcnFdp4A8bW3j3wuNWtrf7LIkz29xB5yzCOVOoWReHXkEMOoNVZ3a7f1/X3EKSsn3Nu1hc2cJFzKAY14AXjj6UVLZ/8eMH/XNf5UUijE8UeHv+Eq8D6poglELXiyIkhHCsHJUn2yBmuR0A/FGH+wtEl0jT9Ns9N2xXmpSXSTreRINo2xj5lJAz25x0HFeiW0LmI4uZR+8foF/vH2qXyJP+fqX8k/8AiaadmD1R5L8UPhjq/ibxxYXuhhhYakkdrrRWVE2xpIrBsE5Y4HbP3B61q/FzS/GGp+G7TQPAumtJZzKVvZI7mKEiMAARDew4PfHYY6EivRfIk/5+pfyT/wCJo8iT/n6l/JP/AIml9lR87h9rmOG+GlvrGiWiaFP4FHh3TYYi4ujqsV008uQPmCAEsRk56DGOmBXf1j6/4YsPE+jyaXrnm3VlKVZ4t+zJU5HKgHqPWuR/4UN8Pv8AoES/+Bkv/wAVVOXM7sSVlZDNf0DxPoPxNk8Y+E9Mh1uO+sxaXdg90tu6kYw6s3y4+UfrxzkQax4Q8Z+NfhhcWXia4sbfW/tYu7OOIfLEFPyxuy5BOCRkD0yTzXoGm6PDpGl22nadLLDa2saxQx5DbVAwBkgk/jVryJP+fqX8k/8AiaWysum333H1u/60scToN/8AEjVPE1m2t6PZaFpNvCVu0a5S5a6fsybTlOexPAz14rvKh8iT/n6l/JP/AImjyJP+fqX8k/8AiaG7iSsTUVD5En/P1L+Sf/E0eRJ/z9S/kn/xNIZNRUPkSf8AP1L+Sf8AxNHkSf8AP1L+Sf8AxNAE1FQ+RJ/z9S/kn/xNHkSf8/Uv5J/8TQBNRUPkSf8AP1L+Sf8AxNHkSf8AP1L+Sf8AxNAE1FQ+RJ/z9S/kn/xNHkSf8/Uv5J/8TQBNRUPkSf8AP1L+Sf8AxNHkSf8AP1L+Sf8AxNAE1FQ+RJ/z9S/kn/xNHkSf8/Uv5J/8TQBNRUPkSf8AP1L+Sf8AxNHkSf8AP1L+Sf8AxNAE1FQ+RJ/z9S/kn/xNHkSf8/Uv5J/8TQAWf/HjB/1zX+VcPe/DbUF8b3mveGvFl3olvqrxvqtlHbJKLkoMZR25iJXgkAnnNdnawubOEi5lAMa8ALxx9Kl8iT/n6l/JP/iaNncHqrHmep/Bu7vLvVLKx8YXdj4X1i8N3f6MtnG5kdmDOEnJ3IGKjgD86l134QXGoeIdYvdD8Uz6JYa3YLZ39hDZpIJdkZjQhycqACMgDJG4bhnj0fyJP+fqX8k/+Jo8iT/n6l/JP/iaVla39dh3d7/13OM0D4bf2F4o0bWP7V8/+y/D6aL5P2bb5u1s+bnccZx93B+tZUvwfnXwNpOiaf4lez1DSNUfUrXUlsg+12d2wYi+Djfjk9unavSPIk/5+pfyT/4mjyJP+fqX8k/+Jqm23d/1rf8AMXS39bW/IdbJLFaxR3E3nzKgWSXaF3sBy2B0yecVJUPkSf8AP1L+Sf8AxNHkSf8AP1L+Sf8AxNJ6hsTUVD5En/P1L+Sf/E0eRJ/z9S/kn/xNAA3/AB/Rf9c3/mtU9f0651bRZ7KzntYHmwGN3aC5hdMjcjxll3Ky5U8jrU7Qv9sjH2mXPlvzheOV9ql8iT/n6l/JP/iaNw2PLm+B0Q8N3VlZa4NOv5dXj1e3msrLZbWcycAR27SNgYJyN/Xb2AFTP8HLu60zxZDqXiuW+vPE0Fqk93LZKDG8I5YKrAEHsoxtGBk9a9L8iT/n6l/JP/iaPIk/5+pfyT/4mj+vy/yQ72/rzv8Amc2vgnb8R7XxX/aH/Hvo/wDZn2XyfvfPv8zfu49MY/Gp/APhP/hB/BdnoH237d9laVvP8ry92+Rn+7k4xux17Vu+RJ/z9S/kn/xNHkSf8/Uv5J/8TTu/69W/1Yulv60VvyJqKh8iT/n6l/JP/iaPIk/5+pfyT/4mkBNRUPkSf8/Uv5J/8TR5En/P1L+Sf/E0ATVzfiDRNX1vQbFfDviOfw9fQFZFuY7dJ0cbcFXjfhhg5HoQD2re8iT/AJ+pfyT/AOJqK1hc2cJFzKAY14AXjj6UAeff8Kd87wBrWh3/AIimudV1q9F/c6t9lVP3ysrKRCpwANo4zySTkcAbml+Cb+28YaZ4j1fXv7SvbPSW06Zvsaw/aGaTf5nythemNoH411XkSf8AP1L+Sf8AxNHkSf8AP1L+Sf8AxNGz0/rS35aB/X43/M8z1P4N3d5d6pZWPjC7sfC+sXhu7/Rls43MjswZwk5O5AxUcAfnU2r/AAatdS1/WNZtdWbT7+5azk0yeC3G/TXt49gwd3zqw6rwMfga9G8iT/n6l/JP/iaPIk/5+pfyT/4mhaKy/r+unYd9/P8Ar/h+557dfDLXv+Enuda0XxzPo8mqRxLq8Vtp6Mty6LtLx72Pkkr3+Yg85PSurfXtSjvzaL4S1qSJZPLF2JrPy2XON+DcB8d/u59s8Vr+RJ/z9S/kn/xNHkSf8/Uv5J/8TR0sI8/f4Sq/wmfwWdbdX+1NdR36WwGx/OMq5jLHcAeMZ568UWPwonVfFDa74muNWuPEunx2dzcParEyMqMpdQp2gfNwoAwB1Jya9A8iT/n6l/JP/iaPIk/5+pfyT/4mla6a/raw7u9/63v+Z5tL8J9bfRdA8vxxPDr+gF47PVk06PHkMoXymh3YbAUcknvnNd9oGnXmlaJBaapqs2r3i5aa9mjWMysSSSFXhV5wFHQADmrfkSf8/Uv5J/8AE0eRJ/z9S/kn/wATVXZNkFn/AMeMH/XNf5UVFawubOEi5lAMa8ALxx9KKQzF8T6zf6JoKXGmxL8940c909tJcpaR5cmVooyGccBeCMbtxOAaw7LUte1Hx/or23iLSbzTZtLnmf7FbyPDcBZolLKROVDHPB+bb8w+bOa666sJtR04xW2pXemSrO7LcWnllx8zcYkR1IOe6n1GDzWZZeBrLTrzTruxv76G4svOEkgaM/bBNIJJfNBQj5nXPyBMdBgcULe/9bNfn/TCWsbL+tb/ANfoZNh4r1qbwTBruqX2j2D34RLSIWc0zB8tkBFk3TswGRGgUjnlsVWtPHeuXWgo1tbWk2orrqaUzT2k9mjoyhvM8qQmSMhWHBznBxwRjoJPBFkdC0nTrW+vrR9Hk8yyvYTGZo22sp++jIcq7A5Xv680WXgbT7KPH2y/ndtUXVXlnlVmecIFOfl+6cZwMYzgYGABb67afmv0uEttP60f/A/rfLm8Xazoy6xY6rHY3+pWj2i2kttE9tDMbp/LjDqXkK7XByQTkdBnikvPFeu+GNUuYfEp0++tLfRrnUzNYW8kDuYmQeXsaR8cN13HORwuOdXxB4Z0y6h1i9vUvpvttvAkq2vMkXkszJJEAN29S5bjJO0YBPB57QNCTXfFd7qF62tajYHSn02W41u2Nq9z5jhiiw+XFhVUctsGS/VtvBq39/5O34j0S17r81f8Ll3wt4u1vU9fhs9StJJLe5t3lMqaHe2S2bjBEbSTjbLkE4YbOU+783Gl4l1rWbPxLoej6EliG1NbjzZ7xHYQCNVIYKrDdyfu5GfUVd0Pw7LorKH17VdShji8qCG+eIiJeO6RqznAA3OWPvknOP4t0W71bxt4Za1mv7NLdLste2QGYGKJtyWVk55GHBB9MiiVtLf1/X9MmN+v9f1/SKkvi/X4JP7JKabLq0OsR6dLOsbrA6SQGVZAm8spAxlSx+6eeQRcXU/Fmp32o2mj3Ojxto5S3nkubKVheXBiWQhFEw8lMOoyTIck8fL82ha+DLG2jt991eXNxFqH9pS3UzqZLifYUy+FCgbSAFUKAFGKNR8Ipeanc3tlrGp6S16qrex2LxhbnaNoJ3oxVtvy7kKtgDn5Rha2ff8A4C/W/T5Faf16v9Lf1qY1n4t13xJqGmweH47CwivdIXUJJb6J52gfzNpTYjpvHUZ3LjGeelWdC8X32qXGgQ3NvbxPfR3qXYQE4lt3EZKc8KW3HBycY5rb0/wzp2lahb3Ono0C21gthFAp/dpErbh75981nyeBrIWdnHZahf2NzY3M9zb3sDRmVDMzNIuHRkZTvIwVPRT1GafT7/zdvwsTrf8Art/mZ194v1lIp10+2spLhfEK6VGJt6r5ZRW3Egk7hknjg4xjvTZvGGr6J/a9jrCWN/qNpJZpaSW0bW0U5un8uMMrPIVw4bJBPHQZ4rUsvA2n2NusS3d9MRqn9qtJNKrM8+MHJ2/dPXAxjtgYAsal4Q0zVrjUpb7z3OowwRSBZNnlmFmaN0K4ZWDNnOeoFC0Wvl+Sv+Nx/av/AFu/0sZGuLqltY6T/wAJG2m6nL/bVp5Mltby2yxkvjOzzWJYdQSxBzyvHNXVPHN3Y+KreC1u7O9sH1GOwmgt9NuZDEztsO68B8lXViCYyoPbOSDW+vhXzbWGLVNa1LU3gvIrtJrkwqwMZyq4jjVduc5ONxz14GKJ+HlibhP+JrqgsotQGpQ6eskYhin83zSRhN7AsW+VmYDccYIBDjvr3/D3f8mS72dt7W/9K/4BzF5PrJ8O+PW1+7s9Vs7a92R2pt5owCI4GADCYkJz90Y+bJzziuouNV8SatrOrW3hqTS7WHSXWB/t9vJM1zMY1kKgrInlqA6DdhySTwMfNYuvBNndnW0e/v0ttbIe4tVaPYkm1F8xCULAkRqMFivXjNP1Hwil5qdze2WsanpLXqqt7HYvGFudo2gnejFW2/LuQq2AOflGJ+yku1vn/Vyusm+/6/1/WpjWfi3XfEmoabB4fjsLCK90hdQklvonnaB/M2lNiOm8dRncuMZ56V0PhPWJ9e8NW99exJDdbpIZ1jzs8yORo2K552kqSM9jT9P8M6dpWoW9zp6NAttYLYRQKf3aRK24e+ffNT6NpEGh6d9itHkePzpZsykE5kkaRugHGWOPaq0t9/5u34WFrf7vy/zL9FFFIYUUUUAFFFFABRRRQBDZ/wDHjB/1zX+VTVDZ/wDHjB/1zX+VTUAFFFFABXD+N/DVxqeuWurHw3o3iS0srGaM2WpTbGDsyNujDROhbCYGSvXqBXcVja34fl1psJrmqabE8ZinhsniCzKfUujMhwSNyFW568DCd91v/wAAat1MfxHqNtqnwpW60mQ2lvqNvbi1jIZC6yMm2EBASpYHZ8oON3tXI3FwfDdj4jj0XS5PDRuzYRQ6NF5cbxGWbyXuE8tjEpYNt+Rjgxgtgmu4fwZBcQ3lhLLJb6Z5NrDp0FrMymz8jLLIgPCuGI5wchFzkcUq+BrKa31FdY1DUNXuNQiSGS7upESSNEO5Fj8pEVNrEtkLnPJJwMU7czfT9P6+XzEtkv6/r0/IzPDllb29xqvhgaLb+FryS1ScyaLdCQTRsWTzA5jQiUEEFiueVO49rnw4t0tPDd7bxGRki1i/RTLK0jkC5kHLsSzH3JJNaujeHU0m6nvLjULzVL+dFje7vTHvEa5KoBGiIACSeFySeSeMWdI0i30W2ngtXkdZ7qa6YyEEh5ZGkYDAHGWOPb1o/wAv1/yDpbz/AEd/xLLf8f0X/XN/5rU1Qt/x/Rf9c3/mtTUgCiiigAqG8jkmsZ44ColeNlQsTgMRxnFTUyeIT28kJZ0EilS0bFWXIxkEcg+9KSumhp2dzgvAWmweFNSt/D154X0jSdSfTRIuoaW6yC9WIqknmMY43DbmRsEMDu+9kGofF+kLpviS/wDF2seF9H17TLe2gzJcODdWaRFy7xo8RU437uHUnb3OK2rjwXcfZ724TXdQvdXuLX7HDf3jxxvaxMwLiPyY0Ck4zuxuJVecAYuaz4STXZpEvdX1L+zZwouNLR4/InAxwxKGQA4GVVwDzkctm27tN/1r/kSklp0/r+tTnviPZae0J1CbQH8+JYpR4k2If7OVZAcgqTOMAE4RNnzfMQC5GbrlzJqPiXxHqV94ctNesPDzxoouroI1sghSZ5LdCjAy/OTuLIcKgDdcdnq/hNdammS71nU1024AFxpcbxCCYAAFS3l+YoIAyFdQeeOTlmqeC7TU9QubhdQ1Cyivo1jv7W1kRYrxVGAH3KWX5flJjKEjAJOBiOmnn/X9alLzN+2njurWK4gbdFKgdG9VIyDTbP8A48YP+ua/yqREWKNY41CIoCqqjAAHao7P/jxg/wCua/yqna+hKvbUmooopDCiiigAooooA8l8b28ME3iy71fR7651eOD7RoWpw2jutrGkIK7JwNsBWVZGYMylgR97IFU/H3jXTNXkgsrjXtNsY9HvbGS6tpLxElnufPiLLtJz5caFmJxgtj+4a9K1Xwums32++1TUGsGKtLpavGLeYr03HZ5mMgEqHCnHIILZu6zpFvrmnfYrt5Ej8+GfMRAO6ORZFHIPGUGfbNEdGvJr8Ov+fyG9X/XXp/Xdnn+uWstp4gm1+PR1vZZr23uLDXYZYWP2faii0jy2/MhDKAo2HzdxYc1teCtWjNw8N1Z3gvdTeW5bUpFQwXjoQrLEVYsEQYVd6ruVdwzya6a60eC91iy1C5klc2IYwQEjy1kYY8zGMlgpZQc4AZuOc1n6V4QtdJ1NLuO9vZ44FkWztZnQxWiyMC4TaoY5wPvs2BwMDNC00/r+tP6ZL11/r+v67GzZ/wDHjB/1zX+VFFn/AMeMH/XNf5UUDMecKk8gGFVWPsAM1naPrWn6/piahpFyLm1kZlWQKVyVYqRggHqDWZ8Rb64ttBuLPToppr7U5/sUEduyrId+d7KWIAKxh2ySB8vUVy1vqF1pM3ifTzpl7okN1pkl/p0c8kO5XjiEcu0xSOBj90w5zlmNfhFTBe1lUnfXmdtVsnZ6bve91p7rPVT+Ff12/M9Korgf7Mlk1DwxZvq+reXf28896Vv5VadhHHgZDZjGTnCbcc+pznwJe2mkLqw1jUprmy8Qrp0Imu3aM2wvBb7HTO2Q7WJ3uC+cHPAxgsBFpWnv5d20vxX3fcJTvHmt/Vrnp1Q3lyllYz3UoYpBG0jBRyQoycflXPfEW7nsfAGpXFpeyWEqCPFzG+0xZlUFs/Qn2rI1RBpWqyWWm6je3sN9ot3cXcdzeNcKNoUJKu4nZuLsMJhT6fLWeHwntYKbe7f/AJKk3r6PTzLT95I7eyukvrC3u4QwjuIllUMOQGGRn35qevNdSvDd6HaafaC4WXT9EhvJ5jrEumwwoyMA2+IFnb92ThhsAHXJwbGi3k/iy+0yy1u/vIUOg2t+sdrdPatdSybhI+6IqxC4QbQdo8zJB+XGssvai6jdkt+9ultfzt32M41NFft/l/mehVQtNXgvdX1DTokkE2nmMSswG1t67ht59PXFcDqba9reva5Bpt7CF0yOEWk765LZ+UrQq4uGjjiZJVLFuXyp2FcDnM9pYQaj418UjWNXuLR4be0lkSxvntgh8j5pdyFWKjtu+XjkZqlgIxg5VJfZT01au420v2l1tr+NczvY9GpssqQwvLK4SNFLMzHAUDqTXnug3N34rudLtvEV7e24bRIL2OK2untGupHZg8hMTK3yqI/lBwPN5H3cPtr641jwnbaG1098NR1CewW6YjdNZRu2+Qn+LKL5e7uWB71EsvcJcspbNX7W11T66J/1exzr+vS53dndw39jBeWrM0FxGskbMhQlWGQcEAjg9CM1NXBC3g1Pxr4otNS1y+tbWwitpIba21B7YW6mI7pPkYHHsfl45BNZc2tXuveGbNJ/tX2630aPULu4fVpNLijSQMBJmEEs52FtpGxR3B4NLL+Zrleml/LmV1u0n2e2u17gpPZ/1/Vz1GiuA0K4utf1TSJ9T1C8EZ8P2t9LFbzvEskxYkuQhGfdeh6EEDFUdK1i6n8XeG9RtjcQWWvGZ0jutYkmkni8lnDG1I8qLDBOUbjOCOSBP9nSvJX1im/wbtv2T2X/AAJ9orX9Pxt/megaRqkOs6XFf2qyJFKW2iQAMMMVPQnuKu15rpeqt4b0HQtZuJpv7O8q8t7mEOdu7c8sb7emf3TJnGSXAqTUrbVdH0+11LXLq/v7SxsfPv4rHUngmtpSzSPLt3ATR/whGbCiP5VbJFXPL17RpSsm2l8m1bor6Lr1XXQrm0/r+v8AhjvLLUrTUWuRZy+YbWdreb5SNsgAJHI54I5HFWq4KT+1tYsdXi0+9kcx64R9na9e2eeEQI3kpKo3RnJ3fLjoQSASa6XwtfW9/wCH45LRb1EiklgMd/J5k0bRyMjKz7m3YKkZ3NnHU1zV8L7OHOn2+V1fy/K3ncFK7+/82X7fUbW6vLq1t5PMltCqzYU7UYjIXdjBbGCQDkAjOMjKQalaXOo3VhDLuubQI06bSNgcErzjBzg9K4WA3Eng7w6kV3c2kt9rDC8eGUrIxZpjIpI9wR7YGOgp2s6hd6LJ4gt7O/uoYLeLTYVmlnaU2sckrJLLukLfMEJYs2eVBOcV0fUE5uEXrsv/AAJRv+O3491zar+u/wDkd5eXKWVjPdShikEbSMFHJCjJx+VJZXSX1hb3cIYR3ESyqGHIDDIz781wWoRRaV4pu9JsdWvp4T4du7iWzur6S42NuQLJmRmbkbgATgYOAMnLtMsJdKPg9o9T1GY6nCba8WW7cpIv2VnBVM7YyCgwUCnrknNL6lD2XNzavVadLN/p+XTUHOzt/XT/ADO0fWtOja2BukYXUzQRSRguhkXIKFxlVOVIwSORjrxV6vMtO0+1sfhHrksEtyzi4vHjM13LNtliupPKK72O1t6qeMEtycnmvTBnAz171hiqEKLag27NrXyt/n/V7DjJvcWiiiuIs2ILW3a3jZoIiSoJJQc8U/7Hbf8APvF/3wKdb/8AHrF/uD+VSV/RGE/3en/hX5HkS3ZD9jtv+feL/vgUfY7b/n3i/wC+BU1FdIiH7Hbf8+8X/fArI1jXND0O8gtL63me4uEaSOGz0ya6copAZiIkYgAsoycda3a5bxTpImupdZs/Etxol9p9hIGaMQPEsZO/dKkiE7cx9QVJCkZFJu2r2GlfRGxeXGmWGltqF3Csduqhj/ozFznACiMLuLEkAKBkk4xms6DxJ4fudOubyC3uXW1kWOeAaTcfaIy2CMweX5uCCDnbjHPao7Lxnap4JtNZ1grDePY29zPYw8yq8wARAhO7LPlVz1I68Gn6Bp97a3Wp+IfEHlW13fpGGton3JawRBtql/4n+dixHGTgZA3GpLlbT6ErVKw2z8VeGbxb9gJLUadEs119v02a08tGztb97GuQdrdM9KuaNqui68s/9nRHfbsFmhubJ7eWPIyCY5VVgCOhxg4OOlcVdRGb4cpr+oL/AMhXWLPU7wuPuW32mMxhs9FSJUz2GGJ7101p+8+KupyQYMcek20c5UceYZZWUE+u0k47Bh0zyevp9yv/AMD1Dpdf1rb/AIPobrWtv9sjXyIsGNyRsHqtS/Y7b/n3i/74FDf8f0X/AFzf+a1NSGQ/Y7b/AJ94v++BR9jtv+feL/vgVNRQBD9jtv8An3i/74FH2O2/594v++BU1Udbur+y0S7uNHsDqN8kZMFqJFTzH7DcxAA7nnpSeiBakEGoaJda5d6PbmCTULKKOW4hEX+rV87MnGMnaeM56eorN1fxZ4d0KS4XU7S/iS2GZZ00O6khUYznzUiKEe4Ncj4NmfQ/H2qf2rpWo2O7SIbjUNQ1Ka1A3+bcM0zlJmCqfuqBnaFwcAAnrvEh/tbxFoegA7oJHbULxezRQ42KfrK0Z9wpqrbeYPd/10X+Zeu9Y8PWOrWGl3dxZxahqBxa2hUebJ8rNnZjIGFPJwM8ZzxUOp6/4f0a+jtdSVoWdkUzfYJWgjLttUPMqGNCSRwzDqPUVR8WW0EfiLwtcRwRpPNrSiWVUAZwtrcbQT1OMnGemarfEaa7Tw3qF0t7YyaTZopvrAx7Z5yGDeWJtzKhYFQFMZJzgMu4Mov1/wAhtPby/V/5HYfY7b/n3i/74FRWtrbtZws0ERJjUklBzxVpTlQcEZHQ1FZ/8eMH/XNf5UhB9jtv+feL/vgUfY7b/n3i/wC+BU1FAEP2O2/594v++BR9jtv+feL/AL4FTUUAQ/Y7b/n3i/74FH2O2/594v8AvgVNRQBz2qeJfDWi6iLLUXWOXCGRls3kjgDttQyyKpSIE9C5XNGpeJfDWkal9hv3WOZdnmutm7xQbzhPNlVSkWT03stcb4m8y5HjueC7t7XToFSPVbS4P725CwKxMcn/ACwDowTJWTOMjaead4uttT0/w34rawOmtpuvQgt9qlcXVvcSQLEIViCkSM2I9oLoQW7gCktv667ff/SHbW39eZ2kmu+H4teGjvj7ZuVGxZuYkdl3KjShfLVyMEKWDHI45FXbSXS764uobRIpHs5fJnxFwr7Q23OME4IzjOM81xWuaFqNhPb21pqsTtql5DOlk9oWc3UaLmUyh+IV8pZGXbkkbQw3gVY8FaneW0ml2JexfTtRjupYI44mW5jaOQb3lfcVkZixLEKmGOOc8Vpt/X9b/gTd/wBf1/Wp2Vra27WcLNBESY1JJQc8UVLZ/wDHjB/1zX+VFIZhXdvbz363EkEbywuxhkeMbo88HBPIyODUNzYWd6UN5awXBQMFMsYbaGG1gM9MgkH1FT6lcw2S3d1dSLHBAHkkdjgKq5JJ/AVh+G/Eq65oUt/fW39lyW7ulzBNKD5GBuBZsAYKFW9s1/PuJhVdapUjspNfe3/Xz8z1o2SXma/2S28yGT7PFvt1KwtsGYwcAhT2BwOnpTP7OsTCYTZ2/lNN55Tyl2mTdv34x97d82eueetVH8T6BHHLJJrmmqkJIlZruMBCMEgnPGNy9fUetOi8RaJNeWtrDrFhJc3kfm20KXSF50wTuRc5YYB5HHBrn9nXSvZ/j6jurEPivSJ9d8M3OnWjxpNM0ZVpSQo2yKxzgHspqxY6Do+mR3Eem6VY2iXX/HwtvbJGJuv3gB83U9fWrdzdQWdu093PHBCuN0krhVGTgZJ9yBWbJ4j06403U5dG1Gyvp9PidpY4Z1k8pwCQrhTkcqeDjoaqEq8qXs435b/K7tv9yCyuT3OgaPeTWst3pNjPJZgC2eW2RjABjGwkfL0HT0pLzw9ouo2MFlqGkWF1aW+PJgntkeOLAwNqkYHHHFVl8T6ZZaHp194g1Ow003kCSA3NwsKsxUEhdx5xmrupa1pei26XGsalZ2EMjbEkup1iVmxnALEAnANO2JUklfrbf52/4Ak4tXQy+0DR9UuYLjU9Jsbye3/1MtxbJI0XOflJBI554pl94b0PVJ/O1LRtPvJdwfzLi1SRtwGAckdQBipL3XdJ025t7fUdUsrSe6OIIp7hEaY5AwoJy3JA49ayR4ws7LxDq9nrt/p+nW1pJBHbyXEwiMjPHvIyzYJ9AO1VTjipK8L6LTfa6WnzfQHymxqei6XrcKQ6zptnqEUbbkS7gWVVPTIDA4NJHpFtFqyX6bg8VqLWGIYEcSbsnaAOCcKD7IuMc5NT1vStFhSbWdTs9Pikbaj3dwsSscZwCxGTS3uq2tloc+rNIJbSG3NxviO4OgXdlcdcjpjrWUfbcqSvZ6Lt8h6N2MYeDrK88S6tqGuafp+oQ3TwvarcQrK0RSPaxwy4UkjtWxe6JpWpXdvdajplnd3FscwTT26u8Rzn5SRleQOlVP8AhKNLs7KF9f1HT9KumVBNbz3qDypGXdsy2MnGccDIGcVa1TXdI0SON9a1Sy09JSRG13cJEHI643EZracsVKUVre1la/RW0+W9hLlsTwWFnashtbSCExxLAhjjC7Yx0QY6KOw6VWtPDui2F01zY6PYW07yea0sNqiMz4I3EgZzhmGevzH1qW61jTLGVIr3UbS2kkKhEmnVCxY4XAJ5yQQPU0y313SLzVJtMtNVsp7+AEy2kVwjSxgEA7kByMEgcjvWK9vytq9nvvsGhnazoD6kNP0yC1sodHhuY7m4AOHJjfzFRYwu3BcKS27pkYOcjSvtD0nU7q3udS0uyvLi2O6CW4t0keI5zlSRleQDx6VT8Na6NZ0m2kupLdL2ZJJDBG2DsWQpuCkk44HPqasXHiLRLTyPtesWEH2mRooPNukXzXVtrKuTyQ3BA5B4rWX1iM/Zq9432vv1fzt9yDR6kl1omlX9rNbX2mWdzb3EnmzRTW6ukj8fMwIwTwOTzwKs21rb2VrHbWcEdvbxKEjiiQKiKOgAHAHtWdFr0EdtqVzq8lrp1tY3RgaeW8QptwuGY5whJbG1uenqK0LW7t760jurG4iubeVd0c0Lh0ceoI4IrGaqqNpXt+F7fdew9LlO00KytLi4kRPMSa5+1rDIqskMxHzOnGVLEknnqSRjJqW9sle2u3tLS0kuriMI4nT5ZwM4RyATjBIzg43E4PQ41z4puGliextojZvqsenrPI5Yy8sspVRjAVhtBJOSG4xgnYl1zSYdXj0qbVLKPUZRujs3uEEzjk5CZyeh7djW04V01KWr/wAu9vx/HUV1f+u7MHw74UNnqU15e6To+lw/Z2todO0sb4grkNI7kxoCW2qMbOAvU546X7Fa/wCj/wCjQ/6Kcwfux+5+Ur8v935SRx2OK4uX4l6Xbapr0tzrGlLp2jDyzbRyq11cPsViykyBQNzeXt2kllPzDpXRWfiS3vdWgt4Ggms72BprG9t7gSpOUOJF4GARkEYJyN3Taa3xNHFt+0qJ7efa/Xd2d3u979SVyp2/rsOn8MaXNdrPHbpbbrlbq5S3iRBdyLyjSkLltrYYc9QM5rXoorz5VJzSUnexdgoooqBmxBcotvGCsuQoHETHt9Kf9qj/ALsv/fl/8Kdb/wDHrF/uD+VSV/RGE/3en/hX5HkS3ZD9qj/uy/8Afl/8KPtUf92X/vy/+FTUV0iIftUf92X/AL8v/hWdqWkaDrNxbz6xo1rfzWxzBJdWHmtEcg/KWUleQOnoK1657xLrOuaJb3F9Z6bpU+nW0Bmlmu9Tkt3XAJI2LbyA8AY+bJ9KTdtRpX0JrjRNGvptQbU7H7fHqAiE8F3amWMiP7g2lcYBJPOeTSab4f8ADWjR3CaRoFjYJdLsnW100RCVeeGCoNw5PB9TViK/1SXwxBfLpKrqcsCOdPe5AWN2xlWk29FzyQpOAcAnAOdZeItWuDqdhPotuutWCxOttDfF4JUlyEbzmjUgAq+75MjbwGyMtqzaEndJm1m0Np9lNufs+zy/J+zNs2Yxt24xjHGKg0ux0nRLP7JoumRadbbi/k2ll5Sbj1O1VAzx1rNsfFF1/wATa31nSTDqGlxpM9tp0rXYmjcHYYyUQliUYYKjBHXBzVvwvr7+I9IkvZbCTT3ju57ZreWRXdTFIyclcrn5c4BIHqetPqHQvNcp9sjO2XAjcf6pvVfapftUf92X/vy/+FDf8f0X/XN/5rU1ICH7VH/dl/78v/hR9qj/ALsv/fl/8KmooAh+1R/3Zf8Avy/+FH2qP+7L/wB+X/wqaorq5hsrOa6upBHBAjSSO3RVAyT+QpNpK7DfQzdU03TdWt7mK5t5Fa6jWGaWO3IkeNW3BC23O3luP9o4xmrmbT7X9q+zn7Rs8vzvszb9mc7d2M4zziqGg6tq2rAXN7o8djYTxiW1f7XvmKnp5sewBCQQcBn7g4qr4u8YweFF0+M25vLq/uooEgV9pVGkVGlJwflUuv1LKOM5qrO6Qb6mzN9kuHhe4tjK0D+ZEz2zMY3wRuXI4OGIyOxPrVKfR9AudZi1e50W1m1KHHl3smnhpkx0w5XcMZPeqfiHxFq+g/aL46Lby6LZhWuLlr4rPs43skIjIYKD/E6k4OB0ytxr2sTeKbjSdF0qxuYbSGCW4uLrUXgYeYX4VFhfJATPJXqPrSQPzN37VH/dl/78v/hUVrcotnCCsuRGo4iY9vpVuobP/jxg/wCua/yoAPtUf92X/vy/+FH2qP8Auy/9+X/wqaigCH7VH/dl/wC/L/4Ufao/7sv/AH5f/CpqKAIftUf92X/vy/8AhR9qj/uy/wDfl/8ACpqKAMe90bQNS1ODUtR0S1u7622+RdT6eHli2ncNrlcjB5GD1p8mmaJNrUWsTaTbyanCuyO9axzMi4IwH27gME8Z7msbXvGt3pN1qjWejpeafoqJJqU7XflSIGG8+VHsIkKphjlkznAyaTVvG11ZS6pcWGjre6Vou3+0bk3Xlyr8gkfyothEm1GVjlk64GSKF5f1/XcNToyLM3i3htc3KxmJZzbNvCEgld2M4JAOPYVBa6fo9jqFzf2Wlw215dkG5uIbLZJN/vsFy341kyeMJ11mRItOifSIbyKwlvTdES+dIEK7YthBTMiAsXB5PykDJ1tF1g61Hc3MVuY7NJ2itpmbm4VeGcLjhd24A5O4DPQijz/r+tRaf1/XkWLW5RbOEFZciNRxEx7fSipbP/jxg/65r/KigZwfj+21DVbNNF0sbH1K78ued4GkihhXLvvAI4YLsxkE7+D3rnb7SvEGm6jrv2wxalHrulSqW0+wkiWO4ijIQEGSQ5dGxnI/1ajr19Gnz9ok3AA7jkA570yvwarjZUas6aSteV/N3vvv0X3HqxW0vQ49NGA1jwb/AMS8+Vp9pNz5R227mNFGePlP3h+dZS6FLB4WuVt9MliuG8Vi6CxwlWKC/X95gDO3yh16bfavRaK544+oreVvwbf6goJR5f62scp8TkWT4caojxGZWEQaIY+ceanHJA56c1m3oOu6r9o0fSry1t7HRru2laexkty7SBPLgRWALgbGOVBUcYPNddrWkQa7pE2nXbyJDMVLNEQGG1gwxkHuoq/To4tUqKileScvTVRX6P0Kt71zzjUJNXjtrTTmh1OzgOiwrE+naaJ5bmfDB4JHeN0iUfL94LksTuABFL4f+0+H7jSNQ1zTb+SFvD1paRSQWUtxJayrkyxsiKzruynO3H7vBIIAPo1FW8enB03DR723++35369NDP2e2v8AWn+R5jqmkO2va7BqUniCzstXihSCHTdNiuIpIfJCGFm8mTyyrb+Cyr8+QfvGrlu0Ph7xj4in1DRdUvVuba2gguY9Pe5Nyqw4aMsinGT1Jwuep449CooeYOUeWUdLJOztty67f3Ve9/kVy63PPNCtLrwjdaXceILK7nVdEgskks7WS7NpKrM0ke2MMwDAxjcBg+Vyfu5dpdjPJbaboMtsbSG51CfVJLN8EwWiyl44yM/KWdozt7DcO1eg1GLeFblrhYkE7oqNKFG5lBJCk9cAsxA9z60pZg5tylH3n911e1l0te/r21ucn9fK35HApqFjpfxD8Wy3ekXl5JNFbRK9rYvc7x5OfKOwHbnP8WFPrxVEW+vaZpFhol6moWyx6NFGj6VYLcvcT/MGt3ldJI40UbAC20HOd+ARXoNppEFlq+oajE8hm1AxmVWI2rsXaNvHp65q/VvHxi1yxvpG9+8YpaX+fe/SwJPf+t/+AcJ4R0y6g1DSLm7sZllg8M20G+aMrskydyEkcN0yOtZejtrOo+JPC91fRaqs0E0pvrX+zBb2dgxgkG2NjGHcE8bg7qSM8ZUV6fRUf2g25ycVeSt6aNfr0sSqdlb0/BJfoeaSrf8AhzwjoetQWkgvrR7izaB0Ks4uHYRqQfWYQfQEmrOsaW3heG1Ph9b2bVI9OW0WJtOe6tr8AsdkrKP3TF3J3l1Hz5O4Agdjf6NHqWo2dzdXM5is5PNS0G0RPIM7Xb5dxK5yBuxnBxkAjRq5Y/Z2vq2101baTv2u/v7q5XL/AF/XyOAm00/YtVuNQj1Kyli103dpPZWbXDxt5CKHEYRjInLKcKevbGR1Hhe5v7zQIp9Wto7a5eSQ4jgaEOu9tshjYlkLLhirEkE881r0Vy1sU6tPla/q239MFGzv/W7f6nAWEE0nhXQ7OOJ5bjTdbWK7WNCdhSR9zEAcAghs9MMD3rPh0OWTU9Q0zWLzxJFJcaw12kdrp8T20o80SRSfaPIbbtUICGkDDZgDG0H0qO2giuJZ4oI0mnx5sioA0mBgbj3wOOalroWYOLlaO+vTR3v2fX5+gOF1/Xn/AJnB6ppl/PoPxCihs53lvJWNsgQgz/6HCvyZ+98ykcdwRWrc3sera94aFmkysjzXkizQPC8cQieL5kcBly8igAgZwT2rp6hS0t4rqW5it4kuJgollVAHkC52hj1OMnGemax+t3jaS2Tt84qP6X/rRuOpNRRRXCUFFFFAG7b/APHrF/uD+VSVWga4+zx7YoiNowTIR2/3afuuf+eMX/f0/wDxNf0RhP8Ad6f+FfkeRLdk1FQ7rn/njF/39P8A8TRuuf8AnjF/39P/AMTXSImrnfFdrcapc6LpccEj2s98s95IqkqkcI8wKx6DdIsYweozW5uuf+eMX/f0/wDxNG65/wCeMX/f0/8AxNAGB4j8Vy6Za6rHpWm3V/fWMcBCxwNKuZmKg7Y8uwQDewC524x14w7TV49E8M6tqWjWetaxrcrxtcz3ujXcLTOxCKRGYgTHGOdkYJCg9WYse4SOSOSSSO1t0eUgyMrkFyBgEnbzwAKfuuf+eMX/AH9P/wATQBzngo2BW9kgfVbnUZ2WW+vdS0y4tGmbGFCiWNQEUDARc7R1ySSZvBNrcWmk6gl1BJAz6vfSKsiFSyNcyFWGexBBB7g1u7rn/njF/wB/T/8AE0brn/njF/39P/xNMOlvO/5/5g3/AB/Rf9c3/mtTVUZrj7ZH+6iz5b4HmH1X/ZqXdc/88Yv+/p/+JpATUVDuuf8AnjF/39P/AMTRuuf+eMX/AH9P/wATQBNWR4t0yfW/BusaXZsFnvLKaCMk4G5kIH860d1z/wA8Yv8Av6f/AImjdc/88Yv+/p/+JpNXVhxfK00eZ6W9houpRa/pHh2+0mGy02X+20exa3e6lOzYmX2ieQMH/eAsOT8/zczeM/CniaT7fqVlqVjdvd3tkI4W0iSSa3hS5jZUDrOBsU5dvlGfmyRwV9DmjkuI/LuLW3lQkHa7lhkHIOCvYgGn7rn/AJ4xf9/T/wDE1V9U+3+dyUrKxwWtaodR8QyaV4ot9XGlaeYiYrHRLuaLU5docszxo4EStgeXuySp3Ejgnj+y0vVFuorLw1czeKniQabqUWmOrRvwY3+1hcRhDkkM4OFI2nIDd7uuf+eMX/f0/wDxNG65/wCeMX/f0/8AxNJdB9SVchBuOWxyfeorP/jxg/65r/Kjdc/88Yv+/p/+JqK1a4+xw7YoiPLXBMhHb/doBaFuiod1z/zxi/7+n/4mjdc/88Yv+/p/+JoAmoqHdc/88Yv+/p/+Jo3XP/PGL/v6f/iaAJqKh3XP/PGL/v6f/iaN1z/zxi/7+n/4mgDzPxTZvLrGvm+0zWJtVlMY0Y2FpI9tOoQeX5xUGFisu/P2jhRyMA5qbxdoz3kmpadYHXo9S1u2WK6tLS3I0+4cx7DM85jIjCj7yrIjMIwNrZG70bdc/wDPGL/v6f8A4mjdc/8APGL/AL+n/wCJpWVrP+v+H69x3d7r+v8Ahuhxuu+EbG51mxtbCyu1uLgKbq8WaZIYoo02b9oPlmcrhFbG9RlgRsFVvB8F9b+ILaIQ6xDJFDOmpx3PnCzQhwIVgD/u8AA48ngL9/nFd3uuf+eMX/f0/wDxNG65/wCeMX/f0/8AxNO7vcmyCz/48YP+ua/yoqK1a4+xw7YoiPLXBMhHb/dooGcR8QdUk0qxglXVv7Hil1KOGe9/dDyo2Jycyqyj6kU3T9XSHRFuNKv73xkJJSFltXtGIwORvXyogB7ndz37aXiXS5tUuLP7O0a/ZdSjuX3kjKqTkDA681k+LPD97rN/p80VtY6nZwJKk+majM0cErNt2yEBHDldpwrLj5sggivwmq6Mqrpytfmk29Pkuj1/xJHqa6PyX6kw8Y2cumWNxZ2V7dXV8XWHT4kQT7oziUNuYIuw8ElgM4AJJGX3XinyGhgg0bUry/eHz5bGERCW3TJXLl5FT7wIG1juwSuQCawdI8G6x4fs9Jn05tNmvtO+2QtbZeC3lhnm8zCkKxjK7UwNrDqvo1Saz4PutU1uHWrvQvD2sXElmtvcWeoklISrsytFKYnJ++VOUXdhT8uMVPscH7S0WnHXr1u7LdaWs76a9eiE5W1/ruddpuo22raXb6hYuXt7mMSRkqVOCO4PIPqD0rnrDx/ZX9ra3qaXqkWm3MwgF/LEixJIXKBWG/fgtgbgpXJHzdcdDplmmn6Xb2kVvbWyxRhfKtI/LiQ9wq9hmvPfCml65rfgTStNmFhHpBnWaS5SaTz2RJy/l+XtwMlQC+/oT8tY0KNCUZylspJavo+a/q9Fb8gbdkdje+JV0/VIba60rUEtZp0t11ArH5IkbhQRv8zBbC7tmMkc45ptr4ojvri+jtNL1CZLGSSGWZUTaZUONijfuJOcg42juRXMXHgPVLrV0uLi30i4mi1dL5dWuHeS7aETbxAoKfugq/KNrlTt+6NxI17rwxqb+GdVsbS7jiuLvUnu0KTPGrxmYOYmdRuXcoKkqDjcetaSo4RKKUld2Xl67/5eiG3K+n9b/wDA+8h13xPJd+GNZjjtb/R9RsRCzxTsgkCu42urROykHDDhs8HI9difxVZW1nqs8sVwDpdwtvLFtXfI7BCgQZwd3mKBkjk9q5i28BXsdtr6wWOi6SuqQ2yRWmngrFE0bsWLMI13Egg7to9McZN/UNOa5+KVpHA4Nu9sl7fx+jQs6wZ/3mkJ/wC3cehrSVPCv3IvRXf4QbXX+8lq9epN5Wb/AK/rY0j4m+2tfw2NlfpBb+dD/aYjjaJZYwQwCl95KsCMlQpI68gmGz8WD7JpdvFaahrF3Np8N5O8EUUZjjcYEjqzgZYhvlTcRtPHTNS88L6lc+JpL21gsdNicyefcWt1IHv1MbKizQ7AmQWB3lmYbOMbuINT8I6pcaBpNhaW+ni9s7BLZdVW7lguLKQIFZ4iiEyL32FkDYwcg8TGnhXaN1rb5aPd3/Jr0voN819PP9P+D3/Q7mikQFUUM24gYLEdfelrxjQKKKKACiiigAooooAKKKKACiiigAooooAKKKKAN23/AOPWL/cH8qkqO3/49Yv9wfyqSv6Iwn+70/8ACvyPIluwooorpEFcp461HX9Ls7S60a4tLa0W7to7lpIjJNIJLmKPYg4VRtZssdx7AA/MOrrG8VaRca5oQsrR40k+120+ZSQNsc8cjDgHnCHHvihfEvVAX9StJr6xeC21C506RiCLi1WNnXB7CRHXnpyprg4/EGqaDo3iLWJ9cuNWsre5jsNPbUY4EBm3iJ3Jhjj+QSPtx1/dsc812IudVn1PVoIYYo4IIIxZySoy+ZMQxbLd1H7scDru69BkzeDXf4cWvh6O5jS8tkhlW5dSytcxusu9hwSGkXJ6dTS7/wBfd8l+I+39f1/wCLw94jsoNN1Se/8AEd9qH2BFlul1LTvsc1uCCcrH5UbFGx8uQxJBG5ugXwHrWtaxc6//AMJAvkPBfILe0KKGtongjkWNiOrDfyTnkkDgCoz4Mm8SanPqXjSGKCQxwxQWul6jOAnlO0gkMyiJi25uBgAbRyT0teFvBqeG9e1y+S4upY7+ZGgE+o3FwQgijU7xKxBbcrYbk7cDOOBS3d+36r+vIXodG3/H9F/1zf8AmtTVC3/H9F/1zf8AmtTUgCiiigApshcRsYgrPg7QxwCe2Tg4/KnUUAct4O1DXLrUPEFr4jurW4nsryKNBaQmOONWt4pCq5JZsFz8xOT6KOBma7rc9n43mi1TXtY0PSY47YQSW+mo1rLI7MH8y4eB1Tny15dOvvWnLY6roX/CVapp8cN1dahcRzWMQVnwwgiiG8DHG5STg/d5yOx4r0vxFr9je6HbJpsel6hF5Mt888gnhRhiQLDsKucZwTIuNwyDt+Z9Y/L8h6f1/X5FPxnqtzp+oxLpXijydXbyjaaAscL/AGxd+GLIVMxBG/LqyqoXJ+6SWePPFWo6dcWlh4eYLNHdWj6hcFAywwyXCRiPkEb33HHoqseDirnivRtd8Q6feaBHbaV/ZV4ix/bZp3M9uOMkQ+WVZwRlW8xcHBx8vNPxL8M9P1a1uW06W+gvLu9gupydYu0ikKyxlzsWTaG2JhSF4IXGMAhR3Xr/AJf1/wAOI7iobP8A48YP+ua/yp8MSwQRxIXKxqFBdy7EAY5Ykkn3JyaZZ/8AHjB/1zX+VAE1FFFABRRRQAUUUUAeceLvEmq2OvajDba0dPu7WOFtI0nyIm/thjyy/Mpdvm+T92y7PvNwRWl4xg1q38p9I8VapaX2pXKW1nZJDZvDG5GWPzwFyqorufmycEAjIqLWfCuvTTeIbTTo9JuLHxCVMt1eyyLNafu1jIEYQiUKF3KC6YJI963m0O4k8UaZfTTLLZ6bZSRxK7EyNO5UGQ8Y4RSM5/jbiiPT+vNr9PnoD/r9P8/zOW1LxZcab4tuY7vxB5D2l3FGujOkQE1mY1aW6YlfMwuZG3KwQeXtIznPQ+FPECazLfC41S0kvfM8z+y45UMthD0RZFHzBz95t3QttHTm5rGl3Wr6hYwyPEulQv59ym4l53UgxxkYxsz8x5ySqjGCax9A8M6tYatYm/8AsItNLS5S3nhdmmuvOcMS6lAI8YyQGfc3PGMULs/6/p/1YH5f1/X/AA51Vn/x4wf9c1/lRRZ/8eMH/XNf5UUAVorGOZWeR3Lb2BORzhiPT2p/9mQ/3pPzH+Fc/wCKbmcx6NpUVxLaRatqrW1xPDKY5BGFllKq45Ut5YXIIOGOCDgia40jw14E0fUde0vQrOxNnaSSy/YYFhaZVXdtYqBu6cbs4NeLLIssk3OVFf1qa+0qXUU/62/Q2v7Mh/vSfmP8KP7Mh/vSfmP8K5yHV/E2lajpH/CRnS7i11aX7OY7GCSN7OUozqC7SMJV+UqSFQ5wcdQM3TfFvieTSdI13UY9LXT76+WzktIIZPOAeUxJKJC+BztJTYeM/NS/1fyu6XsI9vn/AE0L207Xv5/I7X+zIf70n5j/AAqK20Kxs7dILOMQQp92OJVVV78ADArkbjx7daXqOtSa1PYWcOnJcSR6RLbyR3VxFGrFZopmcJKG25IVMLuwWyOZPEra4vw/1e58TrpN7C9ssq2dvDNGIm3A7GfzMyj/AGgI/u/d5wGsgyxr+CrA6s11Ov8A7Mh/vSfmP8KP7Mh/vSfmP8K5+41XxJq2s6tbeGpNLtYdJdYH+328kzXMxjWQqCsieWoDoN2HJJPAx8zvDXi+XxFqlui2ywW1xpEN/sbmRJHd1ZC2cEDb6UlkGVuy9hHX/Jv8kN1ai6/1ov1N7+zIf70n5j/Cq1t4c0yznuJrS2jglun3zyRRqrSt0yxA+Y+5rk7jxvq58P6VfF7HTIbqa5S61S4s5Z7a1EcpRFdVddgbr5jOFXaQfvDE7+IfFOo3+rw6JJoiQ6bawTpPJFJOtyzxFyi7ZFwpwCHyeD909aP7DyuMX+5Vv6/r8gVSbaVzrv7Mh/vSfmP8KP7Mh/vSfmP8K4a/+It5dS2EGiRNaPcaXDqUsr6Nd6kFEudkW23xtPysSzHsMA84ln8cauf7Hku47Twzb3dmk0susWkzRvOWIa235jEDDbwZMlt4wmQQX/q/ll7ewj2/r7he2na9/P8AL/M7T+zIf70n5j/Cj+zIf70n5j/Cuc0nxNqF54yudM1G50+w2TSJDpc1vIlzNEuds8czOFlU43EInyhsFsjnr6X9gZXZP2EQ9rO9rlP+zIf70n5j/Cj+zIf70n5j/CrlFH9gZX/z4Q/az7lP+zIf70n5j/Cj+zIf70n5j/CrlFH9gZX/AM+EHtZ9yn/ZkP8Aek/Mf4Uf2ZD/AHpPzH+FXKKP7Ayv/nwg9rPuU/7Mh/vSfmP8KP7Mh/vSfmP8KuUUf2Blf/PhB7Wfcp/2ZD/ek/Mf4Uf2ZD/ek/Mf4Vcoo/sDK/8Anwg9rPuU/wCzIf70n5j/AAo/syH+9J+Y/wAKuUUf2Blf/PhB7Wfcp/2ZD/ek/Mf4Uf2ZD/ek/Mf4Vcoo/sDK/wDnwg9rPuVLaKR7WJvtEi7kBwAuBx9Kl8iT/n6l/JP/AImiz/48YP8Armv8qmr2YxUYqMdkZEPkSf8AP1L+Sf8AxNHkSf8AP1L+Sf8AxNTUVQEPkSf8/Uv5J/8AE0eRJ/z9S/kn/wATXmHxg8VabNpOreFjrljp7pp0txeLNdJHLL8jGKCNSQWZ2AJx0UY/jFUPiL430PV/BlzoFh4l0uGI6S9xcyfbow048s+XBF83zF3HzYzhRjqwpX0v/X9aFW1S7/8AA/zPXvIk/wCfqX8k/wDiaPIk/wCfqX8k/wDia53UfGekaH4Cg137dZz20kaRWsguUEU0rfKq+ZnaBkcsTgAEnpXneiXMd9ovjKz03WrfxDeS6jbXl+umXCyPd25jgNyIgrZ248xAB6betVb3nHt/mv8Ah2RF3in3PZvIk/5+pfyT/wCJo8iT/n6l/JP/AImvP/DNvZz+J9f0nw3aX2g6Lc6bbyqkVsbIxTM8qO8cLqDGWVQM7BkpkZ61s/Di3S08N3tvEZGSLWL9FMsrSOQLmQcuxLMfckk0W/r52G9Pv/NXOiaF/tkY+0y58t+cLxyvtUvkSf8AP1L+Sf8AxNDf8f0X/XN/5rU1ICHyJP8An6l/JP8A4mjyJP8An6l/JP8A4mpqKAIfIk/5+pfyT/4mjyJP+fqX8k/+JqSRBJGyNnDAg7WIP4EcivPNAsLS08Y6hbaVoQ8KSXWksI9PZERbplfHnkQFovl3hc7jJ83KgbSVr0/rQdjv/Ik/5+pfyT/4mjyJP+fqX8k/+JrhfAWmweFNSt/D154X0jSdSfTRIuoaW6yC9WIqknmMY43DbmRsEMDu+9kGrfi3TFHjTwpqbXV27tqohS3M5EEY+zXBJEYwCxOPmbJGMAgZBtrVJdf87Eq7TfZX/C51/kSf8/Uv5J/8TR5En/P1L+Sf/E1w/jrwl4c1jUrCwk8P6XLqWtXO24vWso2mWCNd0j7yN2SFWMHOQXB7Vk61O974j8RX154as9c07w40cSJdXIja1QQpK726FGBl+YncWjOFQBuuIv3/AK/q5VneyPTvIk/5+pfyT/4morWFzZwkXMoBjXgBeOPpU9tPHdWsVxA26KVA6N6qRkGm2f8Ax4wf9c1/lVNWdmSndXDyJP8An6l/JP8A4mjyJP8An6l/JP8A4mpqKQyHyJP+fqX8k/8AiaPIk/5+pfyT/wCJqaigCHyJP+fqX8k/+Jo8iT/n6l/JP/iamooAh8iT/n6l/JP/AImjyJP+fqX8k/8Aia4fx14S8OaxqVhYSeH9Ll1LWrnbcXrWUbTLBGu6R95G7JCrGDnILg9qwfGtrb2r+K7nVdGvZ9WigE+g6lDZu62saQgqEnA2wFZFkZgzKWBH3sgUr6a/16f10Y7Nuy/r+v8AI9W8iT/n6l/JP/iaPIk/5+pfyT/4mvM9Wsr2x1ptcu9AM1/Jd209tq6PFvji2Ips1BbzAzsHQKF2HzdxYc43fBWrRm4eG6s7wXupvLctqUioYLx0IVliKsWCIMKu9V3Ku4Z5NVYm99V/X9f1sdVawubOEi5lAMa8ALxx9KKls/8Ajxg/65r/ACopDKN9o1lrujyWWoo7RGZnVo5GjeN1kJV1dSGVgQCCDVa18MOI54tZ1zU9cgnhaBoL4QLHtYYbiGKPdkcfNnHbGTSahfWmmyxLcuIhPcC3hAUnLtnC8Djp9KmrH2m+huqW2pU07wZDZ31ncXur6nqq6fn7DDfSRstsSpXcCiKzttJXdIXPJ5ySTMnhGwj8P2OjiW4+z2NzHcxsWXeWSXzQCcYxu4PA4/OpaKPa63sHsVtcp3/gmz1jUDLrl/e6lZBpGi0658ryImdGRiCqCQ/K7gBnIG7gcDDR4KSTQ7vSL7XdXvrOeEQRpcSRE26A9FYRgseAN0hduOvJzQ1Lxjo2k6hPZ3j3hlt41lnMGnXEyQo2cM7ohVRgE8kdKuQa5Z3WrR2FsxmaSzF5HNGQ0bxltoIYHnPX0x3oVV9EDpJ7ssaj4RS81O5vbLWNT0lr1VW9jsXjC3O0bQTvRirbfl3IVbAHPyjDJ/BNis1hLo17e6JJY2n2JDYNH89uCCI2EiOCARkMMMMnnk1coo9r5D9j5lO38GJp/h200fRtb1XTYLXzAJIXileRXYsVfzY3B5PBxu9+Tmxo3hHTNBguYNNEscNxBFbmMvkIkcflrtOM5x1JJ5qpPrem28NvM95G0Vzci0iePLhpSxXZlc4O4EHPQjmr9J1Lppr+v6f4iVKzVnsZ/wDwgtvbpp50jWNU0q4sbFLAXNq0TNPCn3VkWSN0JByQQoI3Ng4JFWNY8JrrNmtlPrOqRWLQfZ7q2R4mW7ToQ7OjMCQSCUZTz14GLFVtQ1C20vT5r2/l8q3gXc77S2B7AZJPYAck0/bNu7QKjbZjx4UjbXLfULrU7+6is5WmtLGbyvJtnKldylYxIcKzABnYDd04GN6scHIzRR7XyD2PmbFFY9QXt2lhp9xdzBmjt4mlYKOSFGTj34pOskrtDVG7tc36KwbK6S+sLe7iDCO4iWVQw5AYZGffmpqbqNOzQlSTV0zYorndN1O01jT473TpfOt5CwV9pXO1ip4IB6g1ao9r5B7HzNiiudsdRtdSSV7KQypDK0LOEIUsvDAEjDAHjIyMgjqDRY6naakbkWUvmG1na3m+UjbIoBK8jnqORxR7XyD2XmdFRXNaxqsGiaVNqF0sjxQ7dyxgFjlgoxkjuauMwRSzEKoGSSeAKPa+Qex8zZormU1nT5Ly1tY7lXkvITPbsoJSZBjJVwNpOCDgHOOcY5q9R7XyD2XmbFFY9FHtfIPY+ZpWf/HjB/1zX+VTVXjtbdokZoIiSoJJQc077Hbf8+8X/fArYwJqKh+x23/PvF/3wKPsdt/z7xf98CgCHV9Mh1rRL7S7ppEgvbeS3kaMgMFdSpIJBGcH0NM1LSLfVPDt1o1w8i291avauyEBwjKVJBIIzg+lWfsdt/z7xf8AfArN1jVvD2gfZv7ZuLO0a7mWC3SQDfM7MFCoo5blhnA4HJwOaPLuNNrXsS6fptzaaxe3Etyz2zwww20HmMRGEDbmK9AzFuSOoVfoGDw9FHJq8treXdtPqsqTSTRMu6F1jSMFMqR0jBwwYE5zwcVofY7b/n3i/wC+BWMfEPhr7JrFyJoGh0R2jv3WAnyWVQzDhfmIBH3c88deKL7iStsW9E0GHRvtEpurq/vbtg1ze3bKZJcDCjCKqKAOAqqB1OMkky6RpFvottPBavI6z3U10xkIJDyyNIwGAOMsce3rVXT9V0bUrK4u47aa2gtxmV9Q06WzCjGS375FyAOpHAqTRtQ0PxDpwv8ARJLW9tDI8azxICjMjFWwccjIPI4PUEinrcOn9bl9v+P6L/rm/wDNamqo1rb/AGyNfIiwY3JGweq1L9jtv+feL/vgUgJqKh+x23/PvF/3wKPsdt/z7xf98CgB1zCLm1lgMkkYkQpvibay5GMg9j71iWPhRbe8lvdQ1fUtVvXt2tY7m6eONoI2ILBBCiKCSFO7Bb5RzgYrZ+x23/PvF/3wKPsdt/z7xf8AfAoA5m48F3H2e9uE13UL3V7i1+xw3948cb2sTMC4j8mNApOM7sbiVXnAGN3UdHt9TuNNmneVW066+1QhGGGby3jw2QcjEh9Occ1Z+x23/PvF/wB8CsTUvEvhrSNS+w37rHMuzzXWzd4oN5wnmyqpSLJ6b2Wi+yDuaTaRbv4hj1l2kNxFataopI2KrMrMQMZySq9+gFZeq+DLXVNQubkahqFnHfoseoWttIgjvVUYAfcpZfl+UmNkJHBJwMOv/Efh3TNT+w3qskisiSSrp8rwRM+NoeZUMaE5HDMPvD1FLqfiLw3o+oCz1BlSXCmQpZvIkAY4UyuqlYgT0LlQcH0o7Btc3kRYo1jjUIigKqqMAAdqjs/+PGD/AK5r/Kj7Hbf8+8X/AHwKitbW3azhZoIiTGpJKDnigC3RUP2O2/594v8AvgUfY7b/AJ94v++BQBNRUP2O2/594v8AvgUfY7b/AJ94v++BQBNRUP2O2/594v8AvgUfY7b/AJ94v++BQBWbSLd/EMesu0huIrVrVFJGxVZlZiBjOSVXv0AqlqvhdNZvt99qmoNYMVaXS1eMW8xXpuOzzMZAJUOFOOQQWyuqazoWj3kVpepm4lXf5dvZSTlEzje/lq3lpn+JsLweeDUep+IPD2j30drqKmIuyKZhYSNBGXO1Q8yoY0JJHDMOo9RQulgfW5oXWjwXusWWoXMkrmxDGCAkeWsjDHmYxksFLKDnADNxzms/SvCFrpOppdx3t7PHAsi2drM6GK0WRgXCbVDHOB99mwOBgZp0mu+H4teGjvj7ZuVGxZuYkdl3KjShfLVyMEKWDHI45FXbSXS764uobRIpHs5fJnxFwr7Q23OME4IzjOM80LuDLVn/AMeMH/XNf5UVFa2tu1nCzQREmNSSUHPFFAHJeNv+PjRf+w3B/wCzVl+N7jVJvEGh6Np+zyL1LiSRG1OWwMzxhNqCaJGfOGZtq4zt64BB6zVtM07WoXttWsLa+tmff5N3Asi5HQ7WHWqI8J+HV0ptLXQNLGntJ5rWgs4/KL/3tmMZ98VyLT77/gl+lzt318rfn/mchaRarJe6J4c8Q6o8cExvZC9hqUpeXy2XyoGuQEkLKrOTjDN5fJPzZ2PAVyZ/+EgiTU59SgtdXkt4JZ5jKUVY4/k3HrtORnqSCSSSSb2uaFHNotvp2neH9D1CyhIA0/UB5UCAD5SuI3AxyMbO/UYwZPC2iSaJpkq3X2cXV1ObiZLVSIoiQFWNM87VVVUHAzjOBnAae/p+q/QTT09f0Zgu+u/8J94ji0C006XzLW0V5r26dPKO2TBCLG28d8bl6YzzkV1S18EakVkknktdH8L/ADSRIDIyxvyQDxk46Hj8K71LaCO4knjhjWaYKJJFQBnC5wCepxk4+tNeztpJmmkt4nlaPymdkBYpnO0n09ulTfX+uzX6lW0s/wCtU/0PM7a81PTde1OzaSW1Wfw/PeiBtbmv5EZWASQ+YB5LfMwwjFTjg/KDWlYWlxp9x4TmbVtTupNYhaC/NxeyMsubYyBlTdtjYFBgoFPJzk811tl4b0PTYmj07RdPtI2VkKQWqICrY3DAHQ7VyO+B6Vc+xWv+j/6ND/ov+o/dj9z8u35f7vykjjscVV1/Xz/zX3Ecr/r0X+X4nm+g240jwfp76dd3qm48S+TKXvpZcqL2RSvzMcAj72PvHk5NO1CO9/sDxVr39san9r0vUJ3skW8kWKJY9p2GNSFdTg5DhsA8Yrv49D0mGaaaLS7JJZ5luJXW3QNJKpyrsccsOxPIqVtOsntp7d7O3aC5LNPEYlKylupYYwc980KVnf8Ar7P+T+8HH+v/AAL/ADX3HFX0q6jqHim61TWb3Tv7FVRbLBdvAkCGBZPOZAQJMuWHzhl+TAH3sv0yeXXtJ8H6XcSPcbrGDU795G3MwjVTGGJ5JaUhs9/Lar/ifw/fatqAez0bw/PIIwkGqXuftFjnqUURncRywxInJxxjJ19E8PWmhB/sjSuWhhgBkYHZHEgVFXAGB95vqzewBF2X3fhf9bMbTb+/8bfpc4B5mk0DxjrM/iLURe6RqN19jSO/ZUtiuDHGYgdrhjgBXDDBwMZo8aa5evZarqViLi1uNDEUc88usS2scc5VJAkcCBln++AfMxknAJHTrNE8F2Npe3d9q2nadd3zalNd2tyYFeSFHbcoDMuVI9q1rrw5ol9fm+vtH0+5uzGYjcTWqPIUIIK7iM4wSMe9EWko37L8v6v/AFckm2/V/n/Vjl5bxbTWvFes6pfakbXRljlit7edgqD7MGYiPIVyewbKg89eaxYp7+z1nVdOuC8MN14euLs2sutTag4IICOwkGIiQzAhCVOP9kGvThZ2ytOy20Ia4x5xEY/e4GBu9eOOe1UrLw3oemxNHp2i6faRsrIUgtUQFWxuGAOh2rkd8D0qHqmvK34P/hytdP66r/g/ecXJql9odrbJbzyE6xolvFYK7krFdqVjGBnjPnIxx2jY1ZuobnQPEEF1qt1qV/pyS2tnbXFtqTg2znYm2eDcFlDs24ud7/OOAADW/d6HPf8AiTS5ZoLSLS9IJmtVjYmR5ihjGV2gIqqzYwTkkdMc6EmhaRNrEerTaXZSalGNqXjW6GZBgjAfG4cE9+9aOScubz/UhRajy+X9fkvnc4eFNX1XwvpVyJ7y/himvGu7ODU3tLmdROyqySKyltgyNhdVO4ZPArqf7T+2/D1tU0driQy6YZ7Yyj96xMeVz/tdPxq5eeG9D1GzjtNQ0bT7q2icyRwz2qOiMSSWCkYBJJ59zWiqhVCqAFAwABwBWctYuPcuPutPscILRbiXwbpdrfXlvp02nStItrcvEZlWOIrl1Ibqc5BB688mq0+oXbzTadNqN1BaXfiZrGWdZ2V44fs4dY1fOU3OFXIIPznBBOa7PStBstIt4YbdTItuz/ZjKqlrdHOTGhwCEHAA54AGeBUesaWs+k3MFlpWmXn2mTfPaXy7Ibk8ZLkI3PAOSrfdA9xbkuZy7/5p/wDAJUXyqPb/ACa/4J59rn7uHxrpFlrF5cQWlvYLGs9y1wbSRpGJALkkn7rfMSeQOgAG7daYbHxNPpK6jqc1lqGjzzTpNfzMwljkQB0bdmPIkIKptXpxWn4b8KrYxXz6pp+mQfbPLQafZJutreKPJRBlV3HczMTtUZbpxk9GbaBrpbloYzOqGNZSg3BSQSoPXBIBx7ClLXTy/T/PUIq2vmvwf+R59pNpb2Xwy8HSWskzTG40+WJpbl5TufarhSzHC+WzjaMADOAK9FrHg8LaXaahbXFlbpaRWrPJHaW8SRwiVxhpiqqCX2krknoTxnmtinKXM2+7v+X+QRjypLsrfn/mFFFFQWasP+oj/wB0fyp9V47lFiQFZchQOImP9Kd9qj/uy/8Afl/8K7FscL3JqKh+1R/3Zf8Avy/+FH2qP+7L/wB+X/wpiJq5L4iW0B8OLdGCP7QL6wjE2wbwhvYSV3dcZAOPaun+1R/3Zf8Avy/+FRXH2S8h8q7tjPHuV9ktszDcpDKcEdQQCD2IBoWjT7MDL8VanqMOlXNr4ZtzfathA0MEsIlt43JHnbZHUHG1toJG4jHTOOI8I6Xb3cHjHw3dabqmh2Ms8ERnuLi2Mis1vAuCyySAyMTuzgg7uTk4r0S3t7S21S8v0Fw094IxIWibAVAQoHy9OWP1JpZrTS7iG7in0+OWO+/4+kezJFx8oX5wV+b5QBzngAULS/mMwdCkubjxBr/hrWb7+37O0it5BNd28QcGUNuhkCKqMRsVx8oOJBnPBM/gH/kDal/2GtR/9KpK19Ms9K0WzFno2mxafbBiwgtbMxICep2qoGamt/slojJa2xgV3aRljtmUM7HLMcDqSSSe5NP/AC/yF0t5/o/8yVv+P6L/AK5v/Namqo1yn2yM7ZcCNx/qm9V9ql+1R/3Zf+/L/wCFICaioftUf92X/vy/+FH2qP8Auy/9+X/woAmoqH7VH/dl/wC/L/4Ufao/7sv/AH5f/CgCavM/G1lqmlaN4wWyk0uXT9bQ73nmcXEFw8KwiJYgpEhfbHty6EF+4Ar0b7VH/dl/78v/AIVQk0zRJtai1ibSbeTU4V2R3rWOZkXBGA+3cBgnjPc0rDTa1RgaubrxPDN4PsSvlRRRxazqDdIgygmKMfxSsvc8IGB5OFOXftbwaP8AEyG8Cid2ZtrDLPG9nGkWB1ILBlHuCOtdPf8AhTwjqt9Je6p4X0y9u5Mb57nSlkkfAwMsyEngAVbudL0O9v7W+vNIt7i7s8fZriWw3SQY5GxiuV/Cm/eTv10++3+Qo+41bp+hd01Jo9JtEusmdYEEmf720Z/Wn2f/AB4wf9c1/lR9qj/uy/8Afl/8KitblFs4QVlyI1HETHt9Kcnd3FFcqSLdFQ/ao/7sv/fl/wDCj7VH/dl/78v/AIUhk1FQ/ao/7sv/AH5f/Cj7VH/dl/78v/hQBNRUP2qP+7L/AN+X/wAKPtUf92X/AL8v/hQB5pqMup2et+PNUttfbS7jTfJuIrfyYXSeJbdSgk3qW2FxIo2FDkvyTjGr46vL6bwbc6g9xZrplvbxyahpbRlbiRsq5iE25lQkFRtMRJzgMu4MvT3mm6LqN/bX2oaTb3V3aHdbXE9jvkhOc5RiuV5GeKZPo+gXOsxavc6LazalDjy72TTw0yY6YcruGMnvQtLfL+vmN7nMeJtHvrfUlTTtSiC6xqEV1Dp72haQXKKv7wyB+IV8tXZduSRtDDeBTvBWp3ltJpdiXsX07UY7qWCOOJluY2jkG95X3FZGYsSxCphjjnPHYkWZvFvDa5uVjMSzm2beEJBK7sZwSAcewqC10/R7HULm/stLhtry7INzcQ2WySb/AH2C5b8aFpp/XYX9f1/X5l2z/wCPGD/rmv8AKiorW5RbOEFZciNRxEx7fSigDD17Vv7JntP3Hm/bL9LX7+3Zuz83Q5xjpUuo6nYaRZtd6tfW1jbKQDNczLGgJ6DcxArH8eM8Uem3K29zPHbatDNKLW2kndUG7LbEBYgZ7CsDxJcSatq+ia1ZSeILTT7T7RDLJaaSxnhlYJtfyJoWcqQHXcqEjd1ALVyLW/r+i/U7b2+7/M7KfXdItdJTVLrVLKHTpApS8kuEWFg3QhycHPbnmkbX9HTTZdRfVrFbKHb5tyblBGm4AjLZwMhlIz13D1riLTT4/D99oeqfZ9Z1HS0a9kZp7AvcQTzMrCUwRRhlBAlHCAr5nIGTVXT7e1u9P1y8NtqWlGDxG91atZ2JuJYZDAgEjQqrEhtx3LtyN/O0gkOy/r1S/UXNa39dG/0Ook8bafB4j8q51LTYtFbTUvEv3nVUZmlKDEhbaQQOPfvW5da1pVjpa6le6lZ29g4UrdSzqkTBvukOTjntzzXnumXl5B41tdf8SeH7oE6XJEl1Y6VM4Um5chvKAaSNnTDFeSM4YjNS6ZY3WjTaNrOpaVdf2ek+oSpaQWrTSWHnyhoWMSbmzs3qdoJXzCMAZwJKy+f5vQLu7/rotfS53sGs6XdRWkttqVpNHeki1eOdWFwQCSEIPzYAJ4z0NNvdasbPSb/UPPSaLT1cziFgxVkGSmB/F0468iuEudOvdQtdT/szTruxk1jV47jTJZLdlNmyIm+7dSB5eSrHY2C+cEfMat6chvrHQvDDWUtnJbym41OKZSd4hbJbc33xJMUYPzuG7PORS5b/ANff939dUPmt/X9b/wBdGdMfFOlWVnC+v6lp2lXTKgmt571B5UjLu8vLYycewyOcVa1TXtH0NIn1rVbHTlmJEZu7lIg5HXG4jPWuITUbHS/iF4wku9Hvb2SeO2iV7Wwe58weT/qjsB2g5/iwp9eOKTW+v6Zo9jod6moWwj0SKKN9K09bl7mfDBrd5XSSONFG0DdtzkndgEUntdf1v/Xz+8XZ/wBf1/Xl6NdazpljMkN7qNpbSyFQiTTqjMWJC4BPOSCB6kUy21/R73VJtMs9Vsbi/gBM1pFco0seCAdyA5GCQOR3rk/COl3cGp6XdXdhMs0Hhi1gDzRldsgLboySOG6ZHUVlaMdZ1HxN4Xur6LVllgkmN9bHSxbWdgzQONkbGMO4J43b3U4zxlRV8qu16/m1+n4onndr+n5J/qdt4X18a1o9pLdyW6X08bym3jbB2CQpuCkk44Az61ZuPEeh2n2f7XrOnwfapGig826RfNdW2sq5PzENwQOQeK4KRdQ8N+D9B1mC0lW/tTPZNA6FWYXDERgg8/64Q/QEmresaU3haO1/4R1L2bVI9OWzWFtNkurW/UFjsldR+6Ys5O8uq/PkhgOJir2/r+un3lXa/r+vP7jrYvEFvHa6ldaxJaabbWN00DTy3kZTaNuGY5whJYDa3I49RWjaXdtf2kd1Y3EVzbzLujmhcOjj1BHBFcJNppFjqtzqEep2M0OvNd2k9lZNcvG3kqocRhGMicspIU9eoxkdT4WudQvPD8U+r2sdtcySSErHA0Idd7bZDGxLIWXDFWJIJ55ot7t/T8kJPX7/AM3/AF/Wufc+K7hpoHsbWL7FJqqaetxI5YzcsJSqjGAGXaCSckNxjBOzJrukQ6xHpM2qWUepSDclm1wgmcYJyEzuPAPbtXG6fbzSeFPD9nFE8txpmtrDdrGhPllHfcxAHAIIbPTDA96zrfQpZNTv9L1m98SxSz6y14kVrp8T20w80SRSfaPIbbtUKCGkDDZgDG0Eik9H3/SP+bYSbWq/rWX+SRqy/E7SrfU9emudZ0ldN0b919mjlVrq4farFlJkCgZYpt2kllPzDpXR2fiW3vdXgtoGt5rO9tzNYXtvcCVLjYcSLwMAjIIwTkZ6bTXN6ppl/N4e+IUUNlO8t3MzWyCM5nH2SEfJn73KkcdwRWtcXser+IPDQs0mDRma8kWaB4XjiETRfMjgMuXkAAIGcE9qdlZei/K4NtP+u51FFFFQWFFFFABRRRQAUUUUAasP+oj/AN0fyp9Mh/1Ef+6P5U+uxbHC9wooopiCsTXdS12wLPo2i2t/BFCZZnuNQNuTjPyRgRvubA/iKDkcnnG3XD+M9Vkn1pdAvYdYttGe2Et3dadplzctdbmI+zq8KN5YwCWPDYYBSOSE77Iat1Ny88VWdt4Ph8QxRTTwXUcLW0KriSVpiqxpjsSzqPaqtp4j1iWXUNOutEt49atYoporaK/LwTxyEqG81o1IAKtu+QkADAbIFZ2vXMer6GbLw/p9yW0drDUFt/s5h3RrKH8pUbDK4SI/KQOSo78VL7Wb5L/V/FukaPqMyR2Nvp9rDPYXCSSSGVi8hgKiQom9ScLk4bHTNU7Xfq/utp+OhKvZd9Pz1/DU1JvGl5p+l682r6TDDqWjW63Btre9MkU6OD5e2UxqRllZTlOMd8it7SJtYmhkOu2FjZSBh5a2d69yGHqS0UeD7YP1rl9FOiHQ9We8s9X1qW42yapJqGh3EbXQPGFikjUMigHEaBiAOjM2Wf4GsILbXNbuNC0qbSPD86wC2tZLV7RWnUP5siQOFMYIMa52ruKE4PUnUOh17f8AH9F/1zf+a1NULf8AH9F/1zf+a1NSGFFFFABTZHEcbOwYhQSQqlj+AHJ+lOooAwPC/id/EkuppJpV1pZsLhIRHdsvmOGiSQMyqSE4f7uSfXByBF4h8RavoP2i+Oi28ui2YVri5a+Kz7ON7JCIyGCg/wATqTg4HTNO1um8Pah421e/tbn7Mt3FNHtj5nUWsK/JnAb5gV64zxms7X9WTU/E9xpniCz1qLRbB42W3tdHurhNRfAfLyRRsvlKSBsB+ZlO75flL6r0X5A9mdBqvittN8TaXpCaTdzJfziFr44SCImORwATy7Yj6KMDPLA4BNW8VNpnifS9HXSbuZL6cQvfHCQRExyOACTl2xEeFGBnlgcAs8UW891qnhWW2gllSHVhLKVjJ8tPs043N/dGWAye5ApfFNrcXGreF3t4JJVg1fzJWRCwjT7NONzY6DLAZPcj1oXS/f8AyG//AG2/z1/yR0dQ2f8Ax4wf9c1/lU1Q2f8Ax4wf9c1/lSETUUUUAFFFFABRRRQBgXmv3765LpugaZDftZqjXsk92YFi3cqiYRt77ecHaACuWGao6v4zurG61RtO0cX1jogU6nO1yY3TKCRhEmxhIyowYgsnUAEnOOW8S+Hbb+2vFA1DQLvUtR1QpPol7DZvL5EvkpGNsq5FuyvGrF2KZG3k7eLl1Fqel2PijQ7mwvL2+11Q9nPbWsjwSPJbJCweRVKxbXQk7yPlIxk5FLW2m9vvfb5a/gVZXSf/AAy7nQP4xm/thxBp0UmjRXkVjJffaiJPOkCFdsWwhkzIgLFweTgEDJ19F1g61Hc3MVuY7NJ2itpmbm4VeGcLjhd24A5O4DPQiuX1fwfaTalptnaWl19qmRPtl8k0yQxxxoEL7d3lmdhhFbG9R8wPyCofB8F9b+ILaIQ6xDJFDOmpx3PnCzQhwIVgD/u8AA48ngL9/nFVpexnra7/AK/r+tzu7P8A48YP+ua/yoos/wDjxg/65r/KikUcdfeKzb6hcQtZAmOVkJE3XBI/u1B/wmP/AE4/+Rv/ALGua8U6jFpurXjyJJNJLePHDDEAXlcsSFGSB0BOSQAASTXM6h4rmhs0ez0q6a4W9jtri3k8sNFuK/8ATQKSwYbSCRk84wa9NYXD2V4/mcv1it0f5Heapr82oRRi1mvdMlQ/620mjJYHqCskbqe3O3IxwRk5NG1m30TThaW1pLKS7SSzz3G6SaRjlnY7epPoAB0AAAFcm2uj7b9mg0+8uHjC/aTEExbFgCAxLDccHOE3H8xnVq1g8P0j+LJeJrdX+R03/CY/9OP/AJG/+xo/4TH/AKcf/I3/ANjXM0U/qWH/AJfxYfWq3f8AI6b/AITH/px/8jf/AGNRjxTCty9wulxid0VGlEg3MoJIBO3JALNge59a52ij6lh/5fxYfWq3f8jWs9Zt7HV9R1GK0kM2otG0qtONq7E2jb8uenrmtD/hMf8Apx/8jf8A2NczRR9Sw/8AL+LD61W7/kdN/wAJj/04/wDkb/7Gj/hMf+nH/wAjf/Y1zNFH1LD/AMv4sPrVbv8Akal/q8epalZXV1FcGKzfzUtBMgiaQZ2u3ybiVzwN2M4OMgGtL/hMf+nH/wAjf/Y1zNFH1Khty/iw+tVr3v8AkdN/wmP/AE4/+Rv/ALGj/hMf+nH/AMjf/Y1zNFH1LD/y/iw+tVu/5HQx+J7eG4mni0qNJpyDLIrgNJgYG47cnA45qX/hMf8Apx/8jf8A2NczRR9Sw/8AL+LD61W7/kdN/wAJj/04/wDkb/7GoY/EttFdTXMWkxJcThRLKrgPIF+6GO3Jxk4z0zXP0UfUsP8Ay/iw+tVu/wCR03/CY/8ATj/5G/8AsaP+Ex/6cf8AyN/9jXM0UfUsP/L+LD61W7/kdN/wmP8A04/+Rv8A7Gj/AITH/px/8jf/AGNczRR9Sw/8v4sPrVbv+R03/CY/9OP/AJG/+xo/4TH/AKcf/I3/ANjXM0UfUsP/AC/iw+tVu/5HTf8ACY/9OP8A5G/+xo/4TH/px/8AI3/2NczRR9Sw/wDL+LD61W7/AJHq9jcXFxp9vMsEQEkSuAZTxkA/3an3XP8Azxi/7+n/AOJqHR/+QFYf9e0f/oIq5XkySTaR1p3VyHdc/wDPGL/v6f8A4mjdc/8APGL/AL+n/wCJqaikMh3XP/PGL/v6f/iaN1z/AM8Yv+/p/wDiamooArJHJHJJJHa26PKQZGVyC5AwCTt54AFP3XP/ADxi/wC/p/8AiazPFt/faZ4UvrvSkLXUaDawjMnlgsAz7B97apLY74xXP+G7u+15tXsrDxZdajpsfkNaa9bR2pfec+bCGERhcLtU5CZHmEE5HBuB2e65/wCeMX/f0/8AxNG65/54xf8Af0//ABNefx+INU0HRvEWsT65catZW9zHYae2oxwIDNvETuTDHH8gkfbjr+7Y55rf8HanHe/bIDr9/qtxCUMsWo6f9jmg3A4IjMUZ8tsHaSG6N8xxwLXYNjcZrj7ZH+6iz5b4HmH1X/ZqXdc/88Yv+/p/+Job/j+i/wCub/zWpqAId1z/AM8Yv+/p/wDiaN1z/wA8Yv8Av6f/AImpqKAId1z/AM8Yv+/p/wDiaN1z/wA8Yv8Av6f/AImpqKAK00clxH5dxa28qEg7XcsMg5BwV7EA0/dc/wDPGL/v6f8A4mpq4rxnqtzp+oxLpXijydXbyjaaAscL/bF34YshUzEEb8urKqhcn7pJOtg6XOv3XP8Azxi/7+n/AOJo3XP/ADxi/wC/p/8Aia5rxDqOv2Pi3QI7e4tIdIu74W0sYiLzzEwTOcseEUFF4AJP94Dg1vGdvrNs0baP4r1S1vdSuUtrKzSGzaFGIyzfPAXKqiu5BbJwQCMij/hhvT7r/n/kdduuf+eMX/f0/wDxNRWrXH2OHbFER5a4JkI7f7tWlBVAGYsQMFj3qKz/AOPGD/rmv8qBBuuf+eMX/f0//E0brn/njF/39P8A8TU1FAEO65/54xf9/T/8TRuuf+eMX/f0/wDxNTUUAQ7rn/njF/39P/xNG65/54xf9/T/APE1NRQBDuuf+eMX/f0//E0brn/njF/39P8A8TXIeM9VudP1GJdK8UeTq7eUbTQFjhf7Yu/DFkKmYgjfl1ZVULk/dJNPXPGKDxTf2cuvXei2ektFHJJa2H2hXkdVcm4kMbrFEAyjJKE/P8w28C1A7vdc/wDPGL/v6f8A4mjdc/8APGL/AL+n/wCJrgdT8Wz6f4uuludfW3a1vIkTRSkQWWzMatJdElfMwoMjbgwQeXtIznPQeFPECazLfC41S0kvfM8z+y45UMthD0RZFHzBz95t3QttHTkWqv8A1/X/AAQen9f1/VjZtWuPscO2KIjy1wTIR2/3aKls/wDjxg/65r/KigDxTx7on9talLthtLh7XUHmWC8TdFKMspVuDjhiQcHBA4NYzeHpl0Ty7DTdJ025W7iuRBa5WJ/LdThnCA5IB52cZ6HrXY6uMa3fAkki4k5Pf5jVSvdjBWv6HnSk72MGCx1ew1O6mtEs5YdQkSaYSzOGt32KjbcKfMGFBAOzp1543qKK0SsrEN3CiiimIKKKKACiiigAooooAKKKKACiiigAooooAKKKKACiiigAooooAKKKKACiiigD1jR/+QFYf9e0f/oIq5WbpELnRLEi5lANvHwAvHyj2q55En/P1L+Sf/E18/P4mepHZE1FQ+RJ/wA/Uv5J/wDE0eRJ/wA/Uv5J/wDE1IyaiofIk/5+pfyT/wCJo8iT/n6l/JP/AImgDL8WaNca74fe0s5IUuEmiuI1uATFK0ciuI5Mc7W24J5xnODjBo6XpOu/2xquuajFp1ne3VoltBa2k7zRkpvKySSNGhJy+MBPlA6nOB0XkSf8/Uv5J/8AE0eRJ/z9S/kn/wATStpb+uw/6/U5qbwa7/Di18PR3MaXlskMq3LqWVrmN1l3sOCQ0i5PTqas6LpWqv4hudd19LO2upLVLOO1srh5kVFZnLF2RCWJbptGAOpzxueRJ/z9S/kn/wATR5En/P1L+Sf/ABNVfW/9f1bQXSwN/wAf0X/XN/5rU1VGhf7ZGPtMufLfnC8cr7VL5En/AD9S/kn/AMTSAmoqHyJP+fqX8k/+Jo8iT/n6l/JP/iaAJqKh8iT/AJ+pfyT/AOJo8iT/AJ+pfyT/AOJoAmrlPF2j694jsb3QkttJGlXqhDezTyGa3HBJEPllWYEZVvMXBwcfLz0vkSf8/Uv5J/8AE0eRJ/z9S/kn/wATR1Ay9c0a41K+0Ga3kjC6bqH2qXzCcsnkyx4GBycyDrjjNOudInu/GNjqcrxmzsbWVYo8nd58hUF8YxgIpA5/jNaXkSf8/Uv5J/8AE0eRJ/z9S/kn/wATR/X6B/X43Jqhs/8Ajxg/65r/ACo8iT/n6l/JP/iaitYXNnCRcygGNeAF44+lAFuiofIk/wCfqX8k/wDiaPIk/wCfqX8k/wDiaAJqKh8iT/n6l/JP/iaPIk/5+pfyT/4mgCaiofIk/wCfqX8k/wDiaPIk/wCfqX8k/wDiaAOa8XaPr3iOxvdCS20kaVeqEN7NPIZrccEkQ+WVZgRlW8xcHBx8vNXVPC2tC712DRm09rDxCii6lupZFltX8oRM6qFIlyiqQpZMEHk546/yJP8An6l/JP8A4mjyJP8An6l/JP8A4mlZWsx3a2Mi90Ke7fStP8xBo9mFedWYmS4aPHloRjGzI3E5ySoGME1maB4Z1aw1axN/9hFppaXKW88Ls0115zhiXUoBHjGSAz7m54xiuq8iT/n6l/JP/iaPIk/5+pfyT/4mnu7smyWwWf8Ax4wf9c1/lRUVrC5s4SLmUAxrwAvHH0ooGeN+PLGe/vrlYYFu44tQaSezZgouYwWynPB5IODwduCQDmudGrwWOl2aeFrCG1afUEtprOeIw/Z2ZSSCg+6eAeMg9RnOa7DxNaPeatfLFeXFnIt1IVltyu4fMezBlI+oP581yOseHykGnxW8t5PNLqiT3N2CPNyEYbyVAUAAKOgXjkcnPtWaSa62/NfoefdO9/P9S1/bV3YzX9nq9zYLNbwRzx3QRoo9rsVAZCzHIZegb5sgDBqna+JdTks9URYPtdzZiJo2XT57fKyHBJhcl224Y4U/MOBg1ot4Xt5re4W6vLu4uZ3jc3khQSIYzuj2gKEAU5ONvOTnNSW/h5bZ7yZdSvmurxYxJcsybwUztIG3aOuMbcHHTk5q0/6/r+u4rxM6LXNSu5tPttNvdLuzdCYvdpC+2PYFODHvyGG7BUsD346UyDX9a+zw3t0lj9mW/FhNFGj73PmeUZVYthRuwdhDcD73PGrZeHLezv0vjcXFxdhnaSaUoDKXCrlgqgcBFAwB+Jp50C1+wG08ybYbz7bncM7/ADfNx06buPXHfvTUZXu/62/4IXja39df+AU72aS51y4ntoDdf2NbsyQBseZcOuQuccEJxn/ppWefFlxDp0Z+1Wt5dz3CwBbexmD2rbWZhJAGaQkBDgfKT7Dmt/TNOkttLeK6k/0q4Z5Z5IWP3267SecAYA9gKpP4UgmZ5rnUL2a+LRsl6TGssWzdtChUC4+duqnO4g5FLln0/rv/AJfqgvHr/X9bmd/atxf2tv8A2lZ73g1WBI5pLSa1WQHGHVHIYEZIwSw4z3wL4u9a/wCEmSxS6sZ7dQZbjbZOjQoc7F3+aQXP+70BPHAN3+xlktoY7u+urp4rhLgSylAxZTwMKoUDjoAPz5qCx8PSafdyTRa3qLrNOZ5YpFgKyMexPlbsYAA54AAHSmoyX9eSE2v6+ZDDr11J4e0i+aOHzb2eGOQAHaA7YOOf8aqzeI9RttPv9Qmjt2gt7p7SGCOF2eR/NCKxIJ455UKSccelXI/CVtG9uovr421rcC5t7UunlxMGJwMLuI5PDE47YwKtPoFnJpd1YSGUxXUzzswfayOzb8qRjGGwR9KSU+v9bf8ABHeN/wCvP/gFXQNXvr68uLa9jd0jRXjuRp09orZJBTbLkkjAOQec9BjneqnYWMtmH8/Ubq+dsANc7BtA7AIqj8cZ9+lXK1je2pD3CiiimIKKKKACiiigAooooAKKKKACiiigAooooA9Y0f8A5AVh/wBe0f8A6CKuVT0f/kBWH/XtH/6CKuV8/P4mepHZBRRRUjCuO+Iel2V/pLm68KNr0ot5Vin2xsLE4+/y3mKe+YUd/l4BIUV2NY+saDNq026LXtU02No/Lmhs2i2yrz1LxsynkjchU9OeBiZJtaFRdnczr+wm8S/CprHS7yG+k1DS1jiurhmVJwyD52IBYbgc9M89KpeGrS0Ua14ah0G08J3qRxyStobpskjkDBZEkEaHcCjr8yAjGRnINa1r4aktReW1rfXFhY/Zre1sI7WY5tViB+YBwV3EnByGDBQGyOKs6J4dh0a4u7uS8utSv7zYJ728KeY6oCEQBFVFUZOAqjliTkkmtJNOTfchK0Uuxz/guwt18D6tYvazahbpqeoobZ5fMe4UXMnyFpG+YtjB3tg5+Y4Jo8BQWllrXiC1stMOgrvglGi7FUW4KEeYAmYhvKn/AFbMPk5IbcBvweHIrPR7uwsb68tTc3Ut39oidfMjkklMp25UrgMcYYEEcHPNLovh6PSLi6u5b271K/uwizXl4U3siZ2IFjVUVRubhVGSSTk0l+iHLd27v8zRb/j+i/65v/NamqFv+P6L/rm/81qakAUUUUAFNkUvGyq7IWBAZcZX3GeKdRQBxngTTk0rXPFlnHcXVyI9QhzNdztNI5NpCSWZiT17dB0AAAFVPHekaPd3fk6dpkNz4wvQjWV0se6eyCkATmTrFEuCeCAxyAGZiDv3/htzZ67/AGReTW15rTq8kxkK+SRGkRKFRkHYmRz97uO1eXwZKNc1DVNO8T6xp0moMjTRwJauvyIEUAywOwGBnG7GST3p9V5JfkD2ZzGs6Xa61B451bUoxNqGkO0em3DAeZYeXaxyq0R6oS7FiR14ByAKyfE2x7DxFqmuaNez621kl5omow2butqi24YBJwNsBWVZGYMy7gR97IFegal4KtNTvriZ7++ggvlRdQs4WjEN8FGB5gKFhlQFOwrkAA5AFWNV8Lx6xehr3VNQOnkqZdLVoxbylem47PMxkDKhwpxyCCwMpfp8rbv1Y7q97f8AB7L5GtaSSS2MEk67JHjVnX0JHIos/wDjxg/65r/Kpqhs/wDjxg/65r/Kqbu7kpWViaiiikMKKKKACiiigDz74kWFh5bX8+gP9ohEUn/CSbUP9mqsgJIKkzjABOETZ83zEAsRz/xJ8ZaPqeoDTz4h020ttF1GzaeCS8RJbicXERI2k58uNCzE4wWx/cNehax4UXW55lvNZ1MadcgC40xHiEEwwAQWKGRQQBkK6g88cnOhrOj2+t6aLG6aSOITQzAxEA5ikWRRyDxlAD7Z6UR0afZ3/Ib3PP8AXLWW08QTa/Ho63ss17b3FhrsMsLH7PtRRaR5bfmQhlAUbD5u4sOa2vBWrRm4eG6s7wXupvLctqUioYLx0IVliKsWCIMKu9V3Ku4Z5NdNdaPBe6xZahcySubEMYICR5ayMMeZjGSwUsoOcAM3HOaz9K8IWuk6ml3He3s8cCyLZ2szoYrRZGBcJtUMc4H32bA4GBmhaaf1/Wn9Ml66/wBf1/XY2bP/AI8YP+ua/wAqKLP/AI8YP+ua/wAqKBnBaiAuqXSqAAJnAA7fMar1leO7qSLVrW0+0SWlvf6o1vcTxvsZVIchQ3VSzBVyMH5uCDg1k3ttGmtaXoQ1C9jsJVndiL6TzZJVCFYvO3eZ0Z3xuydv90YrxnG8vv8AwOJrU6uiuClmu/3mmWmq3n2aDXIbaK5EpaQIUDPEXbJfBJGTkjp1FS3i3elya3BYXd7JFpq2uoxJLcySuRljLHuZizKyxn5SSMmlydb/ANaf5i5dbf12O4qpqeoxaVp0l5cK7Rx7ciMAnlgO5HrXKHU5p7i21dL6UWV5rSW8O2VhH5Ko0Y46fNJk++V9BTNevTct4pgW5Msdstkvl78iJi2SMdieM/hQoP8Ar5f5hbWx3NVrC/ttTsku7GTzYJCQr7SM4JB4PPUGub1Jp9P8THUNQe7nsXuIYIHtL1lFqzbV2SwZCuGZs7vmb5gMAAGqVhcT6muh2F/f3UdtdG9d3juXjknkjlwkfmKQwG0s2AQSE9ARQoXV/wCtrhyndUVwUs13+80y01W8+zQa5DbRXIlLSBCgZ4i7ZL4JIyckdOorc0JHsfEeraYlxcTWsUUE8QuZ3mZC+8MN7ksR8gOCeMmly6X/AK6f5iat/XnY6GiiioEFFFFABRRRQAUUUUAFFFFABRRRQAUUUUAFFFFABRRRQB3mnWtu2l2rNBESYUJJQc/KKs/Y7b/n3i/74FM03/kE2n/XBP8A0EVZr3I/CjvWxD9jtv8An3i/74FH2O2/594v++BU1FUMh+x23/PvF/3wKPsdt/z7xf8AfAqaigCndiwsbOW5uYIxFEu5tkO9j7BVBLE9AACSeAKy7PxF4bvdOvb1Hjgh084uxeWr20kHyhhvjkVWGQQRkc9s1s3kjR2cnlTw28rDZFJOu5FkbhcruXd8xHAIJ6ZFeXaw08VzrsGtyW95PbX+kXV/eW6+XD5HnjCGI5MewIWIZ3yG3ZAIUC1dv63Dpc7my1/w/qFjeXVujqLLHnwzafLFOmRlf3LoJDu/hwp3HgZNTaNquia+lwdNTL20gjnhuLN7eWJiAw3RyKrDIIIJHI6VkmRz8StWks7iCArpFtA00qbkWdpZfKDAMu4/N93IOGHIyMnhR7mPxj4itNUlgu9RRLWWa8tV8uJlZXCRiI5MZXaTgu5O8NkAhQLVX/re3/BB6f15L/hjpGtbf7ZGvkRYMbkjYPVal+x23/PvF/3wKG/4/ov+ub/zWpqAIfsdt/z7xf8AfAo+x23/AD7xf98CpqKAIfsdt/z7xf8AfAo+x23/AD7xf98CpqKAIfsdt/z7xf8AfAo+x23/AD7xf98CpqKAOfvvEGg6frP9lTW9xLeBEdktNKnuBGrkhSzRxsq5Kt1I6Uup6/4f0a+jtdSVoWdkUzfYJWgjLttUPMqGNCSRwzDqPUVh+NIZtBg1nxdouvz295bwxCawZIZbe4aPlIWBTzFZ/M2ja4OXU4PQyfESe8Hhm/uxeWT6TaRq19p5jKzzEEMYxNuKoWBUbTESc4DLuDKLWwanY/Y7b/n3i/74FRWtrbtZws0ERJjUklBzxVpTlQcEZHQ1FZ/8eMH/AFzX+VAB9jtv+feL/vgUfY7b/n3i/wC+BU1FAEP2O2/594v++BR9jtv+feL/AL4FTUUAQ/Y7b/n3i/74FH2O2/594v8AvgVNRQBj3ureHtO1iy0m8uLOLUb9ittaEAySYDEnaOQuFPzHjPGckVQ1fxZ4d0KS4XU7S/iS2GZZ00O6khUYznzUiKEe4NQ+LLaCPxF4WuI4I0nm1pRLKqAM4W1uNoJ6nGTjPTNTeJf+Jr4j0TQPvQvI2oXi9mihxsU/WVozjuEahdPX+vwG9Puv+LRZbX/Dy64ukkf6WSqn/QpPLR2XcqNLs2K5GCELBjkccir1pLpd9cXUNokUj2cvkz4i4V9obbnGCcEZxnGea5DxPo19a6oItO1OLbq+ox3MNg9oWcXMar+8MofiFfLV2XbkkbQw3gU7wVqd5bSaXYl7F9O1GO6lgjjiZbmNo5BveV9xWRmLEsQqYY45zwLX+vT/AIIno/6/r+mdla2tu1nCzQREmNSSUHPFFS2f/HjB/wBc1/lRQB59rVvb313fQXcCTwSyuHimQMrAseCp/kazDoWkNpY0xtLsjYKci0NunlA5znZjHXnpUvi3U30vU0ZPL2z6l5MjSdFQlsnqMHikstV07UrRrrTr+1u7dCQ00EyuikDJBYHHSvEle7fmcLumOi06yhtoLeGzt44LchoYkiULER0KjGB17VJ9mg86SXyY/MlUJI+wZdRnAJ7gZP5mq9prWl6hZy3dhqVnc20OfNmhnV0TAycsDgcc80tlq+m6lavc6dqFrd28ZIeWCZXRSBkgkHA4INJ31uLUc2m2L6b/AGe9lbtZbBH9mMSmPaOi7cYx7UyHRtMtrZre3020igYKrRJAqqQpyBgDHBJIqhaeJLbUvENvaaVd2d7ZyWssrTW8okw6PGNu5Tjo/I69Kv2Gs6ZqrSrpeo2l60JAlFvOshjznGdpOOh6+lNqSQaoV9I02XU01KTT7V76MYS6aBTKo6YD4yOp796J9I026sPsNzp9rNabt32eSFWjznOdpGM5OfrWdqnia0i0m+n0e9sry5smRZY0lEnlkuFwwU5B69fStKy1XTtSkmTTr+1u3gbbMsEyuYzzw2DweD19KXvWDXcdFp1lDbQW8NnbxwW5DQxJEoWIjoVGMDr2qVYIknedYkWWQBXkCjcwGcAnvjJ/M1XstX03UppodO1C1u5YDiZIJ1dozyMMAeOh6+lXKTv1EFFFFIAooooAKKKKACiiigAooooAKKKKACiiigAooooAKKKKAO8065RdLtQVlyIUHETH+Ee1WftUf92X/vy/+FM03/kE2n/XBP8A0EVZr3I/CjvWxD9qj/uy/wDfl/8ACj7VH/dl/wC/L/4VNRVDIftUf92X/vy/+FH2qP8Auy/9+X/wqauf8a+LIPBnhi41WaA3cyKfItFfa07hS20HBwAqsxODgKTRsNJt2RqXi2WoWctpf2n2q2mXbLDPbM6OvoVK4IqvY6do2maa2nabpUFnYtu3WtvY+XEd33soFxz39amurm/bSVuNItLa4unVWWG6uWhTBxnLqjkYH+zz7Vi6P4i13ULrWbW50SxSfTdkaG11JpYpZmXcY2ZoUK7QUJIDcNwCRii26EndJov2+i+H7TR5dJtdEtINNmz5tnHp4WGTPXKBdpzgdRVjTLPStFsxZ6NpsWn2wYsILWzMSAnqdqqBmsP/AITa4sbLVv7d0j7Pf6dJBGsFnc/aEuWnIWII7IhyWO0gqMdeRzWhoeu3t5ql5pWt6fDp+o2scc4S3ujcRSxPuAZXKIchkYEFeOOTmgXQ0muU+2RnbLgRuP8AVN6r7VL9qj/uy/8Afl/8KG/4/ov+ub/zWpqBkP2qP+7L/wB+X/wo+1R/3Zf+/L/4VNRQBD9qj/uy/wDfl/8ACj7VH/dl/wC/L/4VNRQBD9qj/uy/9+X/AMKPtUf92X/vy/8AhU1YF5r9++uS6boGmQ37Wao17JPdmBYt3KomEbe+3nB2gArlhmgCxcaRoN3rEWrXWjWs2pQACK9ksN00YGcbXK7h1PQ96SfR9AudZi1e50W1m1KHHl3smnhpkx0w5XcMZPesnV/Gt3YTarPZaMt5peiEDUrk3flyqdgkcRR7CJNiMpOWTOcDJFWfFnjS28MR6aFgN7cahdRQxwo+3bG0iI0pOD8q71+pZRxnNC6W/q/9bh/X9f5G/wDao/7sv/fl/wDCorW5RbOEFZciNRxEx7fSrdQ2f/HjB/1zX+VAB9qj/uy/9+X/AMKPtUf92X/vy/8AhU1FAEP2qP8Auy/9+X/wo+1R/wB2X/vy/wDhU1FAEP2qP+7L/wB+X/wo+1R/3Zf+/L/4VNRQBUm+yXDwvcWxlaB/MiZ7ZmMb4I3LkcHDEZHYn1ozafa/tX2c/aNnl+d9mbfsznbuxnGecVk6t4qbTPE+l6Ouk3cyX04he+OEgiJjkcAEnLtiI8KMDPLA4Bbca9rMviq50nRtJsbmGzihkuLi61F4WHmF+FRYXyQEzyV6j60A9NzXIszeLeG1zcrGYlnNs28ISCV3YzgkA49hUFrp+j2OoXN/ZaXDbXl2Qbm4hstkk3++wXLfjWVP4tuYtcmiXTI20m3vYtPmvDdESieQLjbDsIKAyICxcHk/KQMnV0XWDrUdzcxW5js0naK2mZubhV4ZwuOF3bgDk7gM9CKFtdf1/Vwfb+v60LFrcotnCCsuRGo4iY9vpRUtn/x4wf8AXNf5UUAeTeO7H+0NQtomtjcxrrCSSJs3AKGY5I9Acda5rxJpF7dXPiL7Fb3G2eGxdvJRczhJGMirvG1m2ADByDwDwa9B1HP9qXW4AHznyAc/xGq9eNzOLdu/+X+Rxc1pX/re5whSeK11DVtLk1fUrp0ggkOp6aI9sYkyWWFYo2kZFZmHB7AZ6VSew1C8XX5Vi1TULeUWMmb61WGS7jjkYyoECJn5QV2soJ+hFekUUKpbZC5jh724ubzxFcaromizyOmizxRvd2jwieQOhWNlcK2OvXGcnHQ1QNnq2qX141hLqkzzaHcQRz3tkLRI5iyYjQbEYAdi2fYnDV6PRQp26f1r/mHNb+u1v8jjNUa31jwVcadZaNeQtFBHCbaWxePy13oDGuRhxhf4Cy4Xr0zN4h0i6uNVmTSYWheTQrm1jlRdqq+5PLXd0HU4/GutoqefW/r+IRfLt/W3+Rxvhixil1KzuTca6ZrK0aEQ39hHbxwq23Me5YUD8qMbWYfLn0z2VFFEpczuSFFFFQAUUUUAFFFFABRRRQAUUUUAFFFFABRRRQAUUUUAFFFFAHoWm/8AIJtP+uCf+girNUNOa4/su12xREeSmCZCP4R/s1Z3XP8Azxi/7+n/AOJr3I/CjvWxNRUO65/54xf9/T/8TRuuf+eMX/f0/wDxNUMmrz74heF9f1G11vUtO1CzmX+yJ7a2sJNLkmlTdGd4iZZl+d+BkocYAA657vdc/wDPGL/v6f8A4mjdc/8APGL/AL+n/wCJpNXKi7O5jaRq08NnNp96j3V/ptlFNcPbWxjSQsHIRELs24BOQT3GOuBU0S2bR/h2javb3rXF0jXN+lmshnWSdi8m0J8+VLkfL8wC8DIAroUjkjkkkjtbdHlIMjK5BcgYBJ288ACn7rn/AJ4xf9/T/wDE1Td233/r+vQiK5Ul2/r+vU8yXSbyay1e40Gx1OTS4buwv7aPUYZFurmWGUNOAZgJn+RUCmUk5GFO0ADqdDZ9Z8aX2vw213b2QsYrKL7ZbSW7yuHd3PlyKrBRuUAkcnOOnPSbrn/njF/39P8A8TRuuf8AnjF/39P/AMTR/X4W/Ib1/rzv+YN/x/Rf9c3/AJrU1VGa4+2R/uos+W+B5h9V/wBmpd1z/wA8Yv8Av6f/AImkBNRUO65/54xf9/T/APE0brn/AJ4xf9/T/wDE0ATUVDuuf+eMX/f0/wDxNG65/wCeMX/f0/8AxNAE1eU+JfDtt/bXigahoF3qWo6oUn0S9hs3l8iXyUjG2Vci3ZXjVi7FMjbydvHqG65/54xf9/T/APE0brn/AJ4xf9/T/wDE0rDTsebeKtDluV1DS7OTX/7U1m0SG7t7W3K2F1IY9hnecxkR4A+ZVkRmEYG1sjcnivwZ4khtrq607U7G8866sY4Ym0iWSaCCO4jKoHWcDYpBdvlBPzZI4K+lbrn/AJ4xf9/T/wDE0brn/njF/wB/T/8AE1V9bi7LsPhEqwRi4dHlCgOyIVVmxyQCTgZ7ZP1NMs/+PGD/AK5r/Kjdc/8APGL/AL+n/wCJqK1a4+xw7YoiPLXBMhHb/dpAW6Kh3XP/ADxi/wC/p/8AiaN1z/zxi/7+n/4mgCaiod1z/wA8Yv8Av6f/AImjdc/88Yv+/p/+JoAmoqHdc/8APGL/AL+n/wCJo3XP/PGL/v6f/iaAMLxTa3Fxq3hd7eCSVYNX8yVkQsI0+zTjc2OgywGT3I9awPiDYaZqX2uCz8N3E3ipo0XTdTh01w0cmQUf7Yq7Y1RskhnBwpG0hgG7zdc/88Yv+/p/+Jo3XP8Azxi/7+n/AOJoWn33Hf8AL9W/1OQ8R+F7XUvEFqltZ3S3l4RJe3kc0yQRRou0vtB8szkEIrY3qPmBGwVT8HwX1v4gtohDrEMkUM6anHc+cLNCHAhWAP8Au8AA48ngL9/nFd3uuf8AnjF/39P/AMTRuuf+eMX/AH9P/wATQtCQs/8Ajxg/65r/ACoqK1a4+xw7YoiPLXBMhHb/AHaKBnl3jq4uoJ9ljdyWclxqiQNNEqMyq0mDgOrDOPUGs7zdS0LWtPt7rUJNUstQlaDfcRxrLDKEZwQY1VShCEY25B5zjgavjWwvL+4f+zVgee31JbgJcSmNWCSZI3BWI/I1Qh07UtR1S1vtdW1gWyLNb2trK0wLldvmNIyqeAWAULxkkk8AePprfu/0OKW/9b6/8Aq23iOe08NxX01re6rGvnNNdILeARhHYfMHlUDgds8DJxUl54tey0uHUJfD+qm3liSTINuGUscBCrShi/I4APJA68VQk0DXYdO06whh027tIJpZ7mGa6eLzmMjPGuRE2VGQSMckDsDmzeWviW71i0u5dO0mWC1Tcls2oyKFnORvJ8g7sLwvAxljzxgtENCafxCmmT6zdahJctb2cVvIbYQLmHfkEAg5ck9R2xxmrEHia3a4uIb+1utNaC3N1m7CASQg4LjazYA4yGwRkcVT1Dw9fX41dy1vG+oRWoVfMYhGjJLZO3pzwcc+gqfW/Dr61fyGSVY7abTLiycjJcGQphgOhACnv6VPu3/rt/mJcttf62Fj8W2o3nUbK902MWz3ccl1GuJYkALMAjMQQCDtYBuenBwreJ/LtI5bjR9ShmnlWK2tmERe4LAt8pEhQcKxO5lxj3GaOieGnsNzyeHvDllcLbmNbiyi5mYjHI8tdinuuW64zxzXg8MX0dneRvpeltazGMR6O17I9tFjcS6OYv3RJYYVUwNuepyKtC/9f1/XQen9f1/Xc620na5tUle3ltmYfNDMBuQ+hwSPxBI9DU1ZugWN3p2jRW2oXDXE6s7FmlaXYCxITe3zPtBC7jycZ46VpVnK19CAoooqQCiiigAooooAKKKKACiiigAooooAKKKKACiiigAooooA9C03/kE2n/XBP/QRVmq2m/8AIJtP+uCf+girNe5H4Ud62CiiiqGFcN421y5sNaS1l8RN4as/sLywXSwxP9rud2BD+8VgSBg7Fw7buDwa7muU1fR9ch8TXWr6FbaXqAvbFLSSDUrh4fJ2MxBVljk3K2/5kwv3QcnPEu/T+tBr+vvG6xr+q2Xw5s9SuY49N1O6W1juGkXKWTzOiO5B7JvJweOOeM1h6n4o1Tw7eazob64L+aBLGSLUbuKISWa3ExhcyiNVQhMBxlRw3ORzW1pGmatYaDc+HDb2moWthYQW0JvYmjjvHKt5qsfmxHt2qMK23nO7GKj0bwhPpmnarKNI0KCe9hW3j0e2UrYxxKWJjLCMbt5dyzeX/EBtbb81u3M30/rT/g7/AIEr4V3/AK1/4czrzxBrWiT+JNFg1R9Zu7Gyt7yC5lt42ngWV2R96RKqtsC+YAFBIODnrWr4J1a41G/1SGHXD4j0mEQta6qVi+aRg3mRbolVH24U5A43kHJFZifD65Oi3xhttH0u7mkt2t9Nsoz9iiSCUyiJiFQuJGLFm2DG4fK235t/QtK1YeI9Q1zXIrGzmuYIrZbWwneZSqFj5jyMiFmO8gDbwB1OeBef9f1t+OwPy/rv/n+Wput/x/Rf9c3/AJrU1Qt/x/Rf9c3/AJrU1IYUUUUAFNkLiNjEFZ8HaGOAT2ycHH5U6igDlvB2oa5dah4gtfEd1a3E9leRRoLSExxxq1vFIVXJLNgufmJyfRRwG+IdR1+x8W6BHb3FpDpF3fC2ljEReeYmCZzljwigovABJ/vAcF0tjquhf8JVqmnxw3V1qFxHNYxBWfDCCKIbwMcblJOD93nI7aGu6PcapfaFPA8Srp2ofapt5ILL5MseFwDzmQdccZ5p9Y/L/gj6P0f5f5mJ4zt9ZtmjbR/FeqWt7qVyltZWaQ2bQoxGWb54C5VUV3ILZOCARkVm6/4g1e3j8VanBrwsF8MBNlg8UJjuwIll3TFl3jzCxRdjLgr3ORXXXOkT3fjGx1OV4zZ2NrKsUeTu8+QqC+MYwEUgc/xmsXxX4TufEmqFTpWhiKSLyTrMqlr63iIIeONfL6kFgG8wbd5O04+aVe39af1b8e4aX1/r+v0Outp1urWKeP7sqB1z6EZptn/x4wf9c1/lUqKqIqIMKowAOwqKz/48YP8Armv8qp2voSr21JqKKKQwooooAKKKKAOU8Q6jr9j4t0CO3uLSHSLu+FtLGIi88xMEznLHhFBReACT/eA4NXxnqtzp+oxLpXijydXbyjaaAscL/bF34YshUzEEb8urKqhcn7pJ3Ne0i41TUNCnt3jVdO1H7VKHJBZPJljwuAecyDrjjNZvi7R9e8R2N7oSW2kjSr1QhvZp5DNbjgkiHyyrMCMq3mLg4OPl5F09f8hu34fq/wDgGNqni2fTvGF2l1rwtmtbyKNNFZIgstmY1aS6JK+ZhQZG3Bgg8vaRnOeg8KeIE1mW+FxqlpJe+Z5n9lxyoZbCHoiyKPmDn7zbuhbaOnNzVtKutVvrCCSSNdKgfz7lCxMlw6kGNCMY2Z+YnOSVUYwTWPoHhnVrDVrE3/2EWmlpcpbzwuzTXXnOGJdSgEeMZIDPubnjGKF2/r+r/wBWJfc6qz/48YP+ua/yoos/+PGD/rmv8qKBnAavLFa3l9NdTLHFFJI0ksrBQoBOST0FVreeC7t47i1ljnhkUMkkbBlcHoQRwRWP8To7uW1dbOaCLdq1uHE0BkDZuUxwGXjOCfUZHGcjL8R+Kb3QxIYbuzuXs4le6t4tPnlLHgnc6MVt8jO3fu9c4rweVyej6tf1957vsqEVeUFtfZHYYFGBXIalqsmk3viW90+0ga6ht7RwZGb96SWADc4AHsB15zVqTUNci1CfTLuexE09i9zbTQ27hYSrAMrAyZf764YFe/FZtSXX+rXLjRw7+wvuXex0uBRgVieDZL6bwdpk2qXSXU0trG/mLGykgoD8xLMWb1bjPoK3KU04ycb7DhQoTipci18kJgUYFLRU3Zf1ah/IvuQmBRgUtFF2H1ah/IvuQmBRgUtFF2H1ah/IvuQmBRgUtFF2H1ah/IvuQmBRgUtFF2H1ah/IvuQmBRgUtFF2H1ah/IvuQmBRgUtFF2H1ah/IvuQmBRgUtFF2H1ah/IvuQmBRgUtFF2H1ah/IvuQmBRgUtFF2H1ah/IvuQmBRgUtFF2H1ah/IvuR3enwudMtSLmVR5KcALx8o9qseRJ/z9S/kn/xNM03/AJBVp/1xT/0EVZr6OHwo+dnpJpEPkSf8/Uv5J/8AE0eRJ/z9S/kn/wATU1FUSQ+RJ/z9S/kn/wATR5En/P1L+Sf/ABNch8S9MW50e0vnurtfst/ZBLeOcpCxa7hG51XG8gcANkDOcZ5rP8bWUGreLJILnQv+Enjg0o4sRt/0KR3bExLkAFguMoTINnyqcmlfS/r+CuOx3/kSf8/Uv5J/8TR5En/P1L+Sf/E1yr6ddeIvg6mnWd/DqN1e6UkIu52dEnYoAzMcFhnnORn1Fc5dSQabo+oeHLXw9Y+FruS+0+O6/sd18qa3uJxHvWRUjbJCyIdygjsTkGqa97lX9a2JT0uem+RJ/wA/Uv5J/wDE0eRJ/wA/Uv5J/wDE1xEGiaHpfivWdCWxtbPw/PpUN7c2ahYrZWWR1ZiowoDKq7h0YLz3zb8B2VvFeave6Fp66Z4eumi+wWyQ+SkjKpEk6RYGxXyoHA3bN2MEEpaq/wDW9hvTR/1pc6doX+2Rj7TLny35wvHK+1S+RJ/z9S/kn/xNDf8AH9F/1zf+a1NQBD5En/P1L+Sf/E0eRJ/z9S/kn/xNTUUAQ+RJ/wA/Uv5J/wDE0eRJ/wA/Uv5J/wDE1NTZFLxsquyFgQGXGV9xnigCPyJP+fqX8k/+Jo8iT/n6l/JP/ia5LwJpyaVrniyzjuLq5EeoQ5mu52mkcm0hJLMxJ69ug6AAACqnjvSNHu7vydO0yG58YXoRrK6WPdPZBSAJzJ1iiXBPBAY5ADMxBfbzsHRnceRJ/wA/Uv5J/wDE0eRJ/wA/Uv5J/wDE15X4ztI77VvEly2nHUJrWOFLbWVH/ICdEDsf74IyJP3IcnO19oArS8VaXHY69eeMdV8N6L4i0qG0t28+aQNc2scZdneJHjKn7+7iRSdvc4pLWwa9P6/r5noXkSf8/Uv5J/8AE1FawubOEi5lAMa8ALxx9KtKQygjoRkVFZ/8eMH/AFzX+VAB5En/AD9S/kn/AMTR5En/AD9S/kn/AMTU1FAEPkSf8/Uv5J/8TR5En/P1L+Sf/E1NRQBD5En/AD9S/kn/AMTR5En/AD9S/kn/AMTU1FAEPkSf8/Uv5J/8TR5En/P1L+Sf/E1NXA+OvCXhzWNSsLCTw/pcupa1c7bi9ayjaZYI13SPvI3ZIVYwc5BcHtR1Dodx5En/AD9S/kn/AMTR5En/AD9S/kn/AMTXnHiDTLjSfEtxqx0Hz7n7fby2WsI8W5IAqL9jQFvMDOwZAoXYfN3FhzjY8FatGbh4bqzvBe6m8ty2pSKhgvHQhWWIqxYIgwq71Xcq7hnk0LVf15Cen9f1/XozqrWFzZwkXMoBjXgBeOPpRUtn/wAeMH/XNf5UUDPOvEmmw6pd3EFwzqiXqzAoQDujlDjqDxlRn2rn9S8G2upvqAa/v7e31LDXVtA6KkjhQofJQsDhV4DbTjkHJz1WoALqd0qgACZwAO3zGq9fPOTjJ2/r+rH08YqUFcybzw5aXrX5lkmH29Ikl2sOBGSVxx785zVmbS4J9Wj1CQv5sdvJbhQRtKuVJz3z8g7+tXaKzu/6+4tRS2/rr+ZQ0XSl0XSorCK6uLmGABIjcbSyIAAFyqjIAHU5PqTV+iihtt3YJKKsgooopDCiiigAooooAKKKKACiiigAooooAKKKKACiiigAooooAKKKKACiiigD0DTf+QVaf9cU/wDQRVmqOn2tu2mWrNBESYUJJQc/KKsfY7b/AJ94v++BX0kPhR8vP42TUVD9jtv+feL/AL4FH2O2/wCfeL/vgVRBW1nSLfXNO+xXbyJH58M+YiAd0ciyKOQeMoM+2az9X8KLqOqNqNjrGpaNdywC3nksGi/foCSoYSxuAVLNhlAb5jz0xs/Y7b/n3i/74FH2O2/594v++BQO5hWPhZrGO8s7O/ubGx+zwW1gltOWa2EYJ3/OCpcs3JIbcFG7PSkj8D2DWWpRajd3upXWpCMXF/cOizfu+YtnlqqpsPzLtUfNknJJNbc0NjbQST3EdvFFGpd5HVVVFAySSegA71mWeu+Gr/QJdbs7qyl0uEyB7xVHl/IxViGxyMg4IyD2zR3YtrFC68A21/pF9aX+sanc3N+0Jm1B/IExWJtyR4EQj2A5+UpzubOc1saRpV5prSm81/UdWDgbRex26+Xj08qJOvvnpVC38S+GrnTb6/3C3h08A3S3dlJbyRAjIJjkRX57cfN0Gas6Nquia8s/9nR/vLdgs0FxZvbyxEjI3RyKrgEcgkYPagWljTb/AI/ov+ub/wA1qaqjWtv9sjXyIsGNyRsHqtS/Y7b/AJ94v++BQMmoqH7Hbf8APvF/3wKPsdt/z7xf98CgCaiofsdt/wA+8X/fAo+x23/PvF/3wKAMa/8ADbmz13+yLya2vNadXkmMhXySI0iJQqMg7EyOfvdx2ry+DJRrmoapp3ifWNOk1BkaaOBLV1+RAigGWB2AwM43YySe9dD9jtv+feL/AL4FH2O2/wCfeL/vgUAc7qPga31C6vXXV9Us7bUtv9oWdtJGsV2QoUliULoWQBT5bJkD15qfVvB8Oss0NzquoppUios2kxtELeZVx8pJQyBSAAVV1B5yOWzt/Y7b/n3i/wC+BWbe6t4e07WLLSby4s4tRv2K21oQDJJgMSdo5C4U/MeM8ZyRR2DzNgDAwOBUNn/x4wf9c1/lR9jtv+feL/vgVFa2tu1nCzQREmNSSUHPFAFuiofsdt/z7xf98Cj7Hbf8+8X/AHwKAJqKh+x23/PvF/3wKPsdt/z7xf8AfAoAmoqH7Hbf8+8X/fAo+x23/PvF/wB8CgCaqDaRbv4hj1l2kNxFataopI2KrMrMQMZySq9+gFWfsdt/z7xf98Cs291bw9p2sWWk3lxZxajfsVtrQgGSTAYk7RyFwp+Y8Z4zkijqg6Fm60eC91iy1C5klc2IYwQEjy1kYY8zGMlgpZQc4AZuOc1n6V4QtdJ1NLuO9vZ44FkWztZnQxWiyMC4TaoY5wPvs2BwMDNOk13w/Frw0d8fbNyo2LNzEjsu5UaUL5auRghSwY5HHIq7aS6XfXF1DaJFI9nL5M+IuFfaG25xgnBGcZxnmhdwZas/+PGD/rmv8qKitbW3azhZoIiTGpJKDniigDzDxrNLY6rDqMczpDbaji5QOQrRSExksOh2llbnptNcfcXWrX0mlRxSl4tae4vBHJqMtnlRt8mJZEVmX5DvKrjJDHOMg934w0LVdehvLGys91rfSvHcTOrgpEW+bYoU7mIyOSMdecYqW78Mi/shZ3+i/arZcYhntd6DHTgjHFeHZp3a6v7v+H1PoU1JJJ9Px/4bRnEtYa7/AGVZx3k5vUtpZzNaWWrSJNJHuATE+EZ2jyVIYqGyCxyK6rR7yHUNEsry1aVoZ4EkRph85BAI3e9TXHg61u7GGyuvDkM1rb/6mCSxDRx9vlUrgfhV9dMvVUKtjOABgAQtx+lRLma2Li4xd7leirP9m33/AD53H/fpv8KP7Nvv+fO4/wC/Tf4VnyS7GvPDuVqKs/2bff8APncf9+m/wo/s2+/587j/AL9N/hRyS7Bzw7lairP9m33/AD53H/fpv8KP7Nvv+fO4/wC/Tf4Uckuwc8O5Woqz/Zt9/wA+dx/36b/Cj+zb7/nzuP8Av03+FHJLsHPDuVqKs/2bff8APncf9+m/wo/s2+/587j/AL9N/hRyS7Bzw7lairP9m33/AD53H/fpv8KP7Nvv+fO4/wC/Tf4Uckuwc8O5Woqz/Zt9/wA+dx/36b/Cj+zb7/nzuP8Av03+FHJLsHPDuVqKs/2bff8APncf9+m/wo/s2+/587j/AL9N/hRyS7Bzw7lairP9m33/AD53H/fpv8KP7Nvv+fO4/wC/Tf4Uckuwc8O5Woqz/Zt9/wA+dx/36b/Cj+zb7/nzuP8Av03+FHJLsHPDuVqKs/2bff8APncf9+m/wo/s2+/587j/AL9N/hRyS7Bzw7lairP9m33/AD53H/fpv8KP7Nvv+fO4/wC/Tf4Uckuwc8O52+m/8gq0/wCuKf8AoIqzVHT7hE022VllysKA/um9B7VY+1R/3Zf+/L/4V9DD4UfMz+Jk1FQ/ao/7sv8A35f/AAo+1R/3Zf8Avy/+FUQTUVD9qj/uy/8Afl/8KPtUf92X/vy/+FAC3NtBeWz295BHPBIMPFKgZWHoQeDXmcoUfD68knA+zQ+LXlud33REup5Zm/2QBk+wNel/ao/7sv8A35f/AAqukVhHbS28dmFgmZ2liW1IWQuSXJG3BLEknPXJzQtHf+t0/wBB7q39bNfqcV4j0ubW/GmqpptxBDNa2FhIrzg+UbmO5eWKOQjscY4yQHBHUA3PDD6le/EfXbzURZRNDYWtpNBYzNNHHIHlfaZGVCzBXDEbRgOo561v22jaBZaRLpVnotrb6dNu82zi08LDJuGDuQLtOR1yOas6fb6bpFjHZaVYJY2kedkFtaGONMnJwqqAMkk/jRHRW9fxE7u/nb8Lf5Flv+P6L/rm/wDNamqo1yn2yM7ZcCNx/qm9V9ql+1R/3Zf+/L/4UATUVD9qj/uy/wDfl/8ACj7VH/dl/wC/L/4UATUVD9qj/uy/9+X/AMKPtUf92X/vy/8AhQBNRUP2qP8Auy/9+X/wo+1R/wB2X/vy/wDhQBNXJeLLaCPxF4WuI4I0nm1pRLKqAM4W1uNoJ6nGTjPTNdP9qj/uy/8Afl/8Kim+yXDwvcWxlaB/MiZ7ZmMb4I3LkcHDEZHYn1oW6YdH6P8AFFuobP8A48YP+ua/yo+1R/3Zf+/L/wCFRWtyi2cIKy5EajiJj2+lAFuioftUf92X/vy/+FH2qP8Auy/9+X/woAmoqH7VH/dl/wC/L/4Ufao/7sv/AH5f/CgCaioftUf92X/vy/8AhR9qj/uy/wDfl/8ACgCauS8WW0EfiLwtcRwRpPNrSiWVUAZwtrcbQT1OMnGema6f7VH/AHZf+/L/AOFRTfZLh4XuLYytA/mRM9szGN8EblyODhiMjsT60LdMOj9H+KOL8T6NfWuqCLTtTi26vqMdzDYPaFnFzGq/vDKH4hXy1dl25JG0MN4FO8FaneW0ml2JexfTtRjupYI44mW5jaOQb3lfcVkZixLEKmGOOc8diRZm8W8Nrm5WMxLObZt4QkEruxnBIBx7CoLXT9HsdQub+y0uG2vLsg3NxDZbJJv99guW/Ghaaf12B6/1/X9epds/+PGD/rmv8qKitblFs4QVlyI1HETHt9KKAJbX/Ut/10k/9DNTUUUAFFFFABRRRQAUUUUAFFFFABRRRQAUUUUAFFFFABRRRQAUUUUAFFFFABRRRQAUUUUAFFFFAENn/wAeMH/XNf5VNRRQAUUUUAFFFFABRRRQAUUUUAQt/wAf0X/XN/5rU1FFABRRRQAUUUUAFFFFABRRRQAVDZ/8eMH/AFzX+VFFAE1FFFABRRRQAUUUUAFFFFABRRRQBDZ/8eMH/XNf5UUUUAf/2Q==)"
      ],
      "metadata": {
        "id": "ycv9tTvzzGjX"
      }
    },
    {
      "cell_type": "code",
      "source": [],
      "metadata": {
        "id": "XzQ8zDdE0nID"
      },
      "execution_count": null,
      "outputs": []
    },
    {
      "cell_type": "code",
      "source": [],
      "metadata": {
        "id": "igHFobtBzF0Z"
      },
      "execution_count": null,
      "outputs": []
    },
    {
      "cell_type": "markdown",
      "source": [
        "### We will make a copy of the final data and try some models"
      ],
      "metadata": {
        "id": "iYPeUSOEferF"
      }
    },
    {
      "cell_type": "code",
      "source": [
        "model_data_1 = final_data.copy() #shallow copy method so that final data should not get modified"
      ],
      "metadata": {
        "id": "K9i_ee_Dflpn"
      },
      "execution_count": null,
      "outputs": []
    },
    {
      "cell_type": "code",
      "source": [
        "model_data_1 = model_data_1.dropna()\n",
        "\n",
        "null_variables = round((model_data_1.isna().sum()/len(model_data_1))*100,2)\n",
        "print(model_data_1.cv2_cphss.value_counts())\n",
        "null_variables"
      ],
      "metadata": {
        "id": "mUt_yHG7gE4L"
      },
      "execution_count": null,
      "outputs": []
    },
    {
      "cell_type": "code",
      "source": [
        "vars_to_drop = ['cv2_cc', 'cv2_phx_yn', 'hypertension', 'diabetes', 'chest_disease',\n",
        "       'heart_disease', 'tuberculosis', 'hepatitis', 'liver', 'allergy',\n",
        "       'cancer', 'renal_failure', 'Datetime']\n",
        "\n",
        "cat_columns = model_data_1.select_dtypes(['object']).columns\n",
        "cat_columns"
      ],
      "metadata": {
        "id": "4gOlWQM5eSQ0"
      },
      "execution_count": null,
      "outputs": []
    },
    {
      "cell_type": "code",
      "source": [
        "model_data_1[cat_columns] = model_data_1[cat_columns].apply(lambda x: pd.factorize(x)[0])"
      ],
      "metadata": {
        "id": "IJcOlGvweusb"
      },
      "execution_count": null,
      "outputs": []
    },
    {
      "cell_type": "code",
      "source": [
        "def hy_di_disease(row):\n",
        "    if row['hypertension'] == 1 or row['diabetes'] == 1:\n",
        "        return 1\n",
        "    return 0\n",
        "\n",
        "model_data_1['hy_di_disease'] = model_data_1.apply(lambda row: hy_di_disease(row), axis=1)\n",
        "\n",
        "\n",
        "## Creating a past disease count variable\n",
        "model_data_1['Disease_counts'] = model_data_1['hypertension'] + model_data_1['diabetes'] + model_data_1['chest_disease'] + model_data_1['heart_disease'] + model_data_1['tuberculosis'] + model_data_1['hepatitis'] + model_data_1['liver'] + model_data_1['allergy'] + model_data_1['cancer'] + model_data_1['renal_failure']"
      ],
      "metadata": {
        "id": "wJslxEIrb7es"
      },
      "execution_count": null,
      "outputs": []
    },
    {
      "cell_type": "code",
      "source": [
        "model_data_1 = model_data_1.drop(vars_to_drop, axis = 1)\n",
        "print(model_data_1.shape)"
      ],
      "metadata": {
        "id": "c8IRWxLDhU60"
      },
      "execution_count": null,
      "outputs": []
    },
    {
      "cell_type": "code",
      "source": [
        "model_data_1.head()"
      ],
      "metadata": {
        "id": "9o9vct_qhnZW"
      },
      "execution_count": null,
      "outputs": []
    },
    {
      "cell_type": "code",
      "source": [
        "model_data_1.to_csv('/content/drive/MyDrive/Stroke_Prediction/Data/Modelling Data/model_data1_2021_2022.csv', index = False)"
      ],
      "metadata": {
        "id": "L2PDrAWTn7n6"
      },
      "execution_count": null,
      "outputs": []
    },
    {
      "cell_type": "markdown",
      "source": [
        "### We will make a more refined copy of the final data and try some models"
      ],
      "metadata": {
        "id": "KJwJ3JqjvFbx"
      }
    },
    {
      "cell_type": "code",
      "source": [
        "model_data_2 = final_data.copy() #shallow copy method so that final data should not get modified"
      ],
      "metadata": {
        "id": "MO2e4VDevIOQ"
      },
      "execution_count": null,
      "outputs": []
    },
    {
      "cell_type": "code",
      "source": [
        "vars_to_drop = ['cv2_cc', 'cv2_phx_yn', 'hypertension', 'diabetes', 'chest_disease',\n",
        "       'heart_disease', 'tuberculosis', 'hepatitis', 'liver', 'allergy',\n",
        "       'cancer', 'renal_failure', 'Datetime', 'dbp2', 'sbp2', 'pr2', 'rr2', 'bt2', 'spo2_2',\n",
        "       'onset', 'test1', 'call_d', 'call_t']\n",
        "\n",
        "cat_columns = model_data_2.select_dtypes(['object']).columns\n",
        "cat_columns"
      ],
      "metadata": {
        "id": "O6DeIq3JvSgW"
      },
      "execution_count": null,
      "outputs": []
    },
    {
      "cell_type": "code",
      "source": [
        "model_data_2[cat_columns] = model_data_2[cat_columns].apply(lambda x: pd.factorize(x)[0])"
      ],
      "metadata": {
        "id": "2XT0PsUuvyxL"
      },
      "execution_count": null,
      "outputs": []
    },
    {
      "cell_type": "code",
      "source": [
        "def hy_di_disease(row):  \n",
        "    if row['hypertension'] == 1 or row['diabetes'] == 1:\n",
        "        return 1\n",
        "    return 0\n",
        "\n",
        "model_data_2['hy_di_disease'] = model_data_2.apply(lambda row: hy_di_disease(row), axis=1)\n",
        "\n",
        "\n",
        "## Creating a past disease count variable\n",
        "model_data_2['Disease_counts'] = model_data_2['hypertension'] + model_data_2['diabetes'] + model_data_2['chest_disease'] + model_data_2['heart_disease'] + model_data_2['tuberculosis'] + model_data_2['hepatitis'] + model_data_2['liver'] + model_data_2['allergy'] + model_data_2['cancer'] + model_data_2['renal_failure']"
      ],
      "metadata": {
        "id": "Ch699rGXv3F4"
      },
      "execution_count": null,
      "outputs": []
    },
    {
      "cell_type": "code",
      "source": [
        "model_data_2 = model_data_2.drop(vars_to_drop, axis = 1)\n",
        "print(model_data_2.shape)"
      ],
      "metadata": {
        "id": "GSFrv45EwHWS"
      },
      "execution_count": null,
      "outputs": []
    },
    {
      "cell_type": "code",
      "source": [
        "null_variables = round((model_data_2.isna().sum()/len(model_data_2))*100,2)\n",
        "print(null_variables)\n",
        "model_data_2 = model_data_2.dropna()\n",
        "\n",
        "null_variables = round((model_data_2.isna().sum()/len(model_data_2))*100,2)\n",
        "print(model_data_2.cv2_cphss.value_counts())\n",
        "null_variables"
      ],
      "metadata": {
        "id": "yuMq0Dr1wmLn"
      },
      "execution_count": null,
      "outputs": []
    },
    {
      "cell_type": "code",
      "source": [
        "model_data_2.to_csv('/content/drive/MyDrive/Stroke_Prediction/Data/Modelling Data/model_data2_2021_2022.csv', index = False)"
      ],
      "metadata": {
        "id": "VAjHGGrCwM1Y"
      },
      "execution_count": null,
      "outputs": []
    }
  ]
}